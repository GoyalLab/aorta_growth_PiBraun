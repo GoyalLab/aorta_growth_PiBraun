{
 "cells": [
  {
   "cell_type": "code",
   "execution_count": 1,
   "metadata": {},
   "outputs": [],
   "source": [
    "import pandas as pd\n",
    "from scipy.stats import ttest_ind\n",
    "from scipy.stats import mannwhitneyu"
   ]
  },
  {
   "cell_type": "code",
   "execution_count": 2,
   "metadata": {},
   "outputs": [],
   "source": [
    "df_first_wave_cluster = pd.read_csv(\"results/firstWave_clusterSizes_noBorder.csv\")\n",
    "df_second_wave_cluster = pd.read_csv(\"results/P19_allClusterSizes_noBorder.csv\")"
   ]
  },
  {
   "cell_type": "code",
   "execution_count": 11,
   "metadata": {},
   "outputs": [],
   "source": [
    "perc_singletons_firstWave_16hrs = df_first_wave_cluster.loc[(df_first_wave_cluster.duration == 16) & (df_first_wave_cluster.clusterSize == 1)]['fraction'].values\n",
    "perc_singletons_firstWave_72hrs = df_first_wave_cluster.loc[(df_first_wave_cluster.duration == 72) & (df_first_wave_cluster.clusterSize == 1)]['fraction'].values\n",
    "\n",
    "df_second_wave_cluster_24hrs = df_second_wave_cluster.loc[(df_second_wave_cluster.duration == 24) & (df_second_wave_cluster.clusterSize == 1)]['fraction'].values\n",
    "df_second_wave_cluster_72hrs = df_second_wave_cluster.loc[(df_second_wave_cluster.duration == 72) & (df_second_wave_cluster.clusterSize == 1)]['fraction'].values"
   ]
  },
  {
   "cell_type": "code",
   "execution_count": 31,
   "metadata": {},
   "outputs": [
    {
     "name": "stdout",
     "output_type": "stream",
     "text": [
      "t-statistic: -3.2914426677553292\n",
      "p-value: 0.021678997675228722\n"
     ]
    }
   ],
   "source": [
    "# first wave\n",
    "# Perform independent t-test\n",
    "t_stat, p_value = ttest_ind(perc_singletons_firstWave_16hrs, perc_singletons_firstWave_72hrs, equal_var=True)  # Use equal_var=False for Welch's t-test\n",
    "\n",
    "print(\"t-statistic:\", t_stat)\n",
    "print(\"p-value:\", p_value)"
   ]
  },
  {
   "cell_type": "code",
   "execution_count": 16,
   "metadata": {},
   "outputs": [
    {
     "name": "stdout",
     "output_type": "stream",
     "text": [
      "U-statistic: 0.0\n",
      "p-value: 0.05714285714285714\n"
     ]
    }
   ],
   "source": [
    "# Perform Mann-Whitney U test\n",
    "u_stat, p_value = mannwhitneyu(perc_singletons_firstWave_16hrs, perc_singletons_firstWave_72hrs, alternative='two-sided')  # 'two-sided', 'less', or 'greater'\n",
    "\n",
    "print(\"U-statistic:\", u_stat)\n",
    "print(\"p-value:\", p_value)"
   ]
  },
  {
   "cell_type": "code",
   "execution_count": 38,
   "metadata": {},
   "outputs": [
    {
     "name": "stdout",
     "output_type": "stream",
     "text": [
      "t-statistic: -16.34920365422205\n",
      "p-value: 8.192377826406224e-05\n"
     ]
    }
   ],
   "source": [
    "# 2nd wave\n",
    "# Perform independent t-test\n",
    "t_stat, p_value = ttest_ind(df_second_wave_cluster_24hrs, df_second_wave_cluster_72hrs, equal_var=True)  # Use equal_var=False for Welch's t-test\n",
    "\n",
    "print(\"t-statistic:\", t_stat)\n",
    "print(\"p-value:\", p_value)"
   ]
  },
  {
   "cell_type": "code",
   "execution_count": 18,
   "metadata": {},
   "outputs": [
    {
     "name": "stdout",
     "output_type": "stream",
     "text": [
      "U-statistic: 0.0\n",
      "p-value: 0.06360256962075367\n"
     ]
    }
   ],
   "source": [
    "# Perform Mann-Whitney U test\n",
    "u_stat, p_value = mannwhitneyu(df_second_wave_cluster_24hrs, df_second_wave_cluster_72hrs, alternative='two-sided')  # 'two-sided', 'less', or 'greater'\n",
    "\n",
    "print(\"U-statistic:\", u_stat)\n",
    "print(\"p-value:\", p_value)"
   ]
  },
  {
   "cell_type": "code",
   "execution_count": 19,
   "metadata": {},
   "outputs": [],
   "source": [
    "#distance singletons\n",
    "df_dist = pd.read_csv(\"results/normalizedDistances_72hr.csv\")"
   ]
  },
  {
   "cell_type": "code",
   "execution_count": 21,
   "metadata": {},
   "outputs": [
    {
     "data": {
      "text/plain": [
       "array(['singleton', 'withinCluster', 'betweenCluster'], dtype=object)"
      ]
     },
     "execution_count": 21,
     "metadata": {},
     "output_type": "execute_result"
    }
   ],
   "source": [
    "df_dist['type'].unique()"
   ]
  },
  {
   "cell_type": "code",
   "execution_count": 22,
   "metadata": {},
   "outputs": [],
   "source": [
    "singleton_distance = df_dist.loc[df_dist['type'] == 'singleton']['normalizedDistance'].values\n",
    "\n",
    "betweencluster_distance = df_dist.loc[df_dist['type'] == 'betweenCluster']['normalizedDistance'].values\n",
    "withincluster_distance = df_dist.loc[df_dist['type'] == 'withinCluster']['normalizedDistance'].values\n",
    "withincluster_distanceDouble = 2* withincluster_distance\n"
   ]
  },
  {
   "cell_type": "code",
   "execution_count": 32,
   "metadata": {},
   "outputs": [
    {
     "name": "stdout",
     "output_type": "stream",
     "text": [
      "t-statistic: 10.166928405641489\n",
      "p-value: 5.239357200070678e-20\n"
     ]
    }
   ],
   "source": [
    "# singleton vs within cluster\n",
    "# Perform independent t-test\n",
    "t_stat, p_value = ttest_ind(singleton_distance, withincluster_distance, equal_var=False)  # Use equal_var=False for Welch's t-test\n",
    "\n",
    "print(\"t-statistic:\", t_stat)\n",
    "print(\"p-value:\", p_value)"
   ]
  },
  {
   "cell_type": "code",
   "execution_count": 33,
   "metadata": {},
   "outputs": [
    {
     "name": "stdout",
     "output_type": "stream",
     "text": [
      "t-statistic: 6.182140716574197\n",
      "p-value: 3.2154456913317725e-09\n"
     ]
    }
   ],
   "source": [
    "# singleton vs within cluster double\n",
    "# Perform independent t-test\n",
    "t_stat, p_value = ttest_ind(singleton_distance, withincluster_distanceDouble, equal_var=False)  # Use equal_var=False for Welch's t-test\n",
    "\n",
    "print(\"t-statistic:\", t_stat)\n",
    "print(\"p-value:\", p_value)"
   ]
  },
  {
   "cell_type": "code",
   "execution_count": 36,
   "metadata": {},
   "outputs": [
    {
     "name": "stdout",
     "output_type": "stream",
     "text": [
      "t-statistic: 1.8105302870877271\n",
      "p-value: 0.07142875517874826\n"
     ]
    }
   ],
   "source": [
    "# singleton vs within cluster\n",
    "# Perform independent t-test\n",
    "t_stat, p_value = ttest_ind(singleton_distance, betweencluster_distance, equal_var=False)  # Use equal_var=False for Welch's t-test\n",
    "\n",
    "print(\"t-statistic:\", t_stat)\n",
    "print(\"p-value:\", p_value)"
   ]
  },
  {
   "cell_type": "code",
   "execution_count": 27,
   "metadata": {},
   "outputs": [
    {
     "data": {
      "text/plain": [
       "3.0607020148718176"
      ]
     },
     "execution_count": 27,
     "metadata": {},
     "output_type": "execute_result"
    }
   ],
   "source": [
    "betweencluster_distance.mean()"
   ]
  },
  {
   "cell_type": "code",
   "execution_count": 28,
   "metadata": {},
   "outputs": [
    {
     "data": {
      "text/plain": [
       "3.531415509398105"
      ]
     },
     "execution_count": 28,
     "metadata": {},
     "output_type": "execute_result"
    }
   ],
   "source": [
    "singleton_distance.mean()"
   ]
  }
 ],
 "metadata": {
  "kernelspec": {
   "display_name": "Python 3",
   "language": "python",
   "name": "python3"
  },
  "language_info": {
   "codemirror_mode": {
    "name": "ipython",
    "version": 3
   },
   "file_extension": ".py",
   "mimetype": "text/x-python",
   "name": "python",
   "nbconvert_exporter": "python",
   "pygments_lexer": "ipython3",
   "version": "3.8.0"
  }
 },
 "nbformat": 4,
 "nbformat_minor": 2
}

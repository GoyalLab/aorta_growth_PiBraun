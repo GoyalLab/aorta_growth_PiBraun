{
 "cells": [
  {
   "cell_type": "code",
   "execution_count": 3,
   "metadata": {
    "collapsed": false,
    "pycharm": {
     "name": "#%%\n"
    }
   },
   "outputs": [],
   "source": [
    "import numpy as np\n",
    "import pandas as pd\n",
    "import os\n",
    "from os import listdir\n",
    "from os.path import isfile, join"
   ]
  },
  {
   "cell_type": "code",
   "execution_count": 6,
   "metadata": {
    "collapsed": false,
    "pycharm": {
     "name": "#%%\n"
    }
   },
   "outputs": [],
   "source": [
    "dataPath = \"segmentations/inducedRainbow/final/orange\""
   ]
  },
  {
   "cell_type": "code",
   "execution_count": 7,
   "metadata": {
    "collapsed": false,
    "pycharm": {
     "name": "#%%\n"
    }
   },
   "outputs": [],
   "source": [
    "folders = [x[0] for x in os.walk(dataPath)]\n",
    "folders = sorted(folders)"
   ]
  },
  {
   "cell_type": "code",
   "execution_count": null,
   "metadata": {
    "collapsed": false,
    "pycharm": {
     "name": "#%%\n"
    }
   },
   "outputs": [],
   "source": [
    "allClusterSizes = []\n",
    "for folder in folders:\n",
    "    os.chdir(folder)\n",
    "    files = [f for f in listdir(folder) if isfile(join(folder, f)) if \".DS_Store\" not in f if \".npy\" in f if \"._\" not in f if \"clusterSize\" in f]\n",
    "    for file in files:\n",
    "        cluster = np.load(join(folder, file), allow_pickle=True).item()\n",
    "        clusterSizes = []\n",
    "        for key in cluster:\n",
    "            clusterSizes.append(len(cluster[key]))\n",
    "        allClusterSizes.append(np.max(clusterSizes))\n",
    "\n",
    "maxClusterSize = np.max(allClusterSizes)\n",
    "columnList = [\"age\", \"aorta\"]\n",
    "for i in range(maxClusterSize):\n",
    "    columnList.append(str(i+1))\n",
    "dfResults = pd.DataFrame(columns=columnList)\n",
    "\n",
    "for folder in folders:\n",
    "    os.chdir(folder)\n",
    "    files = [f for f in listdir(folder) if isfile(join(folder, f)) if \".DS_Store\" not in f if \".npy\" in f if \"._\" not in f if \"clusterSize\" in f]\n",
    "    for file in files:\n",
    "        cluster = np.load(join(folder, file), allow_pickle=True).item()\n",
    "        clusterSizes = []\n",
    "        for key in cluster:\n",
    "            clusterSizes.append(len(cluster[key]))\n",
    "        clusterSizes = np.asarray(clusterSizes)\n",
    "        unique, count = np.unique(clusterSizes, return_counts=True)\n",
    "        aorta = folder.split(\"/\")[-1]\n",
    "        age = folder.split(\"/\")[-2]\n",
    "        row = [age, aorta]\n",
    "        for i in range(maxClusterSize):\n",
    "            if count[np.where(unique == (i+1))].size == 0:\n",
    "                row.append(0)\n",
    "            else:\n",
    "                row.append(count[np.where(unique == (i+1))][0])\n",
    "        dfResults = dfResults.append(pd.DataFrame([row], columns=columnList))"
   ]
  },
  {
   "cell_type": "code",
   "execution_count": 11,
   "metadata": {
    "collapsed": false,
    "pycharm": {
     "name": "#%%\n"
    }
   },
   "outputs": [],
   "source": [
    "dfResults.to_csv(\"results/inducedRainbow/allClusterSizesOrange.csv\", index=False)"
   ]
  }
 ],
 "metadata": {
  "kernelspec": {
   "display_name": "Python 3",
   "language": "python",
   "name": "python3"
  },
  "language_info": {
   "codemirror_mode": {
    "name": "ipython",
    "version": 2
   },
   "file_extension": ".py",
   "mimetype": "text/x-python",
   "name": "python",
   "nbconvert_exporter": "python",
   "pygments_lexer": "ipython2",
   "version": "2.7.6"
  }
 },
 "nbformat": 4,
 "nbformat_minor": 0
}

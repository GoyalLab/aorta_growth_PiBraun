{
 "cells": [
  {
   "cell_type": "code",
   "execution_count": 2,
   "metadata": {},
   "outputs": [],
   "source": [
    "import numpy as np\n",
    "import pandas as pd\n",
    "from skimage.measure import regionprops_table\n",
    "import matplotlib.pyplot as plt"
   ]
  },
  {
   "cell_type": "code",
   "execution_count": 2,
   "metadata": {},
   "outputs": [],
   "source": [
    "dfPath = 'results/eduSignalPruningFilter.csv'\n",
    "cellSegPath = 'segmentations/cellCycleEdUPruning/cellShape/pruningCellNEW_seg.npy'\n",
    "nucSegPath = 'segmentations/cellCycleEdUPruning/nuclei/pruningEDU_nuc_seg.npy'"
   ]
  },
  {
   "cell_type": "code",
   "execution_count": 3,
   "metadata": {},
   "outputs": [],
   "source": [
    "nuc = np.load(nucSegPath, allow_pickle=True).item()['masks']\n",
    "cells = np.load(cellSegPath, allow_pickle=True).item()['masks']\n",
    "df = pd.read_csv(dfPath)"
   ]
  },
  {
   "cell_type": "code",
   "execution_count": 4,
   "metadata": {},
   "outputs": [],
   "source": [
    "#extract relevant information of cell area\n",
    "\n",
    "prop_dict = regionprops_table(nuc, properties = ('label', 'area', 'major_axis_length', 'minor_axis_length'))\n",
    "dfNucs = pd.DataFrame(prop_dict)\n",
    "\n",
    "prop_dict = regionprops_table(cells, properties = ('label', 'area', 'major_axis_length', 'minor_axis_length'))\n",
    "dfCells= pd.DataFrame(prop_dict)"
   ]
  },
  {
   "cell_type": "code",
   "execution_count": 8,
   "metadata": {},
   "outputs": [],
   "source": [
    "dfCells.to_csv('results/pruningEDU/cellStats.csv', index=False)"
   ]
  }
 ],
 "metadata": {
  "kernelspec": {
   "display_name": "Python 3",
   "language": "python",
   "name": "python3"
  },
  "language_info": {
   "codemirror_mode": {
    "name": "ipython",
    "version": 3
   },
   "file_extension": ".py",
   "mimetype": "text/x-python",
   "name": "python",
   "nbconvert_exporter": "python",
   "pygments_lexer": "ipython3",
   "version": "3.8.0"
  }
 },
 "nbformat": 4,
 "nbformat_minor": 2
}

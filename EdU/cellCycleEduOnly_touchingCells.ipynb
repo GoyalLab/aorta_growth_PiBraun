{
 "cells": [
  {
   "cell_type": "code",
   "execution_count": 1,
   "metadata": {
    "ExecuteTime": {
     "end_time": "2023-06-14T14:18:53.839739Z",
     "start_time": "2023-06-14T14:18:51.164476Z"
    },
    "collapsed": true
   },
   "outputs": [],
   "source": [
    "import numpy as np\n",
    "import os\n",
    "import matplotlib.pyplot as plt\n",
    "import pandas as pd\n",
    "import colorsys\n",
    "from PIL import Image\n",
    "from collections import defaultdict\n",
    "from skimage.graph import pixel_graph\n",
    "import skimage\n",
    "from scipy.spatial.distance import cdist\n",
    "from skimage.measure import find_contours"
   ]
  },
  {
   "cell_type": "code",
   "execution_count": 40,
   "metadata": {
    "ExecuteTime": {
     "end_time": "2023-06-14T15:42:02.701249Z",
     "start_time": "2023-06-14T15:42:02.680170Z"
    },
    "collapsed": false
   },
   "outputs": [],
   "source": [
    "cellPath = 'segmentations/cellCycle/edUOnly/cellSize/P05/72hr/aorta01/cellCycleEdUOnlyImage_P05_72hr_aorta01_cellSize6New_seg.npy'\n",
    "nucPath = 'segmentations/cellCycle/edUOnly/nuclei/P05/72hr/aorta01/cellCycleEdUOnlyImage_P05_72hr_aorta01_nuclei6_seg.npy'\n",
    "filterPath = 'results/cellCycle/edUOnly/thresholded/P05/72hr/aorta01/eduActive_P05_72hr_72hr_6.csv'\n",
    "savePath = \"results/cellCycle/edUOnly/clusteredCells/P05/72hr/aorta01/clusteredActiveCells_P05_72hr_aorta01_6Updated.csv\""
   ]
  },
  {
   "cell_type": "code",
   "execution_count": 41,
   "metadata": {
    "ExecuteTime": {
     "end_time": "2023-06-14T15:42:06.238739Z",
     "start_time": "2023-06-14T15:42:06.237013Z"
    },
    "collapsed": false
   },
   "outputs": [],
   "source": [
    "def merge_dictionary_keys(dictionary):\n",
    "    merged_dictionary = {}\n",
    "\n",
    "    # Iterate over each key-value pair in the dictionary\n",
    "    for key, value in dictionary.items():\n",
    "        merged = False\n",
    "\n",
    "        # Check if any existing merged key already contains common values with the current key\n",
    "        for merged_key, merged_value in merged_dictionary.items():\n",
    "            if np.intersect1d(value, merged_value).size > 0:\n",
    "                # Merge the current key with the existing merged key\n",
    "                merged_dictionary[merged_key] = np.union1d(value, merged_value)\n",
    "                merged = True\n",
    "                break\n",
    "\n",
    "        if not merged:\n",
    "            # Add the current key-value pair to the merged dictionary\n",
    "            merged_dictionary[key] = value\n",
    "\n",
    "    return merged_dictionary"
   ]
  },
  {
   "cell_type": "code",
   "execution_count": null,
   "metadata": {
    "ExecuteTime": {
     "end_time": "2023-06-14T15:42:10.353593Z",
     "start_time": "2023-06-14T15:42:06.239178Z"
    },
    "collapsed": false
   },
   "outputs": [],
   "source": [
    "\n",
    "#load data\n",
    "nucs = np.load(nucPath, allow_pickle=True).item()['masks']\n",
    "dfFilter = pd.read_csv(filterPath)\n",
    "cells = np.load(cellPath, allow_pickle=True).item()['masks']\n",
    "\n",
    "#filter active nucs\n",
    "nucsFilter = np.where(np.isin(nucs,dfFilter['label'].values), nucs, 0)\n",
    "\n",
    "# get cellIDs of active nuclei\n",
    "cellIds = np.array([0])\n",
    "for i in np.unique(nucsFilter):\n",
    "    if i != 0: #skip background\n",
    "        unique , counts = np.unique(cells[nucsFilter==i], return_counts = True)\n",
    "        uniqueNew = []\n",
    "        for i in range(len(unique)):\n",
    "            if unique[i] != 0:\n",
    "                if (counts[i]/counts.sum()) >= 0.1:\n",
    "                    uniqueNew.append(unique[i])\n",
    "        cellIds = np.concatenate([cellIds, np.asarray(uniqueNew)])\n",
    "cellIds = cellIds[np.nonzero(cellIds)]\n",
    "cellsFilter = np.where(np.isin(cells,cellIds), cells, 0)\n",
    "\n",
    "#get contours of active cells\n",
    "contours = {}\n",
    "for label in np.unique(cellsFilter):\n",
    "    if label != 0:\n",
    "        # Create a binary mask for the current cell and find its contours\n",
    "        maskFilt  = np.where(cellsFilter == label, 1, 0)\n",
    "        contours[label] = find_contours(maskFilt.astype(float), level=0.5)[0]\n",
    "\n",
    "#### get clusters\n",
    "clustersOld = {}\n",
    "k = 1\n",
    "keys = list(contours.keys()) # List of cell contour keys\n",
    "for i, key1 in enumerate(keys):\n",
    "    clustersOld[k] = [key1]\n",
    "    for key2 in keys[i + 1:]:\n",
    "        # Calculate minimum distance between contour points of two cell contours (= min distance between 2 cells)\n",
    "        dist = cdist(contours[key1], contours[key2]).min()\n",
    "        # If cells are less than 11 pixels apart, define as cluster\n",
    "        if dist <= 11:\n",
    "            value_exists = any(key1 in array for array in clustersOld.values())\n",
    "            # If key1 is already in a cluster, append key2 to that cluster\n",
    "            if value_exists:\n",
    "                for key, value in clustersOld.items():\n",
    "                    if key1 in value:\n",
    "                        clustersOld[key].append(key2)\n",
    "    k += 1\n",
    "\n",
    "for key, value in clustersOld.items():\n",
    "    # Convert the list value into a NumPy array\n",
    "    clustersOld[key] = np.array(value)\n",
    "clusters = merge_dictionary_keys(clustersOld)\n",
    "\n",
    "#generate cluster image from EdU active cells\n",
    "clustersImage = cellsFilter.copy()\n",
    "for key in clusters.keys():\n",
    "    for cell in clusters[key]:\n",
    "        clustersImage = np.where(clustersImage == cell, key, clustersImage)\n",
    "\n",
    "#label clusters in df\n",
    "dfFilter['cluster'] = 0\n",
    "k = 1\n",
    "for cluster in np.unique(clustersImage):\n",
    "    if cluster != 0:\n",
    "         # Get unique nuclei corresponding to the current cluster\n",
    "        unique = np.unique(nucsFilter[np.where(clustersImage == cluster)])\n",
    "        uniqueWOZero = unique[np.nonzero(unique)]\n",
    "        if len(uniqueWOZero) > 0:\n",
    "            dfFilter.loc[dfFilter['label'].isin(uniqueWOZero), 'cluster'] = cluster\n",
    "\n",
    "# Check for clusters touching the image border\n",
    "borderingCoord = np.concatenate(([0,1,2,3,4,5], np.arange(clustersImage.shape[0] -6, clustersImage.shape[0])))\n",
    "dfFilter['border'] = 0\n",
    "for cl in np.unique(clustersImage):\n",
    "    if cl != 0:\n",
    "        # Check if any part of the cluster touches the defined border coordinates\n",
    "        if np.any(np.isin(np.where(clustersImage == cl), borderingCoord)) == True:\n",
    "            dfFilter.loc[dfFilter['cluster'] == cl, 'border'] = 1\n",
    "\n",
    "# get graph of cell boundaries to check which cells are touching each other\n",
    "label_mask = cells # load your image here\n",
    "g, nodes = pixel_graph(\n",
    "    label_mask,\n",
    "    mask=label_mask.astype(bool),\n",
    "    connectivity=2,  # count diagonals in 2D\n",
    ")\n",
    "g.eliminate_zeros() # Remove zero weights from the graph\n",
    "coo = g.tocoo()\n",
    "center_coords = nodes[coo.row]\n",
    "neighbor_coords = nodes[coo.col]\n",
    "center_values = label_mask.ravel()[center_coords]\n",
    "neighbor_values = label_mask.ravel()[neighbor_coords]\n",
    "pairs = defaultdict(list)\n",
    "for i, j in zip(center_values, neighbor_values):\n",
    "    pairs[i].append(j)\n",
    "# Check neighboring cells of clusters and if they are touching the image border\n",
    "dfFilter['borderNeighbour'] = 0\n",
    "borderingNucs = np.concatenate(([0,1,2], np.arange(clustersImage.shape[0] -3, clustersImage.shape[0])))\n",
    "for cl in np.unique(clustersImage):\n",
    "    if cl != 0:\n",
    "        unique = np.unique(cells[np.where(clustersImage == cl)])\n",
    "        uniqueWOZero = unique[np.nonzero(unique)]\n",
    "        for i in uniqueWOZero:\n",
    "            touching = np.unique(pairs[i])\n",
    "            for t in touching:\n",
    "                if t != cl:\n",
    "                    #check which cells are touching border\n",
    "                    if np.any(np.isin(np.where(cells == t), borderingCoord)) == True:\n",
    "                        #check for which cells I don't see the nucleus full\n",
    "                        uniqueNucs = np.unique(nucs[cells == t])\n",
    "                        uniqueNucs = uniqueNucs[np.nonzero(uniqueNucs)]\n",
    "                        for nuc in uniqueNucs:\n",
    "                            if np.any(np.isin(np.where(nucs == nuc), borderingNucs)) == True:\n",
    "                                dfFilter.loc[dfFilter['cluster'] == cl, 'borderNeighbour'] = 1"
   ]
  },
  {
   "cell_type": "code",
   "execution_count": 214,
   "metadata": {
    "ExecuteTime": {
     "end_time": "2023-06-12T12:54:54.806556Z",
     "start_time": "2023-06-12T12:54:54.427973Z"
    },
    "collapsed": false
   },
   "outputs": [],
   "source": [
    "dfFilter.to_csv(savePath, index=False)"
   ]
  },
  {
   "cell_type": "code",
   "execution_count": null,
   "metadata": {
    "collapsed": false
   },
   "outputs": [],
   "source": []
  }
 ],
 "metadata": {
  "kernelspec": {
   "display_name": "LuisaProject",
   "language": "python",
   "name": "luisaproject"
  },
  "language_info": {
   "codemirror_mode": {
    "name": "ipython",
    "version": 2
   },
   "file_extension": ".py",
   "mimetype": "text/x-python",
   "name": "python",
   "nbconvert_exporter": "python",
   "pygments_lexer": "ipython2",
   "version": "2.7.6"
  }
 },
 "nbformat": 4,
 "nbformat_minor": 0
}

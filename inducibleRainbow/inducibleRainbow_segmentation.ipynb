{
 "cells": [
  {
   "cell_type": "code",
   "execution_count": 3,
   "metadata": {
    "ExecuteTime": {
     "end_time": "2023-06-04T12:36:58.995913Z",
     "start_time": "2023-06-04T12:36:50.031110Z"
    },
    "collapsed": false,
    "pycharm": {
     "name": "#%%\n"
    }
   },
   "outputs": [],
   "source": [
    "import cv2\n",
    "import numpy as np\n",
    "from skimage import measure, color, io\n",
    "import io\n",
    "import pandas as pd\n",
    "from skimage import img_as_ubyte, exposure\n",
    "from skimage.measure import regionprops_table\n",
    "import matplotlib.pyplot as plt\n",
    "from utils.nucStitch import fullNucImage16\n",
    "import os\n",
    "import skimage\n",
    "from PIL import Image\n",
    "from inducedRainbow.waterShedSegmentation import watershed\n",
    "from os import listdir\n",
    "from os.path import isfile, join\n",
    "from utils.visualization import plotMasks"
   ]
  },
  {
   "cell_type": "code",
   "execution_count": 4,
   "metadata": {
    "ExecuteTime": {
     "end_time": "2023-06-04T12:36:59.000232Z",
     "start_time": "2023-06-04T12:36:58.998696Z"
    },
    "collapsed": false,
    "pycharm": {
     "name": "#%%\n"
    }
   },
   "outputs": [],
   "source": [
    "thresholdedInput = \"/Volumes/Aorta/aorta/preprocessedImages/rainbow/inducedRainbow/thresholded/orange/0-5\"\n",
    "nucPath = \"/Volumes/Aorta/aorta/segmentations/inducedRainbow/final/nuclei\"\n",
    "savingPath = '/Volumes/Aorta/aorta/segmentations/inducedRainbow/old/orange2'\n",
    "stitchingPath = \"/Volumes/Aorta/aorta/preprocessedImages/rainbow/inducedRainbow/stitched\"\n",
    "channel = \"orange\"\n",
    "distTransformMultiplyer = 0.01"
   ]
  },
  {
   "cell_type": "code",
   "execution_count": 5,
   "metadata": {
    "ExecuteTime": {
     "end_time": "2023-06-04T12:36:59.213346Z",
     "start_time": "2023-06-04T12:36:59.001429Z"
    },
    "collapsed": false,
    "pycharm": {
     "name": "#%%\n"
    }
   },
   "outputs": [],
   "source": [
    "folders = [x[0] for x in os.walk(thresholdedInput)]\n",
    "folders = sorted(folders)"
   ]
  },
  {
   "cell_type": "code",
   "execution_count": null,
   "metadata": {
    "ExecuteTime": {
     "end_time": "2023-06-04T12:42:00.326569Z",
     "start_time": "2023-06-04T12:39:06.130108Z"
    },
    "collapsed": false,
    "pycharm": {
     "name": "#%%\n"
    }
   },
   "outputs": [],
   "source": [
    "for folder in folders:\n",
    "    os.chdir(folder)\n",
    "    files = [f for f in listdir(folder) if isfile(join(folder, f)) if \".DS_Store\" not in f if \"8bit.tif\" in f if \"._\" not in f]\n",
    "    for file in files:\n",
    "        aorta = folder.split(\"/\")[-1]\n",
    "        age = folder.split(\"/\")[-2]\n",
    "        nucleiPath = join(nucPath, age, aorta)\n",
    "        savePath = join(savingPath, age, aorta)\n",
    "        stitchPath = join(stitchingPath, age, aorta)\n",
    "        imagePath = join(folder, file)\n",
    "\n",
    "        if not os.path.exists(savePath):\n",
    "            os.makedirs(savePath)\n",
    "\n",
    "        npy_file = \"clusterSize_\" + channel + \"_\" + age + \"_\" + aorta + \"_50ThresCellpose.npy\"\n",
    "        cellposeFileName = \"cellposeSegm_\" + channel + \"_\" + age + \"_\" + aorta + \"_50ThresCellpose.npy\"\n",
    "        imageSavename = \"numbersSegmentationImage_\" + channel + \"_\" + age + \"_\" + aorta + \"_50Thres_Cellpose.tif\"\n",
    "        npy_fileMarkers = \"markersImage_\" + channel + \"_\" + age + \"_\" + aorta + \"_50Thres_Cellpose.npy\"\n",
    "\n",
    "        df = pd.DataFrame()\n",
    "        nuclei = np.load(join(nucleiPath, \"Cropped_IMG-1_seg.npy\"), allow_pickle=True).item()['masks']\n",
    "        yLength = nuclei.shape[0]\n",
    "        xLength = nuclei.shape[1]\n",
    "        for i in range(16):\n",
    "            number = i+1\n",
    "            nuclei = np.load(join(nucleiPath, \"Cropped_IMG-\" + str(number) + '_seg.npy'), allow_pickle=True).item()['masks']\n",
    "            row = int(i/4) + 1\n",
    "            column  = (i%4) + 1\n",
    "            prop_dict = regionprops_table(nuclei, properties = ('label', 'centroid'))\n",
    "            df_help = pd.DataFrame(prop_dict)\n",
    "            df_help['picture_id'] = number\n",
    "            df_help['yCoord'] = df_help['centroid-0']*row\n",
    "            df_help['xCoord'] = df_help['centroid-1']*column\n",
    "            df = pd.concat([df, df_help], axis=0)\n",
    "        nucImage = fullNucImage16(nucleiPath)\n",
    "        nucleiFiltered = np.copy(nucImage)\n",
    "        markersNew = watershed(imagePath, distTransformMultiplyer)\n",
    "\n",
    "        # Count nuclei in segmentation and check if nuclei is mostly in segmentation\n",
    "        accuracy_value = 0.5\n",
    "        #get rid of outlines and different backgrounds\n",
    "        markersAnalyse = np.copy(markersNew)\n",
    "        #markersAnalyse[markersAnalyse == -1] = 0\n",
    "        nucAnalyze = np.copy(nucleiFiltered)\n",
    "\n",
    "        clusters = list()\n",
    "        dic = {}\n",
    "        for i in np.unique(markersAnalyse):\n",
    "            if (i != 0) & (i != -1):\n",
    "                cluster = list()\n",
    "                segmentationNuc = np.unique(nucAnalyze[np.where(markersAnalyse == i)])\n",
    "                for j in segmentationNuc:\n",
    "                    if j != 0:\n",
    "                        #occurence of nucleus pixel in\n",
    "                        nucOccur = np.bincount(nucAnalyze[np.where(markersAnalyse == i)])[j]\n",
    "                        #How many pixels does this nucleus have:\n",
    "                        coordLen = len(np.where(nucAnalyze == j)[0])\n",
    "                        #check if most of nuclei values are in segmentation\n",
    "                        if(nucOccur >= accuracy_value*coordLen):\n",
    "                            cluster.append(j)\n",
    "                if cluster:\n",
    "                    dic[i] = cluster\n",
    "                    clusters.append(cluster)\n",
    "                else:\n",
    "                    markersAnalyse[markersAnalyse == i] = 0\n",
    "\n",
    "        prop_dict = regionprops_table(markersAnalyse, properties = ('label', 'centroid'))\n",
    "        dfRainbow = pd.DataFrame(prop_dict)\n",
    "\n",
    "        #create a new nice image\n",
    "        minus1 = np.where(markersAnalyse == -1)\n",
    "        for i in range(len(minus1[0])):\n",
    "            minus1y = minus1[0][i]\n",
    "            minus1x = minus1[1][i]\n",
    "            if (minus1y != 0) & (minus1y != (markersAnalyse.shape[0] -1)) & (minus1x != 0) & (minus1x != (markersAnalyse.shape[1]-1)):\n",
    "                numbers = np.unique([markersAnalyse[minus1y - 1,minus1x], markersAnalyse[minus1y + 1,minus1x], markersAnalyse[minus1y,minus1x-1], markersAnalyse[minus1y,minus1x +1]])\n",
    "                uniqueMasks  = set(numbers) - set([-1, 0])\n",
    "                masks = list(uniqueMasks)\n",
    "                if len(masks) == 0:\n",
    "                    markersAnalyse[minus1y,minus1x] = 0\n",
    "        img1Filtered = cv2.imread(imagePath)\n",
    "        img1Filtered[markersAnalyse == -1] = [0,255,255]\n",
    "\n",
    "        fig, ax = plt.subplots(figsize=(36,15))\n",
    "        ax.imshow(img1Filtered)\n",
    "        for i in range(len(dfRainbow)):\n",
    "            ax.text(dfRainbow['centroid-1'][i], dfRainbow['centroid-0'][i], dfRainbow['label'][i], fontsize=9, color = 'red')\n",
    "        plt.show()\n",
    "\n",
    "        fig, ax = plt.subplots(figsize=(72,30))\n",
    "        ax.imshow(img1Filtered)\n",
    "        for i in range(len(dfRainbow)):\n",
    "            ax.text(dfRainbow['centroid-1'][i], dfRainbow['centroid-0'][i], dfRainbow['label'][i], fontsize=9, color = 'red')\n",
    "        png1 = io.BytesIO()\n",
    "        fig.savefig(png1, format=\"png\")\n",
    "        png2 = Image.open(png1)\n",
    "        png2.save(join(savePath, imageSavename))\n",
    "        png1.close()\n",
    "\n",
    "        png1.close()\n",
    "        os.chdir(savePath)\n",
    "        np.save(npy_file, dic)\n",
    "\n",
    "        markersdic = {}\n",
    "        markersdic['image'] = markersAnalyse\n",
    "        np.save(npy_fileMarkers,  markersdic)\n",
    "\n",
    "        cellposeFile = {}\n",
    "        #read in image\n",
    "        fileRed = [f for f in listdir(stitchPath) if isfile(join(stitchPath, f)) if \".DS_Store\" not in f if \"orange.tif\" in f if \"._\" not in f]\n",
    "        fileNuc = [f for f in listdir(stitchPath) if isfile(join(stitchPath, f)) if \".DS_Store\" not in f if \"nuclei.tif\" in f if \"._\" not in f]\n",
    "        originalImg = skimage.io.imread(join(stitchPath, fileRed[0]))\n",
    "        originalImg = np.where(originalImg < np.quantile(originalImg, 0.01), np.quantile(originalImg, 0.01),\n",
    "                                  (np.where(originalImg > np.quantile(originalImg, 0.99), np.quantile(originalImg, 0.99), originalImg)))\n",
    "        nucleiImg = skimage.io.imread(join(stitchPath, fileNuc[0]))\n",
    "        zeros = np.zeros(originalImg.shape, dtype=\"uint8\")\n",
    "        #8bit normalize & merge\n",
    "        dapi8bitNormalized= img_as_ubyte(exposure.rescale_intensity(nucleiImg))\n",
    "        rainbow8bitNormalized = img_as_ubyte(exposure.rescale_intensity(originalImg))\n",
    "        dapi8bitNormalized = np.asarray(dapi8bitNormalized)\n",
    "        dapi8bitNormalized = dapi8bitNormalized*0.1\n",
    "        dapi8bitNormalized = dapi8bitNormalized.astype(rainbow8bitNormalized.dtype)\n",
    "        merged8bitNormalized = cv2.merge([rainbow8bitNormalized, dapi8bitNormalized, zeros])\n",
    "        #define masks and outlines\n",
    "        masks = np.where(markersAnalyse==-1, 0, markersAnalyse)\n",
    "        outlines = np.where(markersAnalyse==-1,1,0)\n",
    "        #save in dic\n",
    "        cellposeFile['masks'] = masks\n",
    "        cellposeFile['img'] = merged8bitNormalized\n",
    "        cellposeFile['outlines'] = outlines\n",
    "        np.save(join(savePath, cellposeFileName),cellposeFile)"
   ]
  },
  {
   "cell_type": "code",
   "execution_count": 33,
   "metadata": {
    "collapsed": false,
    "pycharm": {
     "name": "#%%\n"
    }
   },
   "outputs": [],
   "source": []
  }
 ],
 "metadata": {
  "kernelspec": {
   "display_name": "LuisaProject",
   "language": "python",
   "name": "luisaproject"
  },
  "language_info": {
   "codemirror_mode": {
    "name": "ipython",
    "version": 2
   },
   "file_extension": ".py",
   "mimetype": "text/x-python",
   "name": "python",
   "nbconvert_exporter": "python",
   "pygments_lexer": "ipython2",
   "version": "2.7.6"
  }
 },
 "nbformat": 4,
 "nbformat_minor": 0
}

{
 "cells": [
  {
   "cell_type": "code",
   "execution_count": null,
   "metadata": {
    "collapsed": false,
    "pycharm": {
     "name": "#%%\n"
    }
   },
   "outputs": [],
   "source": [
    "import pandas as pd\n",
    "import numpy as np\n",
    "from os import listdir\n",
    "from os.path import isfile, join\n",
    "import fnmatch\n",
    "from os import listdir\n",
    "import os\n",
    "\n",
    "import ki67"
   ]
  },
  {
   "cell_type": "code",
   "execution_count": null,
   "metadata": {
    "collapsed": false,
    "pycharm": {
     "name": "#%%\n"
    }
   },
   "outputs": [],
   "source": [
    "inputPath = 'segmentations/KI67/tiled/nuclei'\n",
    "thresholdPath = 'results/KI67/threshold/thresholds_Updated2.csv'"
   ]
  },
  {
   "cell_type": "code",
   "execution_count": null,
   "metadata": {
    "collapsed": false,
    "pycharm": {
     "name": "#%%\n"
    }
   },
   "outputs": [],
   "source": [
    "files = [f for f in listdir(inputPath) if isfile(join(inputPath, f)) if \"coordinates\" in f]\n",
    "files = sorted(files)\n",
    "pattern = \"coordinates*\"\n",
    "files = fnmatch.filter(files, pattern)\n",
    "thresholds = pd.read_csv(thresholdPath)"
   ]
  },
  {
   "cell_type": "code",
   "execution_count": null,
   "metadata": {
    "collapsed": false,
    "pycharm": {
     "name": "#%%\n"
    }
   },
   "outputs": [],
   "source": [
    "df = pd.DataFrame()\n",
    "for file in files:\n",
    "    df_help = pd.read_csv(join(inputPath,file))\n",
    "    df_help[\"thresholdIntensity\"] = df_help.apply(lambda row: thresholding(row, \"thresholdIntensity\"), axis=1)\n",
    "    df_help[\"thresholdFraction\"] = df_help.apply(lambda row: thresholding(row, \"thresholdFraction\"), axis=1)\n",
    "    df_help[\"threshold\"] = df_help.apply(lambda row: threshold(row), axis=1)\n",
    "    df = pd.concat((df, df_help), ignore_index = True)"
   ]
  },
  {
   "cell_type": "code",
   "execution_count": 33,
   "metadata": {
    "collapsed": false,
    "pycharm": {
     "name": "#%%\n"
    }
   },
   "outputs": [],
   "source": [
    "dfAggregate = df.groupby([\"age\", \"aorta\", \"filenameNuc\"]).count()"
   ]
  },
  {
   "cell_type": "code",
   "execution_count": 30,
   "metadata": {
    "collapsed": false,
    "pycharm": {
     "name": "#%%\n"
    }
   },
   "outputs": [],
   "source": [
    "dfSave = df.groupby([\"age\", \"aorta\", \"filenameNuc\"]).mean()"
   ]
  },
  {
   "cell_type": "code",
   "execution_count": 31,
   "metadata": {
    "collapsed": false,
    "pycharm": {
     "name": "#%%\n"
    }
   },
   "outputs": [],
   "source": [
    "dfSave.to_csv('/Users/jones/Downloads/KI67Positive.csv')"
   ]
  },
  {
   "cell_type": "code",
   "execution_count": null,
   "metadata": {
    "collapsed": false,
    "pycharm": {
     "name": "#%%\n"
    }
   },
   "outputs": [],
   "source": [
    "dfResult = pd.pivot_table(df, values = 'threshold', index = ['age', 'aorta'], aggfunc=np.mean )"
   ]
  },
  {
   "cell_type": "code",
   "execution_count": 53,
   "metadata": {
    "collapsed": false,
    "pycharm": {
     "name": "#%%\n"
    }
   },
   "outputs": [],
   "source": [
    "dfResult.to_csv('results/KI67Positive.csv')"
   ]
  },
  {
   "cell_type": "code",
   "execution_count": null,
   "metadata": {},
   "outputs": [],
   "source": []
  }
 ],
 "metadata": {
  "kernelspec": {
   "display_name": "LuisaProject",
   "language": "python",
   "name": "luisaproject"
  },
  "language_info": {
   "codemirror_mode": {
    "name": "ipython",
    "version": 2
   },
   "file_extension": ".py",
   "mimetype": "text/x-python",
   "name": "python",
   "nbconvert_exporter": "python",
   "pygments_lexer": "ipython2",
   "version": "2.7.6"
  }
 },
 "nbformat": 4,
 "nbformat_minor": 0
}

{
 "cells": [
  {
   "cell_type": "code",
   "execution_count": 1,
   "metadata": {
    "collapsed": false,
    "pycharm": {
     "name": "#%%\n"
    }
   },
   "outputs": [],
   "source": [
    "import numpy as np\n",
    "import pandas as pd\n",
    "from os import listdir\n",
    "from os.path import isfile, join\n",
    "import os\n",
    "import skimage\n",
    "import cv2"
   ]
  },
  {
   "cell_type": "code",
   "execution_count": 9,
   "metadata": {
    "collapsed": false,
    "pycharm": {
     "name": "#%%\n"
    }
   },
   "outputs": [],
   "source": [
    "redPath = 'preprocessedImages/KI67/tiled/old/P07/aorta3'\n",
    "nucleiPath = 'segmentations/KI67/tiled/nuclei/P7/aorta3'\n",
    "savePath = \"results\""
   ]
  },
  {
   "cell_type": "code",
   "execution_count": 10,
   "metadata": {
    "collapsed": false,
    "pycharm": {
     "name": "#%%\n"
    }
   },
   "outputs": [],
   "source": [
    "foldersRed = [x[0] for x in os.walk(redPath)]\n",
    "foldersRed = sorted(foldersRed)\n",
    "\n",
    "foldersNuclei = [x[0] for x in os.walk(nucleiPath)]\n",
    "foldersNuclei = sorted(foldersNuclei)"
   ]
  },
  {
   "cell_type": "code",
   "execution_count": 16,
   "metadata": {
    "collapsed": false,
    "pycharm": {
     "name": "#%%\n"
    }
   },
   "outputs": [],
   "source": [
    "folder = foldersNuclei[0]\n",
    "filesNuclei = [f for f in listdir(folder) if isfile(join(folder, f)) if \"seg.npy\" in f if \"._\" not in f]\n",
    "aorta = folder.split(\"/\")[-1]\n",
    "age = folder.split(\"/\")[-2]"
   ]
  },
  {
   "cell_type": "code",
   "execution_count": null,
   "metadata": {},
   "outputs": [],
   "source": [
    "def intensitiesNucleus(row, nucleiMasks, redImage, redImageNorm):\n",
    "    Img = np.zeros(nucleiMasks.shape, np.uint8)\n",
    "    center = (int(row['centroid-1']), int(row['centroid-0']))\n",
    "    radius = int((row['major_axis_length']/2) + 2)\n",
    "    circle = cv2.circle(Img,center,radius,255,-1)\n",
    "    nucleus = row['label']\n",
    "    outside = np.where(nucleiMasks == nucleus, 0, circle)\n",
    "    inside = np.where(nucleiMasks == nucleus, circle, 0)\n",
    "\n",
    "    medianOutside = np.median(redImage[np.where(outside == 255)])\n",
    "    medianOutsideNorm = np.median(redImageNorm[np.where(outside == 255)])\n",
    "    median = np.median(redImage[np.where(nucleiMasks == nucleus)])\n",
    "    medianNorm = np.median(redImageNorm[np.where(nucleiMasks == nucleus)])\n",
    "\n",
    "    return (median, medianNorm, medianOutside, medianOutsideNorm)\n",
    "    \n",
    "def fractionNorm(row):\n",
    "    if row['medianOutsideNorm'] == 0.000000:\n",
    "        return row['medianNorm']/(row['medianOutsideNorm'] + 0.00012)\n",
    "    else:\n",
    "        return row['medianNorm']/row['medianOutsideNorm']"
   ]
  },
  {
   "cell_type": "code",
   "execution_count": null,
   "metadata": {},
   "outputs": [],
   "source": [
    "properties = ('label', 'major_axis_length', 'minor_axis_length', 'orientation', 'centroid') \n",
    "for fileNuclei in filesNuclei:\n",
    "    masks_array = np.asarray(np.load(join(folder,fileNuclei), allow_pickle = True).item()['masks'])\n",
    "    redImage = skimage.io.imread(join(redPath, redFile))\n",
    "    nucleiMaskRedInt = np.where(masks_array > 0, redImage, 0 )\n",
    "    medianBackground = np.median(redImage[np.where(masks_array == 0)])\n",
    "    redImageAdjusted = np.where(redImage <= medianBackground, medianBackground, redImage)\n",
    "    redImageNorm = cv2.normalize(redImageAdjusted, None, alpha=0, beta=1, norm_type=cv2.NORM_MINMAX, dtype=cv2.CV_64F)\n",
    "    prop_dict = regionprops_table(masks_array, properties = properties)\n",
    "    df_help = pd.DataFrame(prop_dict)\n",
    "    \n",
    "    df_help['imageNumber'] = imageNumber\n",
    "    if df_help.shape[0]:\n",
    "        df_help['fractionMajorMinor'] = df_help['major_axis_length']/df_help['minor_axis_length']\n",
    "        result_df = df_help.apply(lambda row: pd.Series(intensitiesNucleus(row, masks_array, redImage, redImageNorm)), axis=1)\n",
    "        result_df.columns = ['median', 'medianNorm', 'medianOutside', 'medianOutsideNorm']\n",
    "        df_help = pd.concat([df_help, result_df], axis=1)\n",
    "        df_help['fractionNorm'] = df_help.apply(lambda row: fractionNorm(row), axis=1)\n",
    "        df_help['fraction'] = (df_help['median']/df_help['medianOutside'])\n",
    "        df = pd.concat([df, df_help])"
   ]
  },
  {
   "cell_type": "code",
   "execution_count": null,
   "metadata": {},
   "outputs": [],
   "source": [
    "redImage = skimage.io.imread(join(redPath, age, aorta, redFile))\n",
    "# create image, where only signal inside of nuclei segmentations is used\n",
    "nucleiMaskRedInt = np.where(masks_array > 0, redImage, 0 )\n",
    "# extract background signal to normalize image on noise\n",
    "medianBackground = np.median(redImage[np.where(masks_array == 0)])\n",
    "redImageAdjusted = np.where(redImage <= medianBackground, medianBackground, redImage)\n",
    "redImageNorm = cv2.normalize(redImageAdjusted, None, alpha=0, beta=1, norm_type=cv2.NORM_MINMAX, dtype=cv2.CV_64F)\n",
    "prop_dict = regionprops_table(masks_array, properties = properties)\n",
    "df_help = pd.DataFrame(prop_dict)\n",
    "\n",
    "df_help['imageNumber'] = imageNumber\n",
    "if df_help.shape[0]:\n",
    "    df_help['fractionMajorMinor'] = df_help['major_axis_length']/df_help['minor_axis_length']\n",
    "    result_df = df_help.apply(lambda row: pd.Series(intensitiesNucleus(row, masks_array, redImage, redImageNorm)), axis=1)\n",
    "    result_df.columns = ['median', 'medianNorm', 'medianOutside', 'medianOutsideNorm']\n",
    "    df_help = pd.concat([df_help, result_df], axis=1)\n",
    "    df_help['fractionNorm'] = df_help.apply(lambda row: fractionNorm(row), axis=1)\n",
    "    df_help['fraction'] = (df_help['median']/df_help['medianOutside'])\n",
    "    df = pd.concat([df, df_help])\n",
    "\n",
    "saveName = 'ki67Signal_' + age + '_' + aorta + '.csv'\n",
    "df.to_csv(join(savePath, age, aorta, saveName))"
   ]
  },
  {
   "cell_type": "code",
   "execution_count": null,
   "metadata": {
    "collapsed": false,
    "pycharm": {
     "name": "#%%\n"
    }
   },
   "outputs": [],
   "source": [
    "df = pd.DataFrame()\n",
    "for folder in foldersNuclei:\n",
    "    df = pd.DataFrame()\n",
    "    filesNuclei = [f for f in listdir(folder) if isfile(join(folder, f)) if \"_Alx568_seg.npy\" in f if \"._\" not in f]\n",
    "    aorta = folder.split(\"/\")[-1]\n",
    "    age = folder.split(\"/\")[-2]\n",
    "    original = folder.split(\"/\")[-3]\n",
    "\n",
    "    for fileNuclei in filesNuclei:\n",
    "        nuclei = np.load(join(folder,fileNuclei), allow_pickle = True).item()\n",
    "\n",
    "        fileRed = fileNuclei.split(\"_Alx568_seg.npy\")[0] + \"_Alx647_1.tif\"\n",
    "        folderRed = join(redPath)\n",
    "        redImage = skimage.io.imread(join(folderRed, fileRed))\n",
    "        redImageNorm = cv2.normalize(redImage, None, alpha=0, beta=1, norm_type=cv2.NORM_MINMAX, dtype=cv2.CV_32F)\n",
    "\n",
    "        nucleiMasks = nuclei['masks']\n",
    "        nucleiMaskRedInt = np.where(nucleiMasks > 0, redImageNorm, 0 )\n",
    "        medianBackground = np.median(redImage[np.where(nucleiMasks == 0)])\n",
    "        medianBackgroundNorm = np.median(redImageNorm[np.where(nucleiMasks == 0)])\n",
    "        meanBackground = np.mean(redImage[np.where(nucleiMasks == 0)])\n",
    "        meanBackgroundNorm = np.mean(redImageNorm[np.where(nucleiMasks == 0)])\n",
    "\n",
    "        for i in np.unique(nucleiMasks):\n",
    "            if i != 0:\n",
    "                median = np.median(redImage[np.where(nucleiMasks == i)])\n",
    "                medianNorm = np.median(redImageNorm[np.where(nucleiMasks == i)])\n",
    "                mean = np.mean(redImage[np.where(nucleiMasks == i)])\n",
    "                meanNorm = np.mean(redImageNorm[np.where(nucleiMasks == i)])\n",
    "\n",
    "                dict = {'original': original, 'age': age, 'aorta': aorta, 'median': median, 'mean': mean, 'medianNorm': medianNorm, 'meanNorm': meanNorm, 'medianBackground': medianBackground, 'meanBackground': meanBackground, 'medianBackgroundNorm': medianBackgroundNorm, 'meanBackgroundNorm': meanBackgroundNorm,  'file': fileNuclei.split(\"c3_seg.npy\")[0]}\n",
    "                dfData = pd.DataFrame(dict, index= [0])\n",
    "                df = pd.concat((df, dfData), axis=0, ignore_index=True)\n",
    "\n",
    "    filename = \"coordinatesKI67Intensity_\" + original + \"_\" + age + \"_\" + aorta + \"_Tiled.csv\"\n",
    "    df.to_csv(join(\"results/KI67/coordinatesKI67\",filename), index = False)"
   ]
  },
  {
   "cell_type": "code",
   "execution_count": null,
   "metadata": {},
   "outputs": [],
   "source": [
    "####Stitched\n",
    "\n",
    "for folder in foldersNuclei:\n",
    "    filesNuclei = [f for f in listdir(folder) if isfile(join(folder, f)) if \"_seg.npy\" in f if \"._\" not in f]\n",
    "    properties = ('label', 'major_axis_length', 'minor_axis_length', 'orientation', 'centroid')\n",
    "    df = pd.DataFrame()\n",
    "    for fileNuclei in filesNuclei:\n",
    "        age = folder.split(\"/\")[-2]\n",
    "        aorta = folder.split(\"/\")[-1]\n",
    "        masks_array = np.asarray(np.load(join(folder,fileNuclei), allow_pickle = True).item()['masks'])\n",
    "        redFile = fileNuclei.split('_seg.npy')[0] + '.tif'\n",
    "        redImage = skimage.io.imread(join(redPath, age, aorta, redFile))\n",
    "        if  masks_array.shape == redImage.shape:\n",
    "            nucleiMaskRedInt = np.where(masks_array > 0, redImage, 0 )\n",
    "            medianBackground = np.median(redImage[np.where(masks_array == 0)])\n",
    "            redImageAdjusted = np.where(redImage <= medianBackground, medianBackground, redImage)\n",
    "            redImageNorm = cv2.normalize(redImageAdjusted, None, alpha=0, beta=1, norm_type=cv2.NORM_MINMAX, dtype=cv2.CV_64F)\n",
    "            prop_dict = regionprops_table(masks_array, properties = properties)\n",
    "            df_help = pd.DataFrame(prop_dict)\n",
    "            imageNumber = fileNuclei.split('_seg.npy')[0].split('-')[-1]\n",
    "            df_help['imageNumber'] = imageNumber\n",
    "            if df_help.shape[0]:\n",
    "                df_help['fractionMajorMinor'] = df_help['major_axis_length']/df_help['minor_axis_length']\n",
    "                result_df = df_help.apply(lambda row: pd.Series(intensitiesNucleus(row, masks_array, redImage, redImageNorm)), axis=1)\n",
    "                result_df.columns = ['median', 'medianNorm', 'medianOutside', 'medianOutsideNorm']\n",
    "                df_help = pd.concat([df_help, result_df], axis=1)\n",
    "                df_help['fractionNorm'] = df_help.apply(lambda row: fractionNorm(row), axis=1)\n",
    "                df_help['fraction'] = (df_help['median']/df_help['medianOutside'])\n",
    "                df = pd.concat([df, df_help])\n",
    "    \n",
    "    if len(df) > 0:\n",
    "        os.makedirs(join(savePath, age, aorta))\n",
    "        saveName = 'ki67Signal_' + age + '_' + aorta + '_Stitched.csv'\n",
    "        df.to_csv(join(savePath, age, aorta, saveName))"
   ]
  }
 ],
 "metadata": {
  "kernelspec": {
   "display_name": "LuisaProject",
   "language": "python",
   "name": "luisaproject"
  },
  "language_info": {
   "codemirror_mode": {
    "name": "ipython",
    "version": 2
   },
   "file_extension": ".py",
   "mimetype": "text/x-python",
   "name": "python",
   "nbconvert_exporter": "python",
   "pygments_lexer": "ipython2",
   "version": "2.7.6"
  }
 },
 "nbformat": 4,
 "nbformat_minor": 0
}

{
 "cells": [
  {
   "cell_type": "code",
   "execution_count": 2,
   "metadata": {},
   "outputs": [],
   "source": [
    "import numpy as np\n",
    "import pandas as pd\n",
    "from skimage.measure import regionprops_table\n",
    "import matplotlib.pyplot as plt"
   ]
  },
  {
   "cell_type": "code",
   "execution_count": 2,
   "metadata": {},
   "outputs": [],
   "source": [
    "dfPath = '/Users/jones/Downloads/eduSignalPruningFilter.csv'\n",
    "cellSegPath = '/Volumes/My Passport/aorta/segmentations/cellCycleEdUPruning/cellShape/pruningCellNEW_seg.npy'\n",
    "nucSegPath = '/Volumes/My Passport/aorta/segmentations/cellCycleEdUPruning/nuclei/pruningEDU_nuc_seg.npy'"
   ]
  },
  {
   "cell_type": "code",
   "execution_count": 3,
   "metadata": {},
   "outputs": [],
   "source": [
    "nuc = np.load(nucSegPath, allow_pickle=True).item()['masks']\n",
    "cells = np.load(cellSegPath, allow_pickle=True).item()['masks']\n",
    "df = pd.read_csv(dfPath)"
   ]
  },
  {
   "cell_type": "code",
   "execution_count": 4,
   "metadata": {},
   "outputs": [],
   "source": [
    "prop_dict = regionprops_table(nuc, properties = ('label', 'area', 'major_axis_length', 'minor_axis_length'))\n",
    "dfNucs = pd.DataFrame(prop_dict)\n",
    "\n",
    "prop_dict = regionprops_table(cells, properties = ('label', 'area', 'major_axis_length', 'minor_axis_length'))\n",
    "dfCells= pd.DataFrame(prop_dict)"
   ]
  },
  {
   "cell_type": "code",
   "execution_count": 8,
   "metadata": {},
   "outputs": [],
   "source": [
    "dfCells.to_csv('/Volumes/My Passport/aorta/results/pruningEDU/cellStats.csv', index=False)"
   ]
  },
  {
   "cell_type": "code",
   "execution_count": null,
   "metadata": {},
   "outputs": [],
   "source": []
  },
  {
   "cell_type": "code",
   "execution_count": null,
   "metadata": {},
   "outputs": [],
   "source": [
    "dfPath = '/Users/jones/Downloads/EdULongTerm/results/P3-15/aorta01/Results_EdULongTerm_P3-15_aorta01_01.csv'\n",
    "nucSegPath = '/Users/jones/Downloads/pruningSCImages/segmentation/230724_EdU_pruning_3-7_nuclei_seg.npy'\n",
    "cellSegPath = '/Users/jones/Downloads/EdULongTerm/preprocessedImage/cellCycleEDU/cellSize/P03/P3-15/aorta01/rgb1_seg.npy'"
   ]
  },
  {
   "cell_type": "code",
   "execution_count": 4,
   "metadata": {},
   "outputs": [],
   "source": [
    "df = pd.read_csv(dfPath)\n",
    "cells = np.load(cellSegPath, allow_pickle=True).item()['masks']\n",
    "\n",
    "prop_dict = regionprops_table(cells, properties = ('label', 'area', 'major_axis_length', 'minor_axis_length'))\n",
    "dfCells= pd.DataFrame(prop_dict)"
   ]
  },
  {
   "cell_type": "code",
   "execution_count": 6,
   "metadata": {},
   "outputs": [],
   "source": [
    "dfSingleton = df.loc[(df['Count'] == 1) & (df['Counter'] < 20)]\n",
    "x = dfSingleton['X'].values\n",
    "y = dfSingleton['Y'].values"
   ]
  },
  {
   "cell_type": "code",
   "execution_count": null,
   "metadata": {},
   "outputs": [
    {
     "data": {
      "text/html": [
       "<div>\n",
       "<style scoped>\n",
       "    .dataframe tbody tr th:only-of-type {\n",
       "        vertical-align: middle;\n",
       "    }\n",
       "\n",
       "    .dataframe tbody tr th {\n",
       "        vertical-align: top;\n",
       "    }\n",
       "\n",
       "    .dataframe thead th {\n",
       "        text-align: right;\n",
       "    }\n",
       "</style>\n",
       "<table border=\"1\" class=\"dataframe\">\n",
       "  <thead>\n",
       "    <tr style=\"text-align: right;\">\n",
       "      <th></th>\n",
       "      <th>label</th>\n",
       "      <th>area</th>\n",
       "      <th>major_axis_length</th>\n",
       "      <th>minor_axis_length</th>\n",
       "    </tr>\n",
       "  </thead>\n",
       "  <tbody>\n",
       "    <tr>\n",
       "      <th>155</th>\n",
       "      <td>156</td>\n",
       "      <td>8075</td>\n",
       "      <td>284.358841</td>\n",
       "      <td>41.254663</td>\n",
       "    </tr>\n",
       "  </tbody>\n",
       "</table>\n",
       "</div>"
      ],
      "text/plain": [
       "     label  area  major_axis_length  minor_axis_length\n",
       "155    156  8075         284.358841          41.254663"
      ]
     },
     "execution_count": 19,
     "metadata": {},
     "output_type": "execute_result"
    }
   ],
   "source": [
    "conversion = 1\n",
    "\n",
    "cellNumber = cells[int(y[number]*conversion), int(x[number]*conversion)]\n",
    "dfCells.loc[dfCells.label == cells[int(y[number]*conversion), int(x[number]*conversion)]]"
   ]
  },
  {
   "cell_type": "code",
   "execution_count": 189,
   "metadata": {},
   "outputs": [],
   "source": [
    "dfCells.to_csv('/Users/jones/Downloads/EdULongTerm/results/P3-15/aorta01/Results_area_EdULongTerm_P3-15_aorta01_10.csv', index = False)"
   ]
  }
 ],
 "metadata": {
  "kernelspec": {
   "display_name": "Python 3",
   "language": "python",
   "name": "python3"
  },
  "language_info": {
   "codemirror_mode": {
    "name": "ipython",
    "version": 3
   },
   "file_extension": ".py",
   "mimetype": "text/x-python",
   "name": "python",
   "nbconvert_exporter": "python",
   "pygments_lexer": "ipython3",
   "version": "3.8.0"
  }
 },
 "nbformat": 4,
 "nbformat_minor": 2
}

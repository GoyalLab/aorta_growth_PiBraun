{
 "cells": [
  {
   "cell_type": "code",
   "execution_count": 2,
   "metadata": {},
   "outputs": [],
   "source": [
    "import numpy as np\n",
    "import pandas as pd\n",
    "from skimage.measure import regionprops_table\n",
    "import os\n",
    "from os import listdir\n",
    "from os.path import isfile, join"
   ]
  },
  {
   "cell_type": "code",
   "execution_count": 2,
   "metadata": {},
   "outputs": [],
   "source": [
    "nucleiPath = \"segmentations_tilesNuc\""
   ]
  },
  {
   "cell_type": "code",
   "execution_count": 3,
   "metadata": {},
   "outputs": [],
   "source": [
    "folders = [x[0] for x in os.walk(nucleiPath)]\n",
    "folders = sorted(folders)"
   ]
  },
  {
   "cell_type": "code",
   "execution_count": 4,
   "metadata": {},
   "outputs": [],
   "source": [
    "df = pd.DataFrame()\n",
    "for folder in folders:\n",
    "    os.chdir(folder)\n",
    "    files = [f for f in listdir(folder) if isfile(join(folder, f)) if \".DS_Store\" not in f if \".npy\" in f if \"._\" not in f]\n",
    "    for file in files:\n",
    "        aorta = folder.split(\"/\")[-1]\n",
    "        age = folder.split(\"/\")[-2]\n",
    "        nucleiMasks =  np.load(join(folder, file), allow_pickle=True).item()['masks']\n",
    "        prop_dict = regionprops_table(nucleiMasks, properties = ('label', 'area', 'major_axis_length', 'minor_axis_length'))\n",
    "        dfHelp = pd.DataFrame(prop_dict)\n",
    "        dfHelp['age'] = age\n",
    "        dfHelp['aorta'] = aorta\n",
    "        dfHelp['file'] = file\n",
    "        df = pd.concat([df,dfHelp])"
   ]
  },
  {
   "cell_type": "code",
   "execution_count": 6,
   "metadata": {},
   "outputs": [],
   "source": [
    "df = df.reset_index(drop=True)"
   ]
  },
  {
   "cell_type": "code",
   "execution_count": 8,
   "metadata": {},
   "outputs": [],
   "source": [
    "df['aspectRatio'] = df['major_axis_length']/df['minor_axis_length']"
   ]
  },
  {
   "cell_type": "code",
   "execution_count": 3,
   "metadata": {},
   "outputs": [],
   "source": [
    "df = pd.read_csv('results/cellShape/statsNuclei.csv')"
   ]
  },
  {
   "cell_type": "code",
   "execution_count": 4,
   "metadata": {},
   "outputs": [],
   "source": [
    "dfCount = df.groupby(['age', 'aorta']).count()"
   ]
  },
  {
   "cell_type": "code",
   "execution_count": 12,
   "metadata": {},
   "outputs": [],
   "source": [
    "dfCount.to_csv('results/cellShape/statsNuclei_Count.csv')"
   ]
  },
  {
   "cell_type": "code",
   "execution_count": 6,
   "metadata": {},
   "outputs": [],
   "source": [
    "dfMean = df.groupby(['age', 'aorta']).mean()"
   ]
  },
  {
   "cell_type": "code",
   "execution_count": 7,
   "metadata": {},
   "outputs": [],
   "source": [
    "dfMedian = df.groupby(['age', 'aorta']).median()"
   ]
  },
  {
   "cell_type": "code",
   "execution_count": 14,
   "metadata": {},
   "outputs": [],
   "source": [
    "df.to_csv(\"/results/cellShape/statsNuclei.csv\", index=False)"
   ]
  }
 ],
 "metadata": {
  "kernelspec": {
   "display_name": "Python 3",
   "language": "python",
   "name": "python3"
  },
  "language_info": {
   "codemirror_mode": {
    "name": "ipython",
    "version": 3
   },
   "file_extension": ".py",
   "mimetype": "text/x-python",
   "name": "python",
   "nbconvert_exporter": "python",
   "pygments_lexer": "ipython3",
   "version": "3.8.0"
  },
  "orig_nbformat": 4
 },
 "nbformat": 4,
 "nbformat_minor": 2
}

{
 "cells": [
  {
   "cell_type": "code",
   "execution_count": 1,
   "metadata": {
    "collapsed": false,
    "pycharm": {
     "name": "#%%\n"
    }
   },
   "outputs": [],
   "source": [
    "import numpy as np\n",
    "import pandas as pd\n",
    "import cv2\n",
    "from os.path import isfile, join\n",
    "from skimage.measure import regionprops_table\n",
    "from os import listdir\n",
    "import skimage"
   ]
  },
  {
   "cell_type": "code",
   "execution_count": 10,
   "metadata": {
    "collapsed": false,
    "pycharm": {
     "name": "#%%\n"
    }
   },
   "outputs": [],
   "source": [
    "segPath = \"/Volumes/Aorta/aorta/segmentations/cellCycle/nuclei/nuclei/P05/aorta01\"\n",
    "brduPath = \"/Volumes/Aorta/aorta/preprocessedImages/cellCycle/tiles/BrdU/P05/aorta01\"\n",
    "eduPath = \"/Volumes/Aorta/aorta/preprocessedImages/cellCycle/tiles/EdU/P05/aorta01\"\n",
    "savePath = '/Users/jones/Downloads'"
   ]
  },
  {
   "cell_type": "code",
   "execution_count": 3,
   "metadata": {
    "collapsed": false,
    "pycharm": {
     "name": "#%%\n"
    }
   },
   "outputs": [],
   "source": [
    "filesRed = [f for f in listdir(brduPath) if isfile(join(brduPath, f)) if \".tif\" in f if \"._\" not in f]"
   ]
  },
  {
   "cell_type": "code",
   "execution_count": 4,
   "metadata": {
    "collapsed": false,
    "pycharm": {
     "name": "#%%\n"
    }
   },
   "outputs": [],
   "source": [
    "def fractionNorm(row):\n",
    "    if row['medianOutsideNorm'] == 0.000000:\n",
    "        return row['medianNorm']/(row['medianOutsideNorm'] + 0.00012)\n",
    "    else:\n",
    "        return row['medianNorm']/row['medianOutsideNorm']"
   ]
  },
  {
   "cell_type": "code",
   "execution_count": 5,
   "metadata": {
    "collapsed": false,
    "pycharm": {
     "name": "#%%\n"
    }
   },
   "outputs": [],
   "source": [
    "def intensitiesNucleus(row, output, nucleiMasks, redImage, redImageNorm):\n",
    "    Img = np.zeros(nucleiMasks.shape, np.uint8)\n",
    "    center = (int(row['centroid-1']), int(row['centroid-0']))\n",
    "    radius = int((row['major_axis_length']/2) + 2)\n",
    "    circle = cv2.circle(Img,center,radius,255,-1)\n",
    "    nucleus = row['label']\n",
    "    outside = np.where(nucleiMasks == nucleus, 0, circle)\n",
    "    inside = np.where(nucleiMasks == nucleus, circle, 0)\n",
    "\n",
    "    medianOutside = np.median(redImage[np.where(outside == 255)])\n",
    "    medianOutsideNorm = np.median(redImageNorm[np.where(outside == 255)])\n",
    "    median = np.median(redImage[np.where(nucleiMasks == nucleus)])\n",
    "    medianNorm = np.median(redImageNorm[np.where(nucleiMasks == nucleus)])\n",
    "    if output == 'median':\n",
    "        return median\n",
    "    elif output == 'medianNorm':\n",
    "        return medianNorm\n",
    "    elif output == 'medianOutside':\n",
    "        return medianOutside\n",
    "    elif output == 'medianOutsideNorm':\n",
    "        return medianOutsideNorm\n",
    "    else:\n",
    "        return np.inf"
   ]
  },
  {
   "cell_type": "code",
   "execution_count": 17,
   "metadata": {
    "collapsed": false,
    "pycharm": {
     "name": "#%%\n"
    }
   },
   "outputs": [],
   "source": [
    "def cellCycleSignalExtraction(folder, redPath, savePath):\n",
    "    properties = ('label', 'major_axis_length', 'minor_axis_length', 'orientation', 'centroid')\n",
    "    df = pd.DataFrame()\n",
    "    filesNuclei = [f for f in listdir(folder) if isfile(join(folder, f)) if \"_seg.npy\" in f if \"._\" not in f]\n",
    "    aorta = folder.split(\"/\")[-1]\n",
    "    age = folder.split(\"/\")[-2]\n",
    "\n",
    "    for fileNuclei in filesNuclei:\n",
    "        print(\"YES\")\n",
    "        nuclei = np.load(join(folder,fileNuclei), allow_pickle = True).item()\n",
    "        nucleiMasks = nuclei['masks']\n",
    "        masks_array = np.asarray(nucleiMasks)\n",
    "        fileRed = \"cellSizeImage_P05_EdU\" + fileNuclei.split(\"_seg.npy\")[0].split('nuclei')[1] + \".tif\"\n",
    "\n",
    "        folderRed = redPath\n",
    "        redImage = skimage.io.imread(join(folderRed, fileRed))\n",
    "\n",
    "        nucleiMaskRedInt = np.where(nucleiMasks > 0, redImage, 0 )\n",
    "        medianBackground = np.median(redImage[np.where(nucleiMasks == 0)])\n",
    "        redImageAdjusted = np.where(redImage <= medianBackground, medianBackground, redImage)\n",
    "        redImageNorm = cv2.normalize(redImageAdjusted, None, alpha=0, beta=1, norm_type=cv2.NORM_MINMAX, dtype=cv2.CV_64F)\n",
    "\n",
    "        prop_dict = regionprops_table(masks_array, properties = properties)\n",
    "        df_help = pd.DataFrame(prop_dict)\n",
    "\n",
    "        if df_help.shape[0]:\n",
    "            df_help['fractionMajorMinor'] = df_help['major_axis_length']/df_help['minor_axis_length']\n",
    "            df_help['median'] = df_help.apply(lambda row: intensitiesNucleus(row, 'median', nucleiMasks, redImage, redImageNorm), axis=1)\n",
    "            df_help['medianNorm'] = df_help.apply(lambda row: intensitiesNucleus(row, 'medianNorm', nucleiMasks, redImage, redImageNorm), axis=1)\n",
    "            df_help['medianOutside'] = df_help.apply(lambda row: intensitiesNucleus(row, 'medianOutside', nucleiMasks, redImage, redImageNorm), axis=1)\n",
    "            df_help['medianOutsideNorm'] = df_help.apply(lambda row: intensitiesNucleus(row, 'medianOutsideNorm', nucleiMasks, redImage, redImageNorm), axis=1)\n",
    "            df_help['fractionNorm'] = df_help.apply(lambda row: fractionNorm(row), axis=1)\n",
    "            df_help['fraction'] = (df_help['median']/df_help['medianOutside'])\n",
    "            df_help['age'] = age\n",
    "            df_help['aorta'] = aorta\n",
    "            df_help['filenameNuc'] = fileNuclei\n",
    "            df_help['filenameEdU'] = fileRed\n",
    "            df = pd.concat((df, df_help), axis=0, ignore_index=True)\n",
    "\n",
    "    filename = \"coordinatesEdUIntensity\" +  \"_\" + age + \"_\" + aorta + \"_TiledWithOutsideNuc.csv\"\n",
    "    df.to_csv(join(savePath,filename), index = False)"
   ]
  },
  {
   "cell_type": "code",
   "execution_count": 18,
   "metadata": {
    "collapsed": false,
    "pycharm": {
     "name": "#%%\n"
    }
   },
   "outputs": [
    {
     "name": "stdout",
     "output_type": "stream",
     "text": [
      "YES\n",
      "YES\n",
      "YES\n",
      "YES\n",
      "YES\n",
      "YES\n",
      "YES\n",
      "YES\n",
      "YES\n",
      "YES\n",
      "YES\n",
      "YES\n",
      "YES\n"
     ]
    }
   ],
   "source": [
    "cellCycleSignalExtraction(segPath, eduPath, savePath)"
   ]
  },
  {
   "cell_type": "code",
   "execution_count": null,
   "metadata": {
    "collapsed": false,
    "pycharm": {
     "name": "#%%\n"
    }
   },
   "outputs": [],
   "source": []
  }
 ],
 "metadata": {
  "kernelspec": {
   "display_name": "LuisaProject",
   "language": "python",
   "name": "luisaproject"
  },
  "language_info": {
   "codemirror_mode": {
    "name": "ipython",
    "version": 2
   },
   "file_extension": ".py",
   "mimetype": "text/x-python",
   "name": "python",
   "nbconvert_exporter": "python",
   "pygments_lexer": "ipython2",
   "version": "2.7.6"
  }
 },
 "nbformat": 4,
 "nbformat_minor": 0
}

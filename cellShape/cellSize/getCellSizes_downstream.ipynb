{
 "cells": [
  {
   "cell_type": "code",
   "execution_count": 1,
   "metadata": {
    "collapsed": false,
    "pycharm": {
     "name": "#%%\n"
    }
   },
   "outputs": [],
   "source": [
    "import cv2\n",
    "import numpy as np\n",
    "import matplotlib.pyplot as plt\n",
    "import pandas as pd\n",
    "from skimage import filters, measure, morphology\n",
    "import math\n",
    "from skimage.measure import label, regionprops_table\n",
    "from PIL import Image\n",
    "import colorsys\n",
    "from skimage import img_as_ubyte, exposure\n",
    "from os import listdir\n",
    "from os.path import isfile, join\n",
    "import os"
   ]
  },
  {
   "cell_type": "code",
   "execution_count": 2,
   "metadata": {
    "collapsed": false,
    "pycharm": {
     "name": "#%%\n"
    }
   },
   "outputs": [],
   "source": [
    "cytoPath = \"/Volumes/Aorta/aorta/segmentations/cellSize/tiles/tilesCellSize/tissueAnalyzer\"\n",
    "savePath = \"/Volumes/Aorta/aorta/results/cellSizeStatistics/images\""
   ]
  },
  {
   "cell_type": "code",
   "execution_count": 3,
   "metadata": {
    "collapsed": false,
    "pycharm": {
     "name": "#%%\n"
    }
   },
   "outputs": [],
   "source": [
    "cytoFolders = [x[0] for x in os.walk(cytoPath)]\n",
    "cytoFolders = sorted(cytoFolders)"
   ]
  },
  {
   "cell_type": "code",
   "execution_count": 10,
   "metadata": {
    "collapsed": false,
    "pycharm": {
     "name": "#%%\n"
    }
   },
   "outputs": [],
   "source": [
    "for cytoFolder in cytoFolders:\n",
    "    os.chdir(cytoFolder)\n",
    "    dfResults = pd.DataFrame()\n",
    "    files = [f for f in listdir(cytoFolder) if isfile(join(cytoFolder, f)) if \".DS_Store\" not in f if \".npy\" in f if \"._\" not in f]\n",
    "    age = cytoFolder.split(\"/\")[-2]\n",
    "    aorta = cytoFolder.split(\"/\")[-1]\n",
    "    for file in files:\n",
    "        masks = np.load(join(cytoFolder, file), allow_pickle=True).item()['masks']\n",
    "        prop_dict = regionprops_table(masks, properties=['label','area', 'centroid', 'major_axis_length', 'minor_axis_length', \"orientation\"])\n",
    "        dfHelp = pd.DataFrame(prop_dict)\n",
    "        dfHelp['age'] = age\n",
    "        dfHelp['aorta'] = aorta\n",
    "        dfHelp['file'] = file\n",
    "        dfResults = pd.concat([dfResults, dfHelp])\n",
    "\n",
    "    if len(dfResults.index) != 0:\n",
    "        dfResults.to_csv(join(cytoFolder, \"resultsCellSize_\" + age + \"_\" + aorta + \"unfiltered.csv\"), index=False)"
   ]
  },
  {
   "cell_type": "code",
   "execution_count": null,
   "metadata": {
    "collapsed": false,
    "pycharm": {
     "name": "#%%\n"
    }
   },
   "outputs": [],
   "source": []
  }
 ],
 "metadata": {
  "kernelspec": {
   "display_name": "LuisaProject",
   "language": "python",
   "name": "luisaproject"
  },
  "language_info": {
   "codemirror_mode": {
    "name": "ipython",
    "version": 2
   },
   "file_extension": ".py",
   "mimetype": "text/x-python",
   "name": "python",
   "nbconvert_exporter": "python",
   "pygments_lexer": "ipython2",
   "version": "2.7.6"
  }
 },
 "nbformat": 4,
 "nbformat_minor": 0
}

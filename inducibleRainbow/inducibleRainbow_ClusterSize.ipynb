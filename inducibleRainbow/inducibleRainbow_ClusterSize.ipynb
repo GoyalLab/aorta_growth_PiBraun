{
 "cells": [
  {
   "cell_type": "code",
   "execution_count": 1,
   "metadata": {
    "collapsed": false,
    "pycharm": {
     "name": "#%%\n"
    }
   },
   "outputs": [],
   "source": [
    "import numpy as np\n",
    "from os.path import join\n",
    "import pandas as pd\n",
    "from skimage.measure import regionprops_table\n",
    "import matplotlib.pyplot as plt\n",
    "from utils.nucStitch import fullNucImage16"
   ]
  },
  {
   "cell_type": "code",
   "execution_count": null,
   "metadata": {
    "collapsed": false,
    "pycharm": {
     "name": "#%%\n"
    }
   },
   "outputs": [],
   "source": [
    "segmentationPath = \"/Volumes/Aortas/Aorta/segmentations/inducedRainbow/old/red/5-60/aorta08/cellposeSegm_RedP5-60_aorta08_50Thres_final_seg.npy\"\n",
    "nucleiPath = \"/Volumes/Aortas/Aorta/segmentations/inducedRainbow/final/nuclei/5-60/aorta08\"\n",
    "dfResult = pd.DataFrame()"
   ]
  },
  {
   "cell_type": "code",
   "execution_count": null,
   "metadata": {
    "collapsed": false,
    "pycharm": {
     "name": "#%%\n"
    }
   },
   "outputs": [],
   "source": [
    "df = pd.DataFrame()\n",
    "nuclei = np.load(join(nucleiPath, \"Cropped_IMG-1_seg.npy\"), allow_pickle=True).item()['masks']\n",
    "yLength = nuclei.shape[0]\n",
    "xLength = nuclei.shape[1]\n",
    "for i in range(16):\n",
    "    number = i+1\n",
    "    nuclei = np.load(join(nucleiPath, \"Cropped_IMG-\" + str(number) + '_seg.npy'), allow_pickle=True).item()['masks']\n",
    "    row = int(i/4) + 1\n",
    "    column  = (i%4) + 1\n",
    "    prop_dict = regionprops_table(nuclei, properties = ('label', 'centroid'))\n",
    "    df_help = pd.DataFrame(prop_dict)\n",
    "    df_help['picture_id'] = number\n",
    "    df_help['yCoord'] = df_help['centroid-0']*row\n",
    "    df_help['xCoord'] = df_help['centroid-1']*column\n",
    "    df = pd.concat([df, df_help], axis=0)\n",
    "\n",
    "nucImage = fullNucImage16(nucleiPath)"
   ]
  },
  {
   "cell_type": "code",
   "execution_count": 26,
   "metadata": {
    "collapsed": false,
    "pycharm": {
     "name": "#%%\n"
    }
   },
   "outputs": [],
   "source": [
    "masks = np.load(segmentationPath, allow_pickle=True).item()['masks']"
   ]
  },
  {
   "cell_type": "code",
   "execution_count": 27,
   "metadata": {
    "collapsed": false,
    "pycharm": {
     "name": "#%%\n"
    }
   },
   "outputs": [],
   "source": [
    "accuracy_value = 0.8\n",
    "clusters = list()\n",
    "dic = {}\n",
    "dicNot = list()\n",
    "for mask in np.unique(masks):\n",
    "    if mask != 0:\n",
    "        cluster = list()\n",
    "        coord = np.where(masks == mask)\n",
    "        segmentationNuc = np.unique(nucImage[coord])\n",
    "        for j in segmentationNuc:\n",
    "            if j != 0:\n",
    "                #occurence of nucleus pixel in\n",
    "                nucOccur = np.bincount(nucImage[coord])[j]\n",
    "                #How many pixels does this nucleus have:\n",
    "                coordLen = len(np.where(nucImage == j)[0])\n",
    "                #check if most of nuclei values are in segmentation\n",
    "                if(nucOccur >= accuracy_value*coordLen):\n",
    "                    cluster.append(j)\n",
    "        if cluster:\n",
    "            dic[mask] = cluster\n",
    "            clusters.append(cluster)\n",
    "        else:\n",
    "            dicNot.append(mask)"
   ]
  },
  {
   "cell_type": "code",
   "execution_count": 28,
   "metadata": {
    "collapsed": false,
    "pycharm": {
     "name": "#%%\n"
    }
   },
   "outputs": [],
   "source": [
    "clusterSizes = []\n",
    "for key in dic:\n",
    "    clusterSizes.append(len(dic[key]))"
   ]
  },
  {
   "cell_type": "code",
   "execution_count": 36,
   "metadata": {
    "collapsed": false,
    "pycharm": {
     "name": "#%%\n"
    }
   },
   "outputs": [],
   "source": [
    "resultdic = {\"age\": segmentationPath.split(\"/\")[-3], \"aorta\": segmentationPath.split(\"/\")[-2]}\n",
    "unique, counts = np.unique(clusterSizes, return_counts=True)\n",
    "for i in range(1,18):\n",
    "    if i in unique:\n",
    "        resultdic[i] = counts[np.where(unique==i)][0]\n",
    "    else:\n",
    "        resultdic[i] = 0"
   ]
  },
  {
   "cell_type": "code",
   "execution_count": 37,
   "metadata": {
    "collapsed": false,
    "pycharm": {
     "name": "#%%\n"
    }
   },
   "outputs": [],
   "source": [
    "dfHelp = pd.DataFrame(resultdic, index = [0])"
   ]
  },
  {
   "cell_type": "code",
   "execution_count": 39,
   "metadata": {
    "collapsed": false,
    "pycharm": {
     "name": "#%%\n"
    }
   },
   "outputs": [
    {
     "data": {
      "text/html": [
       "<div>\n",
       "<style scoped>\n",
       "    .dataframe tbody tr th:only-of-type {\n",
       "        vertical-align: middle;\n",
       "    }\n",
       "\n",
       "    .dataframe tbody tr th {\n",
       "        vertical-align: top;\n",
       "    }\n",
       "\n",
       "    .dataframe thead th {\n",
       "        text-align: right;\n",
       "    }\n",
       "</style>\n",
       "<table border=\"1\" class=\"dataframe\">\n",
       "  <thead>\n",
       "    <tr style=\"text-align: right;\">\n",
       "      <th></th>\n",
       "      <th>age</th>\n",
       "      <th>aorta</th>\n",
       "      <th>1</th>\n",
       "      <th>2</th>\n",
       "      <th>3</th>\n",
       "      <th>4</th>\n",
       "      <th>5</th>\n",
       "      <th>6</th>\n",
       "      <th>7</th>\n",
       "      <th>8</th>\n",
       "      <th>9</th>\n",
       "      <th>10</th>\n",
       "      <th>11</th>\n",
       "      <th>12</th>\n",
       "      <th>13</th>\n",
       "      <th>14</th>\n",
       "      <th>15</th>\n",
       "      <th>16</th>\n",
       "      <th>17</th>\n",
       "    </tr>\n",
       "  </thead>\n",
       "  <tbody>\n",
       "    <tr>\n",
       "      <th>0</th>\n",
       "      <td>5-60</td>\n",
       "      <td>aorta07</td>\n",
       "      <td>147</td>\n",
       "      <td>73</td>\n",
       "      <td>15</td>\n",
       "      <td>7</td>\n",
       "      <td>2</td>\n",
       "      <td>1</td>\n",
       "      <td>0</td>\n",
       "      <td>1</td>\n",
       "      <td>1</td>\n",
       "      <td>0</td>\n",
       "      <td>0</td>\n",
       "      <td>0</td>\n",
       "      <td>0</td>\n",
       "      <td>0</td>\n",
       "      <td>0</td>\n",
       "      <td>0</td>\n",
       "      <td>0</td>\n",
       "    </tr>\n",
       "    <tr>\n",
       "      <th>0</th>\n",
       "      <td>5-60</td>\n",
       "      <td>aorta08</td>\n",
       "      <td>226</td>\n",
       "      <td>125</td>\n",
       "      <td>35</td>\n",
       "      <td>16</td>\n",
       "      <td>7</td>\n",
       "      <td>4</td>\n",
       "      <td>1</td>\n",
       "      <td>0</td>\n",
       "      <td>1</td>\n",
       "      <td>0</td>\n",
       "      <td>1</td>\n",
       "      <td>0</td>\n",
       "      <td>0</td>\n",
       "      <td>0</td>\n",
       "      <td>0</td>\n",
       "      <td>0</td>\n",
       "      <td>0</td>\n",
       "    </tr>\n",
       "  </tbody>\n",
       "</table>\n",
       "</div>"
      ],
      "text/plain": [
       "    age    aorta    1    2   3   4  5  6  7  8  9  10  11  12  13  14  15  16  \\\n",
       "0  5-60  aorta07  147   73  15   7  2  1  0  1  1   0   0   0   0   0   0   0   \n",
       "0  5-60  aorta08  226  125  35  16  7  4  1  0  1   0   1   0   0   0   0   0   \n",
       "\n",
       "   17  \n",
       "0   0  \n",
       "0   0  "
      ]
     },
     "execution_count": 39,
     "metadata": {},
     "output_type": "execute_result"
    }
   ],
   "source": [
    "dfResult = pd.concat([dfResult, dfHelp])\n",
    "dfResult"
   ]
  },
  {
   "cell_type": "code",
   "execution_count": 40,
   "metadata": {
    "collapsed": false,
    "pycharm": {
     "name": "#%%\n"
    }
   },
   "outputs": [],
   "source": [
    "dfResult.to_csv(\"/Volumes/Aortas/Aorta/results/inducedRainbow/clusterSizes/5-60/red/clusterSizeRedP5-60_redCellposeA7-8.csv\")"
   ]
  }
 ],
 "metadata": {
  "kernelspec": {
   "display_name": "LuisaProject",
   "language": "python",
   "name": "luisaproject"
  },
  "language_info": {
   "codemirror_mode": {
    "name": "ipython",
    "version": 2
   },
   "file_extension": ".py",
   "mimetype": "text/x-python",
   "name": "python",
   "nbconvert_exporter": "python",
   "pygments_lexer": "ipython2",
   "version": "2.7.6"
  }
 },
 "nbformat": 4,
 "nbformat_minor": 0
}

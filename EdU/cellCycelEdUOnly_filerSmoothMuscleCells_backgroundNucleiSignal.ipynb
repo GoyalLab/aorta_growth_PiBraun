{
 "cells": [
  {
   "cell_type": "code",
   "execution_count": 4,
   "metadata": {},
   "outputs": [],
   "source": [
    "import numpy as np\n",
    "import pandas as pd\n",
    "from os import listdir\n",
    "from os.path import isfile, join\n",
    "import os"
   ]
  },
  {
   "cell_type": "code",
   "execution_count": 8,
   "metadata": {},
   "outputs": [],
   "source": [
    "path = 'results/cellCycle/edUOnly/extractedSignal/P03/8hr'\n",
    "folders = [x[0] for x in os.walk(path)]\n",
    "folders = sorted(folders)"
   ]
  },
  {
   "cell_type": "code",
   "execution_count": 9,
   "metadata": {},
   "outputs": [],
   "source": [
    "#filter cells which are smaller than 350 pixels and have a horizontal orientation\n",
    "\n",
    "for folder in folders:\n",
    "    os.chdir(folder)\n",
    "    files = [f for f in listdir(folder) if isfile(join(folder, f)) if \".DS_Store\" not in f if \".csv\" in f if \"._\" not in f]\n",
    "    for file in files:\n",
    "        df = pd.read_csv(join(folder, file))\n",
    "        dfFilter = df.loc[(df['area'] >= 350) & (np.abs(df['orientation']) <= 1)]\n",
    "        dfFilter.reset_index(drop=True)\n",
    "        filename = file.split(\".csv\")[0] + \"_filtered.csv\"\n",
    "        dfFilter.to_csv(join(folder, filename), index=False)"
   ]
  }
 ],
 "metadata": {
  "kernelspec": {
   "display_name": "Python 3",
   "language": "python",
   "name": "python3"
  },
  "language_info": {
   "codemirror_mode": {
    "name": "ipython",
    "version": 3
   },
   "file_extension": ".py",
   "mimetype": "text/x-python",
   "name": "python",
   "nbconvert_exporter": "python",
   "pygments_lexer": "ipython3",
   "version": "3.8.0"
  },
  "orig_nbformat": 4
 },
 "nbformat": 4,
 "nbformat_minor": 2
}

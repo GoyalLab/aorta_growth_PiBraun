{
 "cells": [
  {
   "cell_type": "code",
   "execution_count": null,
   "metadata": {
    "collapsed": false,
    "pycharm": {
     "name": "#%%\n"
    }
   },
   "outputs": [],
   "source": [
    "import pandas as pd\n",
    "from inducedRainbow.spatial import kNNDistance\n",
    "from utils import nucStitch\n",
    "from os.path import isfile, join\n",
    "from skimage.measure import regionprops_table\n",
    "from random import seed\n",
    "import numpy as np"
   ]
  },
  {
   "cell_type": "code",
   "execution_count": 2,
   "metadata": {
    "collapsed": false,
    "pycharm": {
     "name": "#%%\n"
    }
   },
   "outputs": [],
   "source": [
    "df = pd.read_csv(\"results/inducedRainbow/allClusterSizesRed.csv\")\n",
    "nucleiPath = 'segmentations/inducedRainbow/final/nuclei'"
   ]
  },
  {
   "cell_type": "code",
   "execution_count": 4,
   "metadata": {
    "collapsed": false,
    "pycharm": {
     "name": "#%%\n"
    }
   },
   "outputs": [],
   "source": [
    "# k-NN of all marked clones\n",
    "dfMarked1NN = pd.DataFrame(columns= ['age', 'aorta', 'value'])\n",
    "dfMarked2NN = pd.DataFrame(columns= ['age', 'aorta', 'value'])\n",
    "dfMarked3NN = pd.DataFrame(columns= ['age', 'aorta','value'])\n",
    "dfMarked4NN = pd.DataFrame(columns= ['age', 'aorta', 'value'])\n",
    "dfMarked5NN = pd.DataFrame(columns= ['age', 'aorta', 'value'])\n",
    "\n",
    "# k-NN of dividing clones\n",
    "dfDivided1NN = pd.DataFrame(columns= ['age', 'aorta', 'value'])\n",
    "dfDivided2NN = pd.DataFrame(columns= ['age', 'aorta', 'value'])\n",
    "dfDivided3NN = pd.DataFrame(columns= ['age', 'aorta','value'])\n",
    "dfDivided4NN = pd.DataFrame(columns= ['age', 'aorta', 'value'])\n",
    "dfDivided5NN = pd.DataFrame(columns= ['age', 'aorta', 'value'])"
   ]
  },
  {
   "cell_type": "code",
   "execution_count": null,
   "metadata": {
    "collapsed": false,
    "pycharm": {
     "name": "#%%\n"
    }
   },
   "outputs": [],
   "source": [
    "# negative control: randomly distribute clones\n",
    "simulationNumber = 1000\n",
    "for index, row in df.iterrows():\n",
    "    marked = df.iloc[index, 2:].to_numpy().sum()\n",
    "    #only take dividing clusters\n",
    "    divided = df.iloc[index, 3:].to_numpy().sum()\n",
    "    markedRandomBasis = []\n",
    "    dividedRandomBasis = []\n",
    "    age = row[\"age\"].split(\"P\")[-1]\n",
    "    aorta = row[\"aorta\"]\n",
    "    #create stitched image from cropped images\n",
    "    nucImage = nucStitch.fullNucImage16(join(nucleiPath, age, aorta))\n",
    "    prop_dict = regionprops_table(nucImage, properties = ('label', 'centroid'))\n",
    "    dfNuc = pd.DataFrame(prop_dict)\n",
    "    nucIDs = dfNuc['label'].tolist()\n",
    "    seed(42)\n",
    "    for _ in range(simulationNumber):\n",
    "        markedRandomBasis.append(np.asarray(kNNDistance.randomkNNDistances(nucIDs,marked, dfNuc)))\n",
    "        # only run this analysis if there are more than 7 dividing clones\n",
    "        if divided > 7:\n",
    "            dividedRandomBasis.append(np.asarray(kNNDistance.randomkNNDistances(nucIDs,divided, dfNuc)))\n",
    "\n",
    "    markedRandomTest = np.asarray(kNNDistance.randomkNNDistances(nucIDs,marked, dfNuc))\n",
    "    # only run this analysis if there are more than 7 dividing clones\n",
    "    if divided > 7:\n",
    "        dividedRandomTest = np.asarray(kNNDistance.randomkNNDistances(nucIDs,divided, dfNuc))\n",
    "    markedRandomBasis = np.asarray(markedRandomBasis)\n",
    "    markedRandomTest = np.asarray(markedRandomTest)\n",
    "    dividedRandomBasis = np.asarray(dividedRandomBasis)\n",
    "    dividedRandomTest = np.asarray(dividedRandomTest)\n",
    "\n",
    "    dfMarked1NN = pd.concat([dfMarked1NN,pd.DataFrame({\"age\": age, \"aorta\": aorta, \"value\": markedRandomTest[:,1].flatten()/np.mean(markedRandomBasis[:,:,1].flatten()) -1})])\n",
    "    dfMarked2NN = pd.concat([dfMarked2NN,pd.DataFrame({\"age\": age, \"aorta\": aorta, \"value\": markedRandomTest[:,2].flatten()/np.mean(markedRandomBasis[:,:,2].flatten()) -1})])\n",
    "    dfMarked3NN = pd.concat([dfMarked3NN,pd.DataFrame({\"age\": age, \"aorta\": aorta, \"value\": markedRandomTest[:,3].flatten()/np.mean(markedRandomBasis[:,:,3].flatten()) -1})])\n",
    "    dfMarked4NN = pd.concat([dfMarked4NN,pd.DataFrame({\"age\": age, \"aorta\": aorta, \"value\": markedRandomTest[:,4].flatten()/np.mean(markedRandomBasis[:,:,4].flatten()) -1})])\n",
    "    dfMarked5NN = pd.concat([dfMarked5NN,pd.DataFrame({\"age\": age, \"aorta\": aorta, \"value\": markedRandomTest[:,5].flatten()/np.mean(markedRandomBasis[:,:,5].flatten()) -1})])\n",
    "\n",
    "    if divided > 7:\n",
    "        dfDivided1NN = pd.concat([dfDivided1NN,pd.DataFrame({\"age\": age, \"aorta\": aorta, \"value\": dividedRandomTest[:,1].flatten()/np.mean(dividedRandomBasis[:,:,1].flatten()) -1})])\n",
    "        dfDivided2NN = pd.concat([dfDivided2NN,pd.DataFrame({\"age\": age, \"aorta\": aorta, \"value\": dividedRandomTest[:,2].flatten()/np.mean(dividedRandomBasis[:,:,2].flatten()) -1})])\n",
    "        dfDivided3NN = pd.concat([dfDivided3NN,pd.DataFrame({\"age\": age, \"aorta\": aorta, \"value\": dividedRandomTest[:,3].flatten()/np.mean(dividedRandomBasis[:,:,3].flatten()) -1})])\n",
    "        dfDivided4NN = pd.concat([dfDivided4NN,pd.DataFrame({\"age\": age, \"aorta\": aorta, \"value\": dividedRandomTest[:,4].flatten()/np.mean(dividedRandomBasis[:,:,4].flatten()) -1})])\n",
    "        dfDivided5NN =pd.concat([dfDivided5NN,pd.DataFrame({\"age\": age, \"aorta\": aorta, \"value\": dividedRandomTest[:,5].flatten()/np.mean(dividedRandomBasis[:,:,5].flatten()) -1})])"
   ]
  },
  {
   "cell_type": "code",
   "execution_count": 6,
   "metadata": {
    "collapsed": false,
    "pycharm": {
     "name": "#%%\n"
    }
   },
   "outputs": [],
   "source": [
    "dfMarked1NN['kNNType'] = \"1NN\"\n",
    "dfMarked2NN['kNNType'] = \"2NN\"\n",
    "dfMarked3NN['kNNType'] = \"3NN\"\n",
    "dfMarked4NN['kNNType'] = \"4NN\"\n",
    "dfMarked5NN['kNNType'] = \"5NN\"\n",
    "dfMarkedAll = pd.concat([dfMarked1NN, dfMarked2NN, dfMarked3NN, dfMarked4NN, dfMarked5NN])"
   ]
  },
  {
   "cell_type": "code",
   "execution_count": 7,
   "metadata": {
    "collapsed": false,
    "pycharm": {
     "name": "#%%\n"
    }
   },
   "outputs": [],
   "source": [
    "dfDivided1NN['kNNType'] = \"1NN\"\n",
    "dfDivided2NN['kNNType'] = \"2NN\"\n",
    "dfDivided3NN['kNNType'] = \"3NN\"\n",
    "dfDivided4NN['kNNType'] = \"4NN\"\n",
    "dfDivided5NN['kNNType'] = \"5NN\"\n",
    "dfDividedAll = pd.concat([dfDivided1NN, dfDivided2NN, dfDivided3NN, dfDivided4NN, dfDivided5NN])"
   ]
  },
  {
   "cell_type": "code",
   "execution_count": 11,
   "metadata": {
    "collapsed": false,
    "pycharm": {
     "name": "#%%\n"
    }
   },
   "outputs": [],
   "source": [
    "savePath = \"results/kNN\"\n",
    "dfMarkedAll.to_csv(join(savePath, \"markedNegativeControlkNN1Run_v2.csv\"), index=False)\n",
    "dfDividedAll.to_csv(join(savePath, \"dividedNegativeControlkNN1Run_2.csv\"), index=False)"
   ]
  },
  {
   "cell_type": "code",
   "execution_count": 15,
   "metadata": {
    "collapsed": false,
    "pycharm": {
     "name": "#%%\n"
    }
   },
   "outputs": [],
   "source": [
    "\n",
    "#clones are all in the middle of the image\n",
    "dfMarked1NNMid = pd.DataFrame(columns= ['age', 'aorta', 'value'])\n",
    "dfMarked2NNMid = pd.DataFrame(columns= ['age', 'aorta', 'value'])\n",
    "dfMarked3NNMid = pd.DataFrame(columns= ['age', 'aorta','value'])\n",
    "dfMarked4NNMid = pd.DataFrame(columns= ['age', 'aorta', 'value'])\n",
    "dfMarked5NNMid = pd.DataFrame(columns= ['age', 'aorta', 'value'])\n",
    "\n",
    "dfDivided1NNMid = pd.DataFrame(columns= ['age', 'aorta', 'value'])\n",
    "dfDivided2NNMid = pd.DataFrame(columns= ['age', 'aorta', 'value'])\n",
    "dfDivided3NNMid = pd.DataFrame(columns= ['age', 'aorta','value'])\n",
    "dfDivided4NNMid = pd.DataFrame(columns= ['age', 'aorta', 'value'])\n",
    "dfDivided5NNMid = pd.DataFrame(columns= ['age', 'aorta', 'value'])\n",
    "\n",
    "#clones are biased all at the image border\n",
    "\n",
    "dfMarked1NNOut = pd.DataFrame(columns= ['age', 'aorta', 'value'])\n",
    "dfMarked2NNOut = pd.DataFrame(columns= ['age', 'aorta', 'value'])\n",
    "dfMarked3NNOut = pd.DataFrame(columns= ['age', 'aorta','value'])\n",
    "dfMarked4NNOut = pd.DataFrame(columns= ['age', 'aorta', 'value'])\n",
    "dfMarked5NNOut = pd.DataFrame(columns= ['age', 'aorta', 'value'])\n",
    "\n",
    "dfDivided1NNOut = pd.DataFrame(columns= ['age', 'aorta', 'value'])\n",
    "dfDivided2NNOut = pd.DataFrame(columns= ['age', 'aorta', 'value'])\n",
    "dfDivided3NNOut = pd.DataFrame(columns= ['age', 'aorta','value'])\n",
    "dfDivided4NNOut = pd.DataFrame(columns= ['age', 'aorta', 'value'])\n",
    "dfDivided5NNOut = pd.DataFrame(columns= ['age', 'aorta', 'value'])"
   ]
  },
  {
   "cell_type": "code",
   "execution_count": null,
   "metadata": {
    "collapsed": false,
    "pycharm": {
     "name": "#%%\n"
    }
   },
   "outputs": [],
   "source": [
    "##clusters only in middle of image (positive control)\n",
    "##clusters only at outside of image (positive control)\n",
    "\n",
    "simulationNumber = 1000\n",
    "for index, row in df.iterrows():\n",
    "    marked = df.iloc[index, 2:].to_numpy().sum()\n",
    "    divided = df.iloc[index, 3:].to_numpy().sum()\n",
    "    markedRandomBasis = []\n",
    "    dividedRandomBasis = []\n",
    "    age = row[\"age\"].split(\"P\")[-1]\n",
    "    aorta = row[\"aorta\"]\n",
    "    nucImage = nucStitch.fullNucImage16(join(nucleiPath, age, aorta))\n",
    "    midNucImage = nucStitch.middleNucImage(join(nucleiPath, age, aorta)).astype(int)\n",
    "    outNucImage = nucStitch.outsideNucImage(join(nucleiPath, age, aorta)).astype(int)\n",
    "    prop_dict = regionprops_table(nucImage, properties = ('label', 'centroid'))\n",
    "    dfNuc = pd.DataFrame(prop_dict)\n",
    "    nucIDs = dfNuc['label'].tolist()\n",
    "    seed(42)\n",
    "    for _ in range(simulationNumber):\n",
    "        markedRandomBasis.append(np.asarray(kNNDistance.randomkNNDistances(nucIDs,marked, dfNuc)))\n",
    "        if divided > 7:\n",
    "            dividedRandomBasis.append(np.asarray(kNNDistance.randomkNNDistances(nucIDs,divided, dfNuc)))\n",
    "\n",
    "    prop_dictMid = regionprops_table(midNucImage, properties = ('label', 'centroid'))\n",
    "    dfNucMid = pd.DataFrame(prop_dictMid)\n",
    "    nucIDsMid = dfNucMid['label'].tolist()\n",
    "    markedMid = np.asarray(kNNDistance.randomkNNDistances(nucIDsMid,marked, dfNucMid))\n",
    "    if divided > 7:\n",
    "        dividedMid = np.asarray(kNNDistance.randomkNNDistances(nucIDsMid,divided, dfNucMid))\n",
    "\n",
    "\n",
    "    prop_dictOut = regionprops_table(outNucImage, properties = ('label', 'centroid'))\n",
    "    dfNucOut = pd.DataFrame(prop_dictOut)\n",
    "    nucIDsOut = dfNucOut['label'].tolist()\n",
    "    markedOut = np.asarray(kNNDistance.randomkNNDistances(nucIDsOut,marked, dfNucOut))\n",
    "    if divided > 7:\n",
    "        dividedOut = np.asarray(kNNDistance.randomkNNDistances(nucIDsOut,divided, dfNucOut))\n",
    "\n",
    "\n",
    "\n",
    "    markedRandomBasis = np.asarray(markedRandomBasis)\n",
    "    markedMid = np.asarray(markedMid)\n",
    "    markedOut = np.asarray(markedOut)\n",
    "    dividedRandomBasis = np.asarray(dividedRandomBasis)\n",
    "    dividedMid = np.asarray(dividedMid)\n",
    "    dividedOut = np.asarray(dividedOut)\n",
    "\n",
    "    dfMarked1NNMid = pd.concat([dfMarked1NNMid,pd.DataFrame({\"age\": age, \"aorta\": aorta, \"value\": markedMid[:,1].flatten()/np.mean(markedRandomBasis[:,:,1].flatten()) -1})])\n",
    "    dfMarked2NNMid = pd.concat([dfMarked2NNMid,pd.DataFrame({\"age\": age, \"aorta\": aorta, \"value\": markedMid[:,2].flatten()/np.mean(markedRandomBasis[:,:,2].flatten()) -1})])\n",
    "    dfMarked3NNMid = pd.concat([dfMarked3NNMid,pd.DataFrame({\"age\": age, \"aorta\": aorta, \"value\": markedMid[:,3].flatten()/np.mean(markedRandomBasis[:,:,3].flatten()) -1})])\n",
    "    dfMarked4NNMid = pd.concat([dfMarked4NNMid,pd.DataFrame({\"age\": age, \"aorta\": aorta, \"value\": markedMid[:,4].flatten()/np.mean(markedRandomBasis[:,:,4].flatten()) -1})])\n",
    "    dfMarked5NNMid = pd.concat([dfMarked5NNMid,pd.DataFrame({\"age\": age, \"aorta\": aorta, \"value\": markedMid[:,5].flatten()/np.mean(markedRandomBasis[:,:,5].flatten()) -1})])\n",
    "\n",
    "    dfMarked1NNOut = pd.concat([dfMarked1NNOut,pd.DataFrame({\"age\": age, \"aorta\": aorta, \"value\": markedOut[:,1].flatten()/np.mean(markedRandomBasis[:,:,1].flatten()) -1})])\n",
    "    dfMarked2NNOut = pd.concat([dfMarked2NNOut,pd.DataFrame({\"age\": age, \"aorta\": aorta, \"value\": markedOut[:,2].flatten()/np.mean(markedRandomBasis[:,:,2].flatten()) -1})])\n",
    "    dfMarked3NNOut = pd.concat([dfMarked3NNOut,pd.DataFrame({\"age\": age, \"aorta\": aorta, \"value\": markedOut[:,3].flatten()/np.mean(markedRandomBasis[:,:,3].flatten()) -1})])\n",
    "    dfMarked4NNOut = pd.concat([dfMarked4NNOut,pd.DataFrame({\"age\": age, \"aorta\": aorta, \"value\": markedOut[:,4].flatten()/np.mean(markedRandomBasis[:,:,4].flatten()) -1})])\n",
    "    dfMarked5NNOut = pd.concat([dfMarked5NNOut,pd.DataFrame({\"age\": age, \"aorta\": aorta, \"value\": markedOut[:,5].flatten()/np.mean(markedRandomBasis[:,:,5].flatten()) -1})])\n",
    "\n",
    "    if divided > 7:\n",
    "        dfDivided1NNMid = pd.concat([dfDivided1NNMid,pd.DataFrame({\"age\": age, \"aorta\": aorta, \"value\": dividedMid[:,1].flatten()/np.mean(dividedRandomBasis[:,:,1].flatten()) -1})])\n",
    "        dfDivided2NNMid = pd.concat([dfDivided2NNMid,pd.DataFrame({\"age\": age, \"aorta\": aorta, \"value\": dividedMid[:,2].flatten()/np.mean(dividedRandomBasis[:,:,2].flatten()) -1})])\n",
    "        dfDivided3NNMid = pd.concat([dfDivided3NNMid,pd.DataFrame({\"age\": age, \"aorta\": aorta, \"value\": dividedMid[:,3].flatten()/np.mean(dividedRandomBasis[:,:,3].flatten()) -1})])\n",
    "        dfDivided4NNMid = pd.concat([dfDivided4NNMid,pd.DataFrame({\"age\": age, \"aorta\": aorta, \"value\": dividedMid[:,4].flatten()/np.mean(dividedRandomBasis[:,:,4].flatten()) -1})])\n",
    "        dfDivided5NNMid = pd.concat([dfDivided5NNMid,pd.DataFrame({\"age\": age, \"aorta\": aorta, \"value\": dividedMid[:,5].flatten()/np.mean(dividedRandomBasis[:,:,5].flatten()) -1})])\n",
    "\n",
    "        dfDivided1NNOut = pd.concat([dfDivided1NNOut,pd.DataFrame({\"age\": age, \"aorta\": aorta, \"value\": dividedOut[:,1].flatten()/np.mean(dividedRandomBasis[:,:,1].flatten()) -1})])\n",
    "        dfDivided2NNOut = pd.concat([dfDivided2NNOut,pd.DataFrame({\"age\": age, \"aorta\": aorta, \"value\": dividedOut[:,2].flatten()/np.mean(dividedRandomBasis[:,:,2].flatten()) -1})])\n",
    "        dfDivided3NNOut = pd.concat([dfDivided3NNOut,pd.DataFrame({\"age\": age, \"aorta\": aorta, \"value\": dividedOut[:,3].flatten()/np.mean(dividedRandomBasis[:,:,3].flatten()) -1})])\n",
    "        dfDivided4NNOut = pd.concat([dfDivided4NNOut,pd.DataFrame({\"age\": age, \"aorta\": aorta, \"value\": dividedOut[:,4].flatten()/np.mean(dividedRandomBasis[:,:,4].flatten()) -1})])\n",
    "        dfDivided5NNOut = pd.concat([dfDivided5NNOut,pd.DataFrame({\"age\": age, \"aorta\": aorta, \"value\": dividedOut[:,5].flatten()/np.mean(dividedRandomBasis[:,:,5].flatten()) -1})])\n"
   ]
  },
  {
   "cell_type": "code",
   "execution_count": 17,
   "metadata": {
    "collapsed": false,
    "pycharm": {
     "name": "#%%\n"
    }
   },
   "outputs": [],
   "source": [
    "dfMarked1NNMid['kNNType'] = \"1NN\"\n",
    "dfMarked2NNMid['kNNType'] = \"2NN\"\n",
    "dfMarked3NNMid['kNNType'] = \"3NN\"\n",
    "dfMarked4NNMid['kNNType'] = \"4NN\"\n",
    "dfMarked5NNMid['kNNType'] = \"5NN\"\n",
    "dfMarkedAllMid = pd.concat([dfMarked1NNMid, dfMarked2NNMid, dfMarked3NNMid, dfMarked4NNMid, dfMarked5NNMid])\n",
    "\n",
    "dfMarked1NNOut['kNNType'] = \"1NN\"\n",
    "dfMarked2NNOut['kNNType'] = \"2NN\"\n",
    "dfMarked3NNOut['kNNType'] = \"3NN\"\n",
    "dfMarked4NNOut['kNNType'] = \"4NN\"\n",
    "dfMarked5NNOut['kNNType'] = \"5NN\"\n",
    "dfMarkedAllOut = pd.concat([dfMarked1NNOut, dfMarked2NNOut, dfMarked3NNOut, dfMarked4NNOut, dfMarked5NNOut])"
   ]
  },
  {
   "cell_type": "code",
   "execution_count": 18,
   "metadata": {
    "collapsed": false,
    "pycharm": {
     "name": "#%%\n"
    }
   },
   "outputs": [],
   "source": [
    "dfDivided1NNMid['kNNType'] = \"1NN\"\n",
    "dfDivided2NNMid['kNNType'] = \"2NN\"\n",
    "dfDivided3NNMid['kNNType'] = \"3NN\"\n",
    "dfDivided4NNMid['kNNType'] = \"4NN\"\n",
    "dfDivided5NNMid['kNNType'] = \"5NN\"\n",
    "dfDividedAllMid = pd.concat([dfDivided1NNMid, dfDivided2NNMid, dfDivided3NNMid, dfDivided4NNMid, dfDivided5NNMid])\n",
    "\n",
    "dfDivided1NNOut['kNNType'] = \"1NN\"\n",
    "dfDivided2NNOut['kNNType'] = \"2NN\"\n",
    "dfDivided3NNOut['kNNType'] = \"3NN\"\n",
    "dfDivided4NNOut['kNNType'] = \"4NN\"\n",
    "dfDivided5NNOut['kNNType'] = \"5NN\"\n",
    "dfDividedAllOut = pd.concat([dfDivided1NNOut, dfDivided2NNOut, dfDivided3NNOut, dfDivided4NNOut, dfDivided5NNOut])"
   ]
  },
  {
   "cell_type": "code",
   "execution_count": 24,
   "metadata": {
    "collapsed": false,
    "pycharm": {
     "name": "#%%\n"
    }
   },
   "outputs": [],
   "source": [
    "savePath = \"/Users/jones/Downloads\"\n",
    "dfMarkedAllMid.to_csv(join(savePath, \"markedPositiveControlMidkNN1Run.csv\"), index=False)\n",
    "dfMarkedAllOut.to_csv(join(savePath, \"markedPositiveControlOutkNN1Run.csv\"), index=False)\n",
    "dfDividedAllMid.to_csv(join(savePath, \"dividedPositiveControlMidkNN1Run.csv\"), index=False)\n",
    "dfDividedAllOut.to_csv(join(savePath, \"dividedPositiveControlOutkNN1Run.csv\"), index=False)"
   ]
  }
 ],
 "metadata": {
  "kernelspec": {
   "display_name": "LuisaProject",
   "language": "python",
   "name": "luisaproject"
  },
  "language_info": {
   "codemirror_mode": {
    "name": "ipython",
    "version": 2
   },
   "file_extension": ".py",
   "mimetype": "text/x-python",
   "name": "python",
   "nbconvert_exporter": "python",
   "pygments_lexer": "ipython2",
   "version": "2.7.6"
  }
 },
 "nbformat": 4,
 "nbformat_minor": 0
}

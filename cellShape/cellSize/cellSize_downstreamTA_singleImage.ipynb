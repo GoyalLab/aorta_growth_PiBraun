{
 "cells": [
  {
   "cell_type": "code",
   "execution_count": 3,
   "metadata": {},
   "outputs": [],
   "source": [
    "import cv2\n",
    "import numpy as np\n",
    "import matplotlib.pyplot as plt\n",
    "from skimage import filters, measure, morphology\n",
    "import math\n",
    "from skimage.measure import label, regionprops\n",
    "from PIL import Image\n",
    "import colorsys\n",
    "from skimage import img_as_ubyte, exposure\n",
    "from os import listdir\n",
    "from os.path import isfile, join\n",
    "import os\n",
    "from qualityCheck import nucleiCheckTA, nucleiCheckTA1, nucleiCheckTANOQC"
   ]
  },
  {
   "cell_type": "code",
   "execution_count": 11,
   "metadata": {},
   "outputs": [],
   "source": [
    "cytoSegPath = \"/Users/jones/Downloads/pruningSCImages/preprocessedImages/cellShape/predict/230724_EdU_pruning_3-12_cellShape.tif\"\n",
    "nucSegPath = \"/Users/jones/Downloads/pruningSCImages/segmentation/230724_EdU_pruning_3-12_nuclei_seg.npy\"\n",
    "nucPath = \"/Users/jones/Downloads/pruningSCImages/preprocessedImages/nuclei/230724_EdU_pruning_3-12_nuclei.tif\"\n",
    "cytoPath = \"/Users/jones/Downloads/pruningSCImages/preprocessedImages/cellShape/230724_EdU_pruning_3-12_cellShape.tif\"\n",
    "savePath = '/Users/jones/Downloads/pruningSCImages/cellShapeSeg'\n",
    "saveName = '230724_EdU_pruning_3-12_cellShape_OLDseg.npy'"
   ]
  },
  {
   "cell_type": "code",
   "execution_count": 12,
   "metadata": {},
   "outputs": [],
   "source": [
    "cytoMasks = nucleiCheckTA(cytoSegPath, nucSegPath, 3, 0.8)\n",
    "originalImage = cv2.imread(cytoPath)\n",
    "nucleiImage = cv2.imread(nucPath)\n",
    "originalImage2 = originalImage + nucleiImage\n",
    "\n",
    "cellposeFile = {}\n",
    "zeros = np.zeros(originalImage.shape, dtype=\"uint8\")\n",
    "\n",
    "dapi8bitNormalized= img_as_ubyte(exposure.rescale_intensity(originalImage2))\n",
    "cellSize8bitNormalized = img_as_ubyte(exposure.rescale_intensity(originalImage))\n",
    "dapi8bitNormalized = np.asarray(dapi8bitNormalized)\n",
    "dapi8bitNormalized = dapi8bitNormalized\n",
    "dapi8bitNormalized = dapi8bitNormalized.astype(cellSize8bitNormalized.dtype)\n",
    "merged8bitNormalized = cv2.merge([dapi8bitNormalized[:,:,0], cellSize8bitNormalized[:,:,0], cellSize8bitNormalized[:,:,0]])\n",
    "\n",
    "outlines = cv2.imread(cytoSegPath)[:,:,0]\n",
    "#save in dic\n",
    "cellposeFile['masks'] = cytoMasks\n",
    "cellposeFile['img'] = merged8bitNormalized\n",
    "cellposeFile['outlines'] = outlines\n",
    "\n",
    "\n",
    "os.chdir(savePath)\n",
    "np.save(saveName, cellposeFile)"
   ]
  },
  {
   "cell_type": "code",
   "execution_count": null,
   "metadata": {},
   "outputs": [],
   "source": []
  },
  {
   "cell_type": "code",
   "execution_count": null,
   "metadata": {},
   "outputs": [],
   "source": [
    "for cytoFolder in cytoFolders:\n",
    "    os.chdir(cytoFolder)\n",
    "    files = [f for f in listdir(cytoFolder) if isfile(join(cytoFolder, f)) if \".DS_Store\" not in f if \".tif\" in f if \"._\" not in f]\n",
    "    aorta = cytoFolder.split(\"/\")[-2]\n",
    "    for file in files:\n",
    "        aorta = cytoFolder.split(\"/\")[-2]\n",
    "        age = cytoFolder.split(\"/\")[-3]\n",
    "        #nucFile = file.split(\"_cellSize\")[0] + \"_\" +  file.split(\"_cellSize\")[1].split(\".tif\")[0] + \"_cellSize_seg.npy\"\n",
    "        nucFile = file.split(\"_cellSize\")[0] + \"_nuclei\" + file.split(\".tif\")[0].split(\"cellSize\")[-1] + \"_seg.npy\"\n",
    "        nucleiPath = join(nucBasePath, age, aorta, nucFile)\n",
    "        cytoMasks = nucleiCheckTA(join(cytoFolder, file), nucleiPath, 3, 0.8)\n",
    "\n",
    "        originalImage = cv2.imread(join(originalImageBase, age, aorta, file))\n",
    "        #nucIm = file.split(\"_cellSize\")[0] + \"_\" +  file.split(\"_cellSize\")[1].split(\".tif\")[0] + \"_cellSize.tif\"\n",
    "        nucIm = file.split(\"_cellSize\")[0] + \"_nuclei\" + file.split(\".tif\")[0].split(\"cellSize\")[-1] + \".tif\"\n",
    "        nucleiImage = cv2.imread(join(nucleiImageBase, age, aorta, nucIm))\n",
    "        originalImage2 = originalImage + nucleiImage\n",
    "\n",
    "        cellposeFile = {}\n",
    "        zeros = np.zeros(originalImage.shape, dtype=\"uint8\")\n",
    "\n",
    "        dapi8bitNormalized= img_as_ubyte(exposure.rescale_intensity(originalImage2))\n",
    "        cellSize8bitNormalized = img_as_ubyte(exposure.rescale_intensity(originalImage))\n",
    "        dapi8bitNormalized = np.asarray(dapi8bitNormalized)\n",
    "        dapi8bitNormalized = dapi8bitNormalized\n",
    "        dapi8bitNormalized = dapi8bitNormalized.astype(cellSize8bitNormalized.dtype)\n",
    "        merged8bitNormalized = cv2.merge([dapi8bitNormalized[:,:,0], cellSize8bitNormalized[:,:,0], cellSize8bitNormalized[:,:,0]])\n",
    "\n",
    "        outlines = cv2.imread(join(cytoFolder, file))[:,:,0]\n",
    "        #save in dic\n",
    "        cellposeFile['masks'] = cytoMasks\n",
    "        cellposeFile['img'] = merged8bitNormalized\n",
    "        cellposeFile['outlines'] = outlines\n",
    "\n",
    "\n",
    "        os.chdir(cytoFolder)\n",
    "        os.chdir(os.path.normpath(os.getcwd() + os.sep + os.pardir))\n",
    "        np.save(file.split(\".tif\")[0] + \"_NEWseg.npy\", cellposeFile)"
   ]
  }
 ],
 "metadata": {
  "kernelspec": {
   "display_name": "Python 3",
   "language": "python",
   "name": "python3"
  },
  "language_info": {
   "codemirror_mode": {
    "name": "ipython",
    "version": 3
   },
   "file_extension": ".py",
   "mimetype": "text/x-python",
   "name": "python",
   "nbconvert_exporter": "python",
   "pygments_lexer": "ipython3",
   "version": "3.8.0"
  }
 },
 "nbformat": 4,
 "nbformat_minor": 2
}

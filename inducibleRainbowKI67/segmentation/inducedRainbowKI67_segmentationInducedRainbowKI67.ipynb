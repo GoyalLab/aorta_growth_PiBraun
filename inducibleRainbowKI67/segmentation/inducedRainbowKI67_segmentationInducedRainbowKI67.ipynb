{
 "cells": [
  {
   "cell_type": "code",
   "execution_count": 1,
   "metadata": {
    "collapsed": false,
    "pycharm": {
     "name": "#%%\n"
    }
   },
   "outputs": [],
   "source": [
    "import cv2\n",
    "import numpy as np\n",
    "from skimage import measure, color, io\n",
    "from os.path import join\n",
    "import io\n",
    "import pandas as pd\n",
    "from skimage import img_as_ubyte, exposure\n",
    "from skimage.measure import regionprops_table\n",
    "import matplotlib.pyplot as plt\n",
    "from skimage.segmentation import clear_border\n",
    "import csv\n",
    "import os\n",
    "import skimage\n",
    "from PIL import Image\n",
    "import colorsys"
   ]
  },
  {
   "cell_type": "code",
   "execution_count": 60,
   "metadata": {
    "collapsed": false,
    "pycharm": {
     "name": "#%%\n"
    }
   },
   "outputs": [],
   "source": [
    "imagePath = 'preprocessedImages/rainbow/inducedRainbowKI67/thresholded/19-23/aorta05/230703_C5RB 19-23_aorta5_Ki67_stitch unmix denoise_red_thresholded8bit.tif'\n",
    "originalImagePath = \"preprocessedImages/rainbow/inducedRainbowKI67/stitched/19-23/aorta05/230703_C5RB 19-23_aorta5_Ki67_stitch unmix denoise_red.tif\"\n",
    "ki67ImagePath = \"preprocessedImages/rainbow/inducedRainbowKI67/stitched/19-23/aorta05/230703_C5RB 19-23_aorta5_Ki67_stitch unmix denoise_ki67.tif\"\n",
    "distTransformMultiplyer = 0.01\n",
    "cellposeFileName = \"cellposeSegm_RedP19-23_aorta05_50Thres.npy\"\n",
    "savePath = 'segmentations/inducedRainbowKI67/old/19-23/aorta05'"
   ]
  },
  {
   "cell_type": "code",
   "execution_count": 61,
   "metadata": {
    "collapsed": false,
    "pycharm": {
     "name": "#%%\n"
    }
   },
   "outputs": [],
   "source": [
    "img1 = cv2.imread(imagePath)\n",
    "img = cv2.cvtColor(img1,cv2.COLOR_BGR2GRAY)"
   ]
  },
  {
   "cell_type": "code",
   "execution_count": 62,
   "metadata": {
    "collapsed": false,
    "pycharm": {
     "name": "#%%\n"
    }
   },
   "outputs": [],
   "source": [
    "ret1, thresh = cv2.threshold(img, 0, 255, cv2.THRESH_BINARY + cv2.THRESH_OTSU)\n",
    "kernel = np.ones((3,3),np.uint8)"
   ]
  },
  {
   "cell_type": "code",
   "execution_count": 63,
   "metadata": {
    "collapsed": false,
    "pycharm": {
     "name": "#%%\n"
    }
   },
   "outputs": [],
   "source": [
    "opening = cv2.morphologyEx(thresh,cv2.MORPH_OPEN,kernel, iterations = 2)\n",
    "#we use the thresh bc opening gets rid of too many segmentations\n",
    "opening = thresh\n",
    "opening = clear_border(opening)"
   ]
  },
  {
   "cell_type": "code",
   "execution_count": 64,
   "metadata": {
    "collapsed": false,
    "pycharm": {
     "name": "#%%\n"
    }
   },
   "outputs": [],
   "source": [
    "sure_bg = cv2.dilate(opening,kernel,iterations=10)\n",
    "opening8Bit = opening.astype(np.uint8)\n",
    "dist_transform = cv2.distanceTransform(opening8Bit,cv2.DIST_L2,3)\n",
    "ret2, sure_fg = cv2.threshold(dist_transform,distTransformMultiplyer*dist_transform.max(),255,0)\n",
    "sure_fg = np.uint8(sure_fg)\n",
    "unknown = cv2.subtract(sure_bg,sure_fg)\n",
    "ret3, markers = cv2.connectedComponents(sure_fg)\n",
    "markers = markers+10\n",
    "markers[unknown==255] = 0\n",
    "markers = cv2.watershed(img1,markers)"
   ]
  },
  {
   "cell_type": "code",
   "execution_count": 65,
   "metadata": {
    "collapsed": false,
    "pycharm": {
     "name": "#%%\n"
    }
   },
   "outputs": [],
   "source": [
    "img1[markers == -1] = [0,255,255]\n",
    "img2 = color.label2rgb(markers, bg_label=0)"
   ]
  },
  {
   "cell_type": "code",
   "execution_count": 66,
   "metadata": {
    "collapsed": false,
    "pycharm": {
     "name": "#%%\n"
    }
   },
   "outputs": [],
   "source": [
    "#connect touching clusters\n",
    "markersNew = np.copy(markers)\n",
    "markersNew[markersNew == 10] = 0\n",
    "minus1 = np.where(markersNew == -1)\n",
    "for i in range(len(minus1[0])):\n",
    "    minus1y = minus1[0][i]\n",
    "    minus1x = minus1[1][i]\n",
    "    if (minus1y != 0) & (minus1y != (markersNew.shape[0] -1)) & (minus1x != 0) & (minus1x != (markersNew.shape[1]-1)):\n",
    "        numbers = np.unique([markersNew[minus1y - 1,minus1x], markersNew[minus1y + 1,minus1x], markersNew[minus1y,minus1x-1], markersNew[minus1y,minus1x +1]])\n",
    "        uniqueMasks  = set(numbers) - set([-1, 0])\n",
    "        masks = list(uniqueMasks)\n",
    "        if len(uniqueMasks) > 1:\n",
    "            masks = list(uniqueMasks)\n",
    "            markersNew = np.where(markersNew == masks[1], masks[0], markersNew)\n",
    "        if 0 not in numbers:\n",
    "            markersNew[minus1y, minus1x] = masks[0]"
   ]
  },
  {
   "cell_type": "code",
   "execution_count": 67,
   "metadata": {
    "collapsed": false,
    "pycharm": {
     "name": "#%%\n"
    }
   },
   "outputs": [],
   "source": [
    "cellposeFile = {}\n",
    "#read in image\n",
    "originalImg = skimage.io.imread(originalImagePath)\n",
    "nucleiImg = skimage.io.imread(ki67ImagePath)\n",
    "zeros = np.zeros(originalImg.shape, dtype=\"uint8\")\n",
    "#8bit normalize & merge\n",
    "dapi8bitNormalized= img_as_ubyte(exposure.rescale_intensity(nucleiImg))\n",
    "rainbow8bitNormalized = img_as_ubyte(exposure.rescale_intensity(originalImg))\n",
    "dapi8bitNormalized = np.asarray(dapi8bitNormalized)\n",
    "dapi8bitNormalized = dapi8bitNormalized*0.1\n",
    "dapi8bitNormalized = dapi8bitNormalized.astype(rainbow8bitNormalized.dtype)\n",
    "merged8bitNormalized = cv2.merge([rainbow8bitNormalized, dapi8bitNormalized, zeros])\n",
    "#define masks and outlines\n",
    "masks = np.where(markersNew==-1, 0, markersNew)\n",
    "outlines = np.where(markersNew==-1,1,0)\n",
    "#save in dic\n",
    "cellposeFile['masks'] = masks\n",
    "cellposeFile['img'] = merged8bitNormalized\n",
    "cellposeFile['outlines'] = outlines\n",
    "np.save(join(savePath, cellposeFileName),cellposeFile)"
   ]
  },
  {
   "cell_type": "code",
   "execution_count": null,
   "metadata": {
    "collapsed": false,
    "pycharm": {
     "name": "#%%\n"
    }
   },
   "outputs": [],
   "source": []
  },
  {
   "cell_type": "code",
   "execution_count": null,
   "metadata": {
    "collapsed": false,
    "pycharm": {
     "name": "#%%\n"
    }
   },
   "outputs": [],
   "source": []
  }
 ],
 "metadata": {
  "kernelspec": {
   "display_name": "Python 3",
   "language": "python",
   "name": "python3"
  },
  "language_info": {
   "codemirror_mode": {
    "name": "ipython",
    "version": 3
   },
   "file_extension": ".py",
   "mimetype": "text/x-python",
   "name": "python",
   "nbconvert_exporter": "python",
   "pygments_lexer": "ipython3",
   "version": "3.8.0"
  }
 },
 "nbformat": 4,
 "nbformat_minor": 0
}

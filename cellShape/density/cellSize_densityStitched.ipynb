{
 "cells": [
  {
   "cell_type": "code",
   "execution_count": 1,
   "metadata": {
    "collapsed": false,
    "pycharm": {
     "name": "#%%\n"
    }
   },
   "outputs": [],
   "source": [
    "import numpy as np\n",
    "import pandas as pd\n",
    "import os\n",
    "from os import listdir\n",
    "from os.path import isfile, join\n",
    "from PIL import Image"
   ]
  },
  {
   "cell_type": "code",
   "execution_count": 55,
   "metadata": {
    "collapsed": false,
    "pycharm": {
     "name": "#%%\n"
    }
   },
   "outputs": [],
   "source": [
    "imgPath = \"/Volumes/Aortas/Aorta/preprocessedImages/cellSize/stitched/cropped1-8/nuclei\"\n",
    "segmPath = \"/Volumes/Aortas/Aorta/segmentations/cellSize/stitchCyto\"\n",
    "saveName = \"/Volumes/Aortas/Aorta/results/density/densityStitched.csv\""
   ]
  },
  {
   "cell_type": "code",
   "execution_count": null,
   "metadata": {
    "collapsed": false,
    "pycharm": {
     "name": "#%%\n"
    }
   },
   "outputs": [],
   "source": [
    "#hand measured\n",
    "areaPath = \"/Users/jones/Downloads/areasStitched\""
   ]
  },
  {
   "cell_type": "code",
   "execution_count": 56,
   "metadata": {
    "collapsed": false,
    "pycharm": {
     "name": "#%%\n"
    }
   },
   "outputs": [],
   "source": [
    "folders = [x[0] for x in os.walk(segmPath)]\n",
    "folders = sorted(folders)"
   ]
  },
  {
   "cell_type": "markdown",
   "metadata": {},
   "source": [
    "Split before and after P7 due to the cropping parameter (P3-7 are too small st an own cropping paramter was defined)"
   ]
  },
  {
   "cell_type": "code",
   "execution_count": null,
   "metadata": {},
   "outputs": [],
   "source": [
    "dfResultsAfterP7 = pd.DataFrame()\n",
    "for folder in folders:\n",
    "    os.chdir(folder)\n",
    "    files = [f for f in listdir(folder) if isfile(join(folder, f)) if \".DS_Store\" not in f if \".npy\" in f if \"._\" not in f]\n",
    "    if files:\n",
    "        age = folder.split(\"/\")[-2]\n",
    "        if (age != \"P03\") and (age != \"P05\") and (age != \"P07\"):\n",
    "            #for P3, P5, P7 too few results => hand measurements of area\n",
    "            aorta = folder.split(\"/\")[-1]\n",
    "            imagePath = join(imgPath, age, aorta)\n",
    "            fileImage = [f for f in listdir(imagePath) if isfile(join(imagePath, f)) if \".DS_Store\" not in f if \"._\" not in f]\n",
    "            im = Image.open(join(imagePath,fileImage[0]) )\n",
    "            cropping_parameter_width = int(im.size[0]/550)\n",
    "            cropping_parameter_height = int(im.size[1]/550)\n",
    "            crop_width = im.size[0]/cropping_parameter_width\n",
    "            crop_height = im.size[1]/cropping_parameter_height\n",
    "            field = np.zeros((cropping_parameter_height, cropping_parameter_width))\n",
    "            for i in range(cropping_parameter_height):\n",
    "                for j in range(cropping_parameter_width):\n",
    "                    if isfile(join(segmPath,age, aorta, \"Cropped_IMG-\" + str((i*cropping_parameter_width) + j + 1) + \"_seg.npy\")):\n",
    "                        field[i,j] = 1\n",
    "            for j in range(cropping_parameter_width):\n",
    "                excludeUpper = False\n",
    "                excludeLower = False\n",
    "                i = 0\n",
    "                while((excludeUpper == False) and (i<cropping_parameter_height)):\n",
    "                    if(field[i,j] == 1):\n",
    "                        field[i,j] = 0\n",
    "                        excludeUpper = True\n",
    "                    else:\n",
    "                        i += 1\n",
    "                i = cropping_parameter_height -1\n",
    "                while((excludeLower == False) and (i>0)):\n",
    "                    if(field[i,j] == 1):\n",
    "                        field[i,j] = 0\n",
    "                        excludeLower = True\n",
    "                    else:\n",
    "                        i -= 1\n",
    "            for i in range(cropping_parameter_height):\n",
    "                for j in range(cropping_parameter_width):\n",
    "                    if field[i,j] == 1:\n",
    "                        masks = np.load(join(segmPath, age, aorta, \"Cropped_IMG-\" + str((i*cropping_parameter_width) + j + 1) + \"_seg.npy\"), allow_pickle=True).item()['masks']\n",
    "                        nuclei = len(np.unique(masks)) -1\n",
    "                        density = nuclei/(len(masks)*len(masks[0]))\n",
    "                        field[i,j] = density\n",
    "\n",
    "            densities = []\n",
    "            position = []\n",
    "            imageNumber = []\n",
    "            for i in range(cropping_parameter_height):\n",
    "                for j in range(cropping_parameter_width):\n",
    "                    if field[i,j] != 0:\n",
    "                        densities.append(field[i,j])\n",
    "                        position.append(j/(cropping_parameter_width-1))\n",
    "                        imageNumber.append((i*cropping_parameter_width) + j + 1)\n",
    "\n",
    "            dfResult = pd.DataFrame({\"density\": densities, \"position\": position, \"imageNumber\": imageNumber})\n",
    "            dfResult[\"age\"] = age\n",
    "            dfResult[\"aorta\"] = aorta\n",
    "            os.chdir(savePath)\n",
    "            dfResultsAfterP7 = pd.concat([dfResultsAfterP7, dfResult])"
   ]
  },
  {
   "cell_type": "code",
   "execution_count": null,
   "metadata": {
    "collapsed": false,
    "pycharm": {
     "name": "#%%\n"
    }
   },
   "outputs": [],
   "source": [
    "folders = [x[0] for x in os.walk(areaPath)]\n",
    "folders = sorted(folders)"
   ]
  },
  {
   "cell_type": "markdown",
   "metadata": {},
   "source": [
    "before P7:"
   ]
  },
  {
   "cell_type": "code",
   "execution_count": 65,
   "metadata": {
    "collapsed": false,
    "pycharm": {
     "name": "#%%\n"
    }
   },
   "outputs": [],
   "source": [
    "dfCroppingParam = pd.read_csv(\"/Volumes/Aortas/Aorta/results/croppingParam_P03_P05_P07.csv\")\n",
    "dfResultsP3_5_7 = pd.DataFrame()\n",
    "for folder in folders:\n",
    "    os.chdir(folder)\n",
    "    files = [f for f in listdir(folder) if isfile(join(folder, f)) if \".DS_Store\" not in f if \".csv\" in f if \"._\" not in f]\n",
    "    for file in files:\n",
    "        aorta = folder.split(\"/\")[-1]\n",
    "        age = folder.split(\"/\")[-2]\n",
    "        cropping_parameter_width = dfCroppingParam.loc[(dfCroppingParam.age == age) & (dfCroppingParam.aorta == aorta)][\"cropping_parameter_width\"].values[0]\n",
    "        cropping_parameter_height = dfCroppingParam.loc[(dfCroppingParam.age == age) & (dfCroppingParam.aorta == aorta)][\"cropping_parameter_height\"].values[0]\n",
    "        field = np.zeros((cropping_parameter_height, cropping_parameter_width))\n",
    "        dfArea = pd.read_csv(join(folder, file))\n",
    "\n",
    "        densities = []\n",
    "        position = []\n",
    "        imageNumbers = []\n",
    "        for index, row in dfArea.iterrows():\n",
    "            area = row[\"Area\"]\n",
    "            imageNumber = int(row[\"Label\"].split(\".tif\")[0].split(\"-\")[-1])\n",
    "            segmFile = row[\"Label\"].split(\".tif\")[0] + \"_seg.npy\"\n",
    "            masks = np.load(join(segmPath, age, aorta, segmFile), allow_pickle = True).item()['masks']\n",
    "            numberNuclei = len(np.unique(masks)) - 1\n",
    "            i = int((imageNumber-1)/cropping_parameter_width)\n",
    "            j = int((imageNumber-1)%cropping_parameter_width)\n",
    "            densities.append(numberNuclei/area)\n",
    "            position.append(j/(cropping_parameter_width-1))\n",
    "            imageNumbers.append(imageNumber)\n",
    "\n",
    "        dfResult = pd.DataFrame({\"density\": densities, \"position\": position, \"imageNumber\": imageNumbers})\n",
    "        dfResult[\"age\"] = age\n",
    "        dfResult[\"aorta\"] = aorta\n",
    "        dfResultsP3_5_7 = pd.concat([dfResultsP3_5_7, dfResult])\n",
    "\n",
    "dfResultsP3_5_7[\"positionPlot\"] = np.round(dfResultsP3_5_7[\"position\"], decimals = 1)\n",
    "dfResultsAll = pd.concat([dfResultsAfterP7, dfResultsP3_5_7], ignore_index = True)\n",
    "dfResultsAll[\"densityMicro\"] = dfResultsAll[\"density\"] *1.162803946*1.162803946\n",
    "dfResultsAll.to_csv(saveName)"
   ]
  }
 ],
 "metadata": {
  "kernelspec": {
   "display_name": "Python 3",
   "language": "python",
   "name": "python3"
  },
  "language_info": {
   "codemirror_mode": {
    "name": "ipython",
    "version": 2
   },
   "file_extension": ".py",
   "mimetype": "text/x-python",
   "name": "python",
   "nbconvert_exporter": "python",
   "pygments_lexer": "ipython2",
   "version": "2.7.6"
  }
 },
 "nbformat": 4,
 "nbformat_minor": 0
}

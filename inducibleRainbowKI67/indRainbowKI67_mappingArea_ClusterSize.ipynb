{
 "cells": [
  {
   "cell_type": "code",
   "execution_count": 1,
   "metadata": {
    "collapsed": false,
    "pycharm": {
     "name": "#%%\n"
    }
   },
   "outputs": [],
   "source": [
    "import numpy as np\n",
    "import pandas as pd\n",
    "import os\n",
    "from os import listdir\n",
    "from os.path import isfile, join\n",
    "from skimage.measure import regionprops_table\n",
    "from utils.nucStitch import fullNucImage16"
   ]
  },
  {
   "cell_type": "code",
   "execution_count": 175,
   "metadata": {
    "collapsed": false,
    "pycharm": {
     "name": "#%%\n"
    }
   },
   "outputs": [],
   "source": [
    "indRainbowKI67Path= 'segmentations/inducedRainbowKI67/final/1-21'\n",
    "indRainbowMappingPath = 'segmentations/inducedRainbow/final/red/0-5'\n",
    "nucPath = 'segmentations/inducedRainbow/final/nuclei/0-5'"
   ]
  },
  {
   "cell_type": "code",
   "execution_count": 176,
   "metadata": {
    "collapsed": false,
    "pycharm": {
     "name": "#%%\n"
    }
   },
   "outputs": [],
   "source": [
    "folders = [x[0] for x in os.walk(nucPath)]\n",
    "folders = sorted(folders)"
   ]
  },
  {
   "cell_type": "code",
   "execution_count": 177,
   "metadata": {
    "collapsed": false,
    "pycharm": {
     "name": "#%%\n"
    }
   },
   "outputs": [],
   "source": [
    "def clusterSize(row, dic):\n",
    "    values = dic.get(row['label'],None)\n",
    "    if values != None:\n",
    "        return len(values)\n",
    "    else:\n",
    "        return 0"
   ]
  },
  {
   "cell_type": "code",
   "execution_count": null,
   "metadata": {
    "collapsed": false,
    "pycharm": {
     "name": "#%%\n"
    }
   },
   "outputs": [],
   "source": [
    "dfMapping = pd.DataFrame()\n",
    "for folder in folders:\n",
    "    os.chdir(folder)\n",
    "    files = [f for f in listdir(folder) if isfile(join(folder, f)) if \".DS_Store\" not in f if \".npy\" in f if \"._\" not in f]\n",
    "    if files:\n",
    "        nucleiPath = folder\n",
    "        aorta = folder.split(\"/\")[-1]\n",
    "        age = folder.split(\"/\")[-2]\n",
    "        print(aorta)\n",
    "        df = pd.DataFrame()\n",
    "        nuclei = np.load(join(nucleiPath, \"Cropped_IMG-1_seg.npy\"), allow_pickle=True).item()['masks']\n",
    "        yLength = nuclei.shape[0]\n",
    "        xLength = nuclei.shape[1]\n",
    "        for i in range(16):\n",
    "            number = i+1\n",
    "            nuclei = np.load(join(nucleiPath, \"Cropped_IMG-\" + str(number) + '_seg.npy'), allow_pickle=True).item()['masks']\n",
    "            row = int(i/4) + 1\n",
    "            column  = (i%4) + 1\n",
    "            prop_dict = regionprops_table(nuclei, properties = ('label', 'centroid'))\n",
    "            df_help = pd.DataFrame(prop_dict)\n",
    "            df_help['picture_id'] = number\n",
    "            df_help['yCoord'] = df_help['centroid-0']*row\n",
    "            df_help['xCoord'] = df_help['centroid-1']*column\n",
    "            #df = df.append(df_help, ignore_index=True)\n",
    "            df = pd.concat([df, df_help], axis=0)\n",
    "\n",
    "        nucImage = fullNucImage16(nucleiPath)\n",
    "        segFile = files = [f for f in listdir(join(indRainbowMappingPath, aorta)) if isfile(join(indRainbowMappingPath, aorta, f)) if \".DS_Store\" not in f if \".npy\" in f if \"._\" not in f if \"cellposeSeg\" in f]\n",
    "        if segFile:\n",
    "            masks = np.load(join(indRainbowMappingPath, aorta,segFile[0]), allow_pickle=True).item()['masks']\n",
    "            accuracy_value = 0.8\n",
    "            clusters = list()\n",
    "            dic = {}\n",
    "            dicNot = list()\n",
    "            for mask in np.unique(masks):\n",
    "                if mask != 0:\n",
    "                    cluster = list()\n",
    "                    coord = np.where(masks == mask)\n",
    "                    segmentationNuc = np.unique(nucImage[coord])\n",
    "                    for j in segmentationNuc:\n",
    "                        if j != 0:\n",
    "                            #occurence of nucleus pixel in\n",
    "                            nucOccur = np.bincount(nucImage[coord])[j]\n",
    "                            #How many pixels does this nucleus have:\n",
    "                            coordLen = len(np.where(nucImage == j)[0])\n",
    "                            #check if most of nuclei values are in segmentation\n",
    "                            if(nucOccur >= accuracy_value*coordLen):\n",
    "                                cluster.append(j)\n",
    "                    if cluster:\n",
    "                        dic[mask] = cluster\n",
    "                        clusters.append(cluster)\n",
    "                    else:\n",
    "                        dicNot.append(mask)\n",
    "            prop_dict = regionprops_table(masks, properties = ('label', 'area'))\n",
    "            dfArea = pd.DataFrame(prop_dict)\n",
    "            dfArea['clusterSize'] = dfArea.apply(lambda row: clusterSize(row, dic), axis=1)\n",
    "            dfArea['age'] = age\n",
    "            dfArea['aorta'] = aorta\n",
    "            dfMapping = pd.concat([dfMapping, dfArea])\n",
    "\n"
   ]
  },
  {
   "cell_type": "code",
   "execution_count": 180,
   "metadata": {
    "collapsed": false,
    "pycharm": {
     "name": "#%%\n"
    }
   },
   "outputs": [],
   "source": [
    "dfMappingSave = dfMapping.loc[dfMapping.clusterSize != 0]"
   ]
  },
  {
   "cell_type": "code",
   "execution_count": 182,
   "metadata": {
    "collapsed": false,
    "pycharm": {
     "name": "#%%\n"
    }
   },
   "outputs": [],
   "source": [
    "dfMappingSave.to_csv(\"/Volumes/Aorta/aorta/results/inducedRainbowKI67/mappingP0-5.csv\", index=False)"
   ]
  },
  {
   "cell_type": "code",
   "execution_count": null,
   "metadata": {
    "collapsed": false,
    "pycharm": {
     "name": "#%%\n"
    }
   },
   "outputs": [],
   "source": []
  },
  {
   "cell_type": "markdown",
   "metadata": {
    "collapsed": false,
    "pycharm": {
     "name": "#%% md\n"
    }
   },
   "source": [
    "Mapp Ki67Active areas"
   ]
  },
  {
   "cell_type": "code",
   "execution_count": 83,
   "metadata": {
    "collapsed": false,
    "pycharm": {
     "name": "#%%\n"
    }
   },
   "outputs": [],
   "source": [
    "conversion = 1.7199802336410723"
   ]
  },
  {
   "cell_type": "code",
   "execution_count": 84,
   "metadata": {
    "collapsed": false,
    "pycharm": {
     "name": "#%%\n"
    }
   },
   "outputs": [],
   "source": [
    "conversion2 = 0.8599901168205362"
   ]
  },
  {
   "cell_type": "code",
   "execution_count": 87,
   "metadata": {
    "collapsed": false,
    "pycharm": {
     "name": "#%%\n"
    }
   },
   "outputs": [],
   "source": [
    "indRainbowKI67Path= 'results/inducedRainbowKI67/resultsArea.csv'"
   ]
  },
  {
   "cell_type": "code",
   "execution_count": 2,
   "metadata": {
    "collapsed": false,
    "pycharm": {
     "name": "#%%\n"
    }
   },
   "outputs": [],
   "source": [
    "dfMapping = pd.read_csv(\"/results/inducedRainbowKI67/mappingP0-5.csv\")"
   ]
  },
  {
   "cell_type": "code",
   "execution_count": 3,
   "metadata": {
    "collapsed": false,
    "pycharm": {
     "name": "#%%\n"
    }
   },
   "outputs": [
    {
     "data": {
      "text/plain": [
       "array([ 1,  2,  3,  4,  5,  6,  7,  8, 12])"
      ]
     },
     "execution_count": 3,
     "metadata": {},
     "output_type": "execute_result"
    }
   ],
   "source": [
    "np.unique(dfMapping['clusterSize'])"
   ]
  },
  {
   "cell_type": "code",
   "execution_count": 7,
   "metadata": {
    "collapsed": false,
    "pycharm": {
     "name": "#%%\n"
    }
   },
   "outputs": [
    {
     "data": {
      "text/plain": [
       "15"
      ]
     },
     "execution_count": 7,
     "metadata": {},
     "output_type": "execute_result"
    }
   ],
   "source": [
    "np.min(dfMapping['area'])"
   ]
  },
  {
   "cell_type": "code",
   "execution_count": 4,
   "metadata": {
    "collapsed": false,
    "pycharm": {
     "name": "#%%\n"
    }
   },
   "outputs": [
    {
     "data": {
      "text/plain": [
       "131.0"
      ]
     },
     "execution_count": 4,
     "metadata": {},
     "output_type": "execute_result"
    }
   ],
   "source": [
    "np.quantile(dfMapping.loc[dfMapping.clusterSize == 1]['area'], 0.75)"
   ]
  },
  {
   "cell_type": "code",
   "execution_count": 5,
   "metadata": {
    "collapsed": false,
    "pycharm": {
     "name": "#%%\n"
    }
   },
   "outputs": [
    {
     "data": {
      "text/plain": [
       "152.0"
      ]
     },
     "execution_count": 5,
     "metadata": {},
     "output_type": "execute_result"
    }
   ],
   "source": [
    "np.quantile(dfMapping.loc[dfMapping.clusterSize == 2]['area'], 0.25)"
   ]
  },
  {
   "cell_type": "code",
   "execution_count": 12,
   "metadata": {
    "collapsed": false,
    "pycharm": {
     "name": "#%%\n"
    }
   },
   "outputs": [
    {
     "data": {
      "text/plain": [
       "239.59999999999997"
      ]
     },
     "execution_count": 12,
     "metadata": {},
     "output_type": "execute_result"
    }
   ],
   "source": [
    "np.quantile(dfMapping.loc[dfMapping.clusterSize == 2]['area'], 0.7)"
   ]
  },
  {
   "cell_type": "code",
   "execution_count": 13,
   "metadata": {
    "collapsed": false,
    "pycharm": {
     "name": "#%%\n"
    }
   },
   "outputs": [
    {
     "data": {
      "text/plain": [
       "247.4"
      ]
     },
     "execution_count": 13,
     "metadata": {},
     "output_type": "execute_result"
    }
   ],
   "source": [
    "np.quantile(dfMapping.loc[dfMapping.clusterSize == 3]['area'], 0.3)"
   ]
  },
  {
   "cell_type": "code",
   "execution_count": 20,
   "metadata": {
    "collapsed": false,
    "pycharm": {
     "name": "#%%\n"
    }
   },
   "outputs": [
    {
     "data": {
      "text/plain": [
       "334.6"
      ]
     },
     "execution_count": 20,
     "metadata": {},
     "output_type": "execute_result"
    }
   ],
   "source": [
    "np.quantile(dfMapping.loc[dfMapping.clusterSize == 3]['area'], 0.6)"
   ]
  },
  {
   "cell_type": "code",
   "execution_count": 21,
   "metadata": {
    "collapsed": false,
    "pycharm": {
     "name": "#%%\n"
    }
   },
   "outputs": [
    {
     "data": {
      "text/plain": [
       "326.4"
      ]
     },
     "execution_count": 21,
     "metadata": {},
     "output_type": "execute_result"
    }
   ],
   "source": [
    "np.quantile(dfMapping.loc[dfMapping.clusterSize == 4]['area'], 0.4)"
   ]
  },
  {
   "cell_type": "code",
   "execution_count": 26,
   "metadata": {
    "collapsed": false,
    "pycharm": {
     "name": "#%%\n"
    }
   },
   "outputs": [
    {
     "data": {
      "text/plain": [
       "406.4"
      ]
     },
     "execution_count": 26,
     "metadata": {},
     "output_type": "execute_result"
    }
   ],
   "source": [
    "np.quantile(dfMapping.loc[dfMapping.clusterSize == 4]['area'], 0.7)"
   ]
  },
  {
   "cell_type": "code",
   "execution_count": 27,
   "metadata": {
    "collapsed": false,
    "pycharm": {
     "name": "#%%\n"
    }
   },
   "outputs": [
    {
     "data": {
      "text/plain": [
       "421.0"
      ]
     },
     "execution_count": 27,
     "metadata": {},
     "output_type": "execute_result"
    }
   ],
   "source": [
    "np.quantile(dfMapping.loc[dfMapping.clusterSize == 5]['area'], 0.3)"
   ]
  },
  {
   "cell_type": "code",
   "execution_count": 30,
   "metadata": {
    "collapsed": false,
    "pycharm": {
     "name": "#%%\n"
    }
   },
   "outputs": [
    {
     "data": {
      "text/plain": [
       "513.3"
      ]
     },
     "execution_count": 30,
     "metadata": {},
     "output_type": "execute_result"
    }
   ],
   "source": [
    "np.quantile(dfMapping.loc[dfMapping.clusterSize == 5]['area'], 0.7)"
   ]
  },
  {
   "cell_type": "code",
   "execution_count": 31,
   "metadata": {
    "collapsed": false,
    "pycharm": {
     "name": "#%%\n"
    }
   },
   "outputs": [
    {
     "data": {
      "text/plain": [
       "518.2"
      ]
     },
     "execution_count": 31,
     "metadata": {},
     "output_type": "execute_result"
    }
   ],
   "source": [
    "np.quantile(dfMapping.loc[dfMapping.clusterSize == 6]['area'], 0.3)"
   ]
  },
  {
   "cell_type": "code",
   "execution_count": 32,
   "metadata": {
    "collapsed": false,
    "pycharm": {
     "name": "#%%\n"
    }
   },
   "outputs": [
    {
     "data": {
      "text/plain": [
       "664.0"
      ]
     },
     "execution_count": 32,
     "metadata": {},
     "output_type": "execute_result"
    }
   ],
   "source": [
    "np.quantile(dfMapping.loc[dfMapping.clusterSize == 6]['area'], 0.75)"
   ]
  },
  {
   "cell_type": "code",
   "execution_count": 33,
   "metadata": {
    "collapsed": false,
    "pycharm": {
     "name": "#%%\n"
    }
   },
   "outputs": [
    {
     "data": {
      "text/plain": [
       "661.0"
      ]
     },
     "execution_count": 33,
     "metadata": {},
     "output_type": "execute_result"
    }
   ],
   "source": [
    "np.quantile(dfMapping.loc[dfMapping.clusterSize == 7]['area'], 0.25)"
   ]
  },
  {
   "cell_type": "code",
   "execution_count": 40,
   "metadata": {
    "collapsed": false,
    "pycharm": {
     "name": "#%%\n"
    }
   },
   "outputs": [
    {
     "data": {
      "text/plain": [
       "740.5"
      ]
     },
     "execution_count": 40,
     "metadata": {},
     "output_type": "execute_result"
    }
   ],
   "source": [
    "np.quantile(dfMapping.loc[dfMapping.clusterSize == 7]['area'], 0.75)"
   ]
  },
  {
   "cell_type": "code",
   "execution_count": 41,
   "metadata": {
    "collapsed": false,
    "pycharm": {
     "name": "#%%\n"
    }
   },
   "outputs": [
    {
     "data": {
      "text/plain": [
       "728.5"
      ]
     },
     "execution_count": 41,
     "metadata": {},
     "output_type": "execute_result"
    }
   ],
   "source": [
    "np.quantile(dfMapping.loc[dfMapping.clusterSize == 8]['area'], 0.75)"
   ]
  },
  {
   "cell_type": "code",
   "execution_count": 139,
   "metadata": {
    "collapsed": false,
    "pycharm": {
     "name": "#%%\n"
    }
   },
   "outputs": [
    {
     "data": {
      "text/plain": [
       "1366.0"
      ]
     },
     "execution_count": 139,
     "metadata": {},
     "output_type": "execute_result"
    }
   ],
   "source": [
    "np.quantile(dfMapping.loc[dfMapping.clusterSize == 8]['area'], 0.5)"
   ]
  },
  {
   "cell_type": "code",
   "execution_count": 143,
   "metadata": {
    "collapsed": false,
    "pycharm": {
     "name": "#%%\n"
    }
   },
   "outputs": [
    {
     "data": {
      "text/plain": [
       "1176.0"
      ]
     },
     "execution_count": 143,
     "metadata": {},
     "output_type": "execute_result"
    }
   ],
   "source": [
    "np.quantile(dfMapping.loc[dfMapping.clusterSize == 9]['area'], 0.5)"
   ]
  },
  {
   "cell_type": "code",
   "execution_count": 148,
   "metadata": {
    "collapsed": false,
    "pycharm": {
     "name": "#%%\n"
    }
   },
   "outputs": [
    {
     "data": {
      "text/plain": [
       "1612.0"
      ]
     },
     "execution_count": 148,
     "metadata": {},
     "output_type": "execute_result"
    }
   ],
   "source": [
    "np.quantile(dfMapping.loc[dfMapping.clusterSize == 9]['area'], 0.75)"
   ]
  },
  {
   "cell_type": "code",
   "execution_count": 149,
   "metadata": {
    "collapsed": false,
    "pycharm": {
     "name": "#%%\n"
    }
   },
   "outputs": [
    {
     "data": {
      "text/plain": [
       "1641.0"
      ]
     },
     "execution_count": 149,
     "metadata": {},
     "output_type": "execute_result"
    }
   ],
   "source": [
    "np.quantile(dfMapping.loc[dfMapping.clusterSize == 10]['area'], 0.3)"
   ]
  },
  {
   "cell_type": "code",
   "execution_count": 155,
   "metadata": {
    "collapsed": false,
    "pycharm": {
     "name": "#%%\n"
    }
   },
   "outputs": [
    {
     "data": {
      "text/plain": [
       "1894.0"
      ]
     },
     "execution_count": 155,
     "metadata": {},
     "output_type": "execute_result"
    }
   ],
   "source": [
    "np.quantile(dfMapping.loc[dfMapping.clusterSize == 10]['area'], 0.9)"
   ]
  },
  {
   "cell_type": "code",
   "execution_count": 154,
   "metadata": {
    "collapsed": false,
    "pycharm": {
     "name": "#%%\n"
    }
   },
   "outputs": [
    {
     "data": {
      "text/plain": [
       "1791.0"
      ]
     },
     "execution_count": 154,
     "metadata": {},
     "output_type": "execute_result"
    }
   ],
   "source": [
    "np.quantile(dfMapping.loc[dfMapping.clusterSize == 11]['area'], 0.9)"
   ]
  },
  {
   "cell_type": "code",
   "execution_count": 156,
   "metadata": {
    "collapsed": false,
    "pycharm": {
     "name": "#%%\n"
    }
   },
   "outputs": [
    {
     "data": {
      "text/plain": [
       "19"
      ]
     },
     "execution_count": 156,
     "metadata": {},
     "output_type": "execute_result"
    }
   ],
   "source": [
    "np.min(dfMapping['area'])"
   ]
  },
  {
   "cell_type": "code",
   "execution_count": 157,
   "metadata": {
    "collapsed": false,
    "pycharm": {
     "name": "#%%\n"
    }
   },
   "outputs": [
    {
     "data": {
      "text/plain": [
       "2190"
      ]
     },
     "execution_count": 157,
     "metadata": {},
     "output_type": "execute_result"
    }
   ],
   "source": [
    "np.max(dfMapping['area'])"
   ]
  },
  {
   "cell_type": "code",
   "execution_count": 158,
   "metadata": {
    "collapsed": false,
    "pycharm": {
     "name": "#%%\n"
    }
   },
   "outputs": [
    {
     "data": {
      "text/html": [
       "<div>\n",
       "<style scoped>\n",
       "    .dataframe tbody tr th:only-of-type {\n",
       "        vertical-align: middle;\n",
       "    }\n",
       "\n",
       "    .dataframe tbody tr th {\n",
       "        vertical-align: top;\n",
       "    }\n",
       "\n",
       "    .dataframe thead th {\n",
       "        text-align: right;\n",
       "    }\n",
       "</style>\n",
       "<table border=\"1\" class=\"dataframe\">\n",
       "  <thead>\n",
       "    <tr style=\"text-align: right;\">\n",
       "      <th></th>\n",
       "      <th>label</th>\n",
       "      <th>area</th>\n",
       "      <th>clusterSize</th>\n",
       "      <th>age</th>\n",
       "      <th>aorta</th>\n",
       "    </tr>\n",
       "  </thead>\n",
       "  <tbody>\n",
       "    <tr>\n",
       "      <th>0</th>\n",
       "      <td>13</td>\n",
       "      <td>95</td>\n",
       "      <td>1</td>\n",
       "      <td>5-60</td>\n",
       "      <td>aorta04</td>\n",
       "    </tr>\n",
       "    <tr>\n",
       "      <th>1</th>\n",
       "      <td>15</td>\n",
       "      <td>289</td>\n",
       "      <td>2</td>\n",
       "      <td>5-60</td>\n",
       "      <td>aorta04</td>\n",
       "    </tr>\n",
       "    <tr>\n",
       "      <th>2</th>\n",
       "      <td>16</td>\n",
       "      <td>232</td>\n",
       "      <td>2</td>\n",
       "      <td>5-60</td>\n",
       "      <td>aorta04</td>\n",
       "    </tr>\n",
       "    <tr>\n",
       "      <th>3</th>\n",
       "      <td>17</td>\n",
       "      <td>289</td>\n",
       "      <td>2</td>\n",
       "      <td>5-60</td>\n",
       "      <td>aorta04</td>\n",
       "    </tr>\n",
       "    <tr>\n",
       "      <th>4</th>\n",
       "      <td>30</td>\n",
       "      <td>44</td>\n",
       "      <td>1</td>\n",
       "      <td>5-60</td>\n",
       "      <td>aorta04</td>\n",
       "    </tr>\n",
       "    <tr>\n",
       "      <th>...</th>\n",
       "      <td>...</td>\n",
       "      <td>...</td>\n",
       "      <td>...</td>\n",
       "      <td>...</td>\n",
       "      <td>...</td>\n",
       "    </tr>\n",
       "    <tr>\n",
       "      <th>32555</th>\n",
       "      <td>1310</td>\n",
       "      <td>309</td>\n",
       "      <td>1</td>\n",
       "      <td>5-60</td>\n",
       "      <td>aorta08</td>\n",
       "    </tr>\n",
       "    <tr>\n",
       "      <th>32556</th>\n",
       "      <td>1311</td>\n",
       "      <td>837</td>\n",
       "      <td>3</td>\n",
       "      <td>5-60</td>\n",
       "      <td>aorta08</td>\n",
       "    </tr>\n",
       "    <tr>\n",
       "      <th>32557</th>\n",
       "      <td>1315</td>\n",
       "      <td>863</td>\n",
       "      <td>4</td>\n",
       "      <td>5-60</td>\n",
       "      <td>aorta08</td>\n",
       "    </tr>\n",
       "    <tr>\n",
       "      <th>32558</th>\n",
       "      <td>1318</td>\n",
       "      <td>332</td>\n",
       "      <td>1</td>\n",
       "      <td>5-60</td>\n",
       "      <td>aorta08</td>\n",
       "    </tr>\n",
       "    <tr>\n",
       "      <th>32559</th>\n",
       "      <td>1319</td>\n",
       "      <td>232</td>\n",
       "      <td>1</td>\n",
       "      <td>5-60</td>\n",
       "      <td>aorta08</td>\n",
       "    </tr>\n",
       "  </tbody>\n",
       "</table>\n",
       "<p>32560 rows × 5 columns</p>\n",
       "</div>"
      ],
      "text/plain": [
       "       label  area  clusterSize   age    aorta\n",
       "0         13    95            1  5-60  aorta04\n",
       "1         15   289            2  5-60  aorta04\n",
       "2         16   232            2  5-60  aorta04\n",
       "3         17   289            2  5-60  aorta04\n",
       "4         30    44            1  5-60  aorta04\n",
       "...      ...   ...          ...   ...      ...\n",
       "32555   1310   309            1  5-60  aorta08\n",
       "32556   1311   837            3  5-60  aorta08\n",
       "32557   1315   863            4  5-60  aorta08\n",
       "32558   1318   332            1  5-60  aorta08\n",
       "32559   1319   232            1  5-60  aorta08\n",
       "\n",
       "[32560 rows x 5 columns]"
      ]
     },
     "execution_count": 158,
     "metadata": {},
     "output_type": "execute_result"
    }
   ],
   "source": [
    "dfMapping"
   ]
  },
  {
   "cell_type": "code",
   "execution_count": null,
   "metadata": {
    "collapsed": false,
    "pycharm": {
     "name": "#%%\n"
    }
   },
   "outputs": [],
   "source": []
  }
 ],
 "metadata": {
  "kernelspec": {
   "display_name": "LuisaProject",
   "language": "python",
   "name": "luisaproject"
  },
  "language_info": {
   "codemirror_mode": {
    "name": "ipython",
    "version": 2
   },
   "file_extension": ".py",
   "mimetype": "text/x-python",
   "name": "python",
   "nbconvert_exporter": "python",
   "pygments_lexer": "ipython2",
   "version": "2.7.6"
  }
 },
 "nbformat": 4,
 "nbformat_minor": 0
}

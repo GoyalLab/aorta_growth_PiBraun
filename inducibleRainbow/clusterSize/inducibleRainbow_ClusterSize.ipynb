{
 "cells": [
  {
   "cell_type": "code",
   "execution_count": 1,
   "metadata": {
    "collapsed": false,
    "pycharm": {
     "name": "#%%\n"
    }
   },
   "outputs": [],
   "source": [
    "import numpy as np\n",
    "from os.path import join\n",
    "import pandas as pd\n",
    "from skimage.measure import regionprops_table\n",
    "import matplotlib.pyplot as plt\n",
    "from utils.nucStitch import fullNucImage16"
   ]
  },
  {
   "cell_type": "code",
   "execution_count": null,
   "metadata": {
    "collapsed": false,
    "pycharm": {
     "name": "#%%\n"
    }
   },
   "outputs": [],
   "source": [
    "segmentationPath = \"segmentations/inducedRainbow/old/red/5-60/aorta08/cellposeSegm_RedP5-60_aorta08_50Thres_final_seg.npy\"\n",
    "nucleiPath = \"segmentations/inducedRainbow/final/nuclei/5-60/aorta08\"\n",
    "dfResult = pd.DataFrame()"
   ]
  },
  {
   "cell_type": "code",
   "execution_count": null,
   "metadata": {
    "collapsed": false,
    "pycharm": {
     "name": "#%%\n"
    }
   },
   "outputs": [],
   "source": [
    "df = pd.DataFrame()\n",
    "nuclei = np.load(join(nucleiPath, \"Cropped_IMG-1_seg.npy\"), allow_pickle=True).item()['masks']\n",
    "yLength = nuclei.shape[0]\n",
    "xLength = nuclei.shape[1]\n",
    "\n",
    "# create segmentation of fully stitched aorta based on cropped images (glue crops back togther)\n",
    "for i in range(16):\n",
    "    number = i+1\n",
    "    nuclei = np.load(join(nucleiPath, \"Cropped_IMG-\" + str(number) + '_seg.npy'), allow_pickle=True).item()['masks']\n",
    "    row = int(i/4) + 1\n",
    "    column  = (i%4) + 1\n",
    "    prop_dict = regionprops_table(nuclei, properties = ('label', 'centroid'))\n",
    "    df_help = pd.DataFrame(prop_dict)\n",
    "    df_help['picture_id'] = number\n",
    "    df_help['yCoord'] = df_help['centroid-0']*row\n",
    "    df_help['xCoord'] = df_help['centroid-1']*column\n",
    "    df = pd.concat([df, df_help], axis=0)\n",
    "\n",
    "nucImage = fullNucImage16(nucleiPath)"
   ]
  },
  {
   "cell_type": "code",
   "execution_count": 26,
   "metadata": {
    "collapsed": false,
    "pycharm": {
     "name": "#%%\n"
    }
   },
   "outputs": [],
   "source": [
    "#load rainbow segmentation\n",
    "masks = np.load(segmentationPath, allow_pickle=True).item()['masks']"
   ]
  },
  {
   "cell_type": "code",
   "execution_count": 27,
   "metadata": {
    "collapsed": false,
    "pycharm": {
     "name": "#%%\n"
    }
   },
   "outputs": [],
   "source": [
    "accuracy_value = 0.75\n",
    "clusters = list()\n",
    "dic = {}\n",
    "dicNot = list()\n",
    "for mask in np.unique(masks):\n",
    "    if mask != 0:\n",
    "        cluster = list()\n",
    "        coord = np.where(masks == mask)\n",
    "        segmentationNuc = np.unique(nucImage[coord])\n",
    "        for j in segmentationNuc:\n",
    "            if j != 0:\n",
    "                #occurence of nucleus pixel in\n",
    "                nucOccur = np.bincount(nucImage[coord])[j]\n",
    "                #How many pixels does this nucleus have:\n",
    "                coordLen = len(np.where(nucImage == j)[0])\n",
    "                #check if most of nuclei values are in segmentation\n",
    "                if(nucOccur >= accuracy_value*coordLen):\n",
    "                    cluster.append(j)\n",
    "        if cluster:\n",
    "            dic[mask] = cluster\n",
    "            clusters.append(cluster)\n",
    "        else:\n",
    "            dicNot.append(mask)"
   ]
  },
  {
   "cell_type": "code",
   "execution_count": 28,
   "metadata": {
    "collapsed": false,
    "pycharm": {
     "name": "#%%\n"
    }
   },
   "outputs": [],
   "source": [
    "clusterSizes = []\n",
    "for key in dic:\n",
    "    clusterSizes.append(len(dic[key]))"
   ]
  },
  {
   "cell_type": "code",
   "execution_count": 36,
   "metadata": {
    "collapsed": false,
    "pycharm": {
     "name": "#%%\n"
    }
   },
   "outputs": [],
   "source": [
    "resultdic = {\"age\": segmentationPath.split(\"/\")[-3], \"aorta\": segmentationPath.split(\"/\")[-2]}\n",
    "unique, counts = np.unique(clusterSizes, return_counts=True)\n",
    "for i in range(1,18):\n",
    "    if i in unique:\n",
    "        resultdic[i] = counts[np.where(unique==i)][0]\n",
    "    else:\n",
    "        resultdic[i] = 0"
   ]
  },
  {
   "cell_type": "code",
   "execution_count": 37,
   "metadata": {
    "collapsed": false,
    "pycharm": {
     "name": "#%%\n"
    }
   },
   "outputs": [],
   "source": [
    "dfHelp = pd.DataFrame(resultdic, index = [0])"
   ]
  },
  {
   "cell_type": "code",
   "execution_count": null,
   "metadata": {
    "collapsed": false,
    "pycharm": {
     "name": "#%%\n"
    }
   },
   "outputs": [],
   "source": [
    "dfResult = pd.concat([dfResult, dfHelp])"
   ]
  },
  {
   "cell_type": "code",
   "execution_count": 40,
   "metadata": {
    "collapsed": false,
    "pycharm": {
     "name": "#%%\n"
    }
   },
   "outputs": [],
   "source": [
    "dfResult.to_csv(\"results/inducedRainbow/clusterSizes.csv\")"
   ]
  }
 ],
 "metadata": {
  "kernelspec": {
   "display_name": "LuisaProject",
   "language": "python",
   "name": "luisaproject"
  },
  "language_info": {
   "codemirror_mode": {
    "name": "ipython",
    "version": 2
   },
   "file_extension": ".py",
   "mimetype": "text/x-python",
   "name": "python",
   "nbconvert_exporter": "python",
   "pygments_lexer": "ipython2",
   "version": "2.7.6"
  }
 },
 "nbformat": 4,
 "nbformat_minor": 0
}

{
 "cells": [
  {
   "cell_type": "code",
   "execution_count": 29,
   "metadata": {
    "collapsed": true,
    "pycharm": {
     "name": "#%%\n"
    }
   },
   "outputs": [],
   "source": [
    "import numpy as np\n",
    "import pandas as pd\n",
    "import os\n",
    "from os import listdir\n",
    "from os.path import isfile, join"
   ]
  },
  {
   "cell_type": "code",
   "execution_count": 30,
   "metadata": {
    "collapsed": false,
    "pycharm": {
     "name": "#%%\n"
    }
   },
   "outputs": [],
   "source": [
    "nucleiPath = \"segmentations/cellSize/tiles/tilesNuclei\"\n",
    "areaPath = \"results/density/densityAllAreas20230214.csv\"\n",
    "saveName = \"results/density/densityPartsNew_20230215.csv\""
   ]
  },
  {
   "cell_type": "code",
   "execution_count": 32,
   "metadata": {
    "collapsed": false,
    "pycharm": {
     "name": "#%%\n"
    }
   },
   "outputs": [],
   "source": [
    "folders = [x[0] for x in os.walk(nucleiPath)]\n",
    "folders = sorted(folders)"
   ]
  },
  {
   "cell_type": "code",
   "execution_count": null,
   "metadata": {
    "collapsed": false,
    "pycharm": {
     "name": "#%%\n"
    }
   },
   "outputs": [],
   "source": [
    "#calculate density for every image tile\n",
    "df = pd.read_csv(areaPath)\n",
    "dfResults = pd.DataFrame()\n",
    "for index, row in df.iterrows():\n",
    "    image = row['Label']\n",
    "    area = row['Area']\n",
    "    age = image.split(\"_\")[1]\n",
    "    aorta = image.split(\"_\")[2]\n",
    "    nucFile = image.split(\".tif\")[0] + \"_seg.npy\"\n",
    "    nucPath = join(nucleiPath, age, aorta, nucFile)\n",
    "    nucleiMasks =  np.load(nucPath, allow_pickle=True).item()['masks']\n",
    "    maskNumber = len(np.unique(nucleiMasks)) - 1\n",
    "    density = maskNumber/area\n",
    "    dfHelp = pd.DataFrame({\"age\": age, \"aorta\": aorta, \"numberNuclei\": maskNumber, \"area\": area, \"density\": density, \"file\": image}, index=[0])\n",
    "    dfResults = dfResults.append(dfHelp)\n",
    "\n",
    "#convert pixel^2 to micrometer^2\n",
    "dfResults[\"densityMicro\"] = dfResults[\"density\"]*1.162803946*1.162803946\n",
    "dfResults.to_csv(saveName)"
   ]
  }
 ],
 "metadata": {
  "kernelspec": {
   "display_name": "LuisaProject",
   "language": "python",
   "name": "luisaproject"
  },
  "language_info": {
   "codemirror_mode": {
    "name": "ipython",
    "version": 2
   },
   "file_extension": ".py",
   "mimetype": "text/x-python",
   "name": "python",
   "nbconvert_exporter": "python",
   "pygments_lexer": "ipython2",
   "version": "2.7.6"
  }
 },
 "nbformat": 4,
 "nbformat_minor": 0
}

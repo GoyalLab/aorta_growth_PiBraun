{
 "cells": [
  {
   "cell_type": "code",
   "execution_count": 1,
   "metadata": {},
   "outputs": [],
   "source": [
    "import cv2\n",
    "from matplotlib import pyplot as plt\n",
    "import numpy as np\n",
    "import pandas as pd\n",
    "from PIL import Image, ImageEnhance\n",
    "import colorsys\n",
    "import skimage.io\n",
    "from os import listdir\n",
    "from os.path import isfile, join\n",
    "import os\n",
    "import os.path"
   ]
  },
  {
   "cell_type": "code",
   "execution_count": 190,
   "metadata": {},
   "outputs": [],
   "source": [
    "extractedPath = 'results/KI67/extractedSignal/P10/aorta4/ki67Signal_P10_aorta4_NEW2.csv'\n",
    "df = pd.read_csv(extractedPath)\n",
    "dfThresholded = pd.DataFrame()"
   ]
  },
  {
   "cell_type": "code",
   "execution_count": null,
   "metadata": {},
   "outputs": [],
   "source": [
    "brighteningValue = 700\n",
    "imageNumber = 15\n",
    "\n",
    "segFolder = 'segmentations/ki67_tiled/P14/aorta4'\n",
    "seg1 = 'ki67Image_P14_aorta4_nuclei_'  \n",
    "seg2 = '_seg.npy'\n",
    "ki671 = 'preprocessedImage/ki67/tiled/ki67/P14/aorta4/ki67Image_P14_aorta4_ki67_' \n",
    "ki672 = '.tif'\n",
    "\n",
    "segFilePath = segFolder + '/' + seg1 + str(imageNumber)  + seg2\n",
    "ki67ImagePath = ki671 + str(imageNumber) + ki672\n",
    "\n",
    "nucMasks = np.load(segFilePath, allow_pickle=True).item()['masks']\n",
    "\n",
    "ki67Image = skimage.io.imread(ki67ImagePath)\n",
    "dfImage = df.loc[df.imageNumber == imageNumber]\n"
   ]
  },
  {
   "cell_type": "code",
   "execution_count": null,
   "metadata": {},
   "outputs": [],
   "source": [
    "thresholdIntensity = 0.1\n",
    "thresholdfraction = 3\n",
    "\n",
    "dfFilter = dfImage.loc[(dfImage.fractionNorm >= thresholdfraction) & (dfImage.medianNorm >= thresholdIntensity)]\n",
    "dfUnfiltered = dfImage.loc[~((dfImage.fractionNorm >= thresholdfraction) & (dfImage.medianNorm >= thresholdIntensity))]\n",
    "\n",
    "\n",
    "backgroundMaskRedInt = np.where(nucMasks > 0, np.median(ki67Image), ki67Image)\n",
    "ki67Bright = np.where((ki67Image.max() - ki67Image) < brighteningValue,ki67Image.max(),ki67Image+brighteningValue)\n",
    "\n",
    "activeImage = np.zeros_like(ki67Image)\n",
    "inactiveImage = np.zeros_like(ki67Image)\n",
    "activeCoord = np.isin(nucMasks, dfFilter['label'].values)\n",
    "inactiveCoord = ~np.isin(nucMasks, dfFilter['label'].values)\n",
    "activeImage[activeCoord] = ki67Bright[activeCoord]\n",
    "inactiveImage[inactiveCoord] = ki67Bright[inactiveCoord]\n",
    "\n",
    "plt.figure(figsize=(16, 8))\n",
    "\n",
    "#plot original image\n",
    "plt.imshow(ki67Bright , cmap=\"gray\")\n",
    "fig, axes = plt.subplots(1, 2, figsize=(12, 6))\n",
    "#plot extraced nuclei and image withour extracted nuclei\n",
    "axes[0].imshow(activeImage, cmap='gray')\n",
    "axes[1].imshow(inactiveImage, cmap='gray')\n",
    "\n",
    "plt.show()"
   ]
  },
  {
   "cell_type": "code",
   "execution_count": null,
   "metadata": {},
   "outputs": [],
   "source": [
    "plt.hist(df.medianNorm, bins = 40, range = (0,0.1))"
   ]
  },
  {
   "cell_type": "code",
   "execution_count": null,
   "metadata": {},
   "outputs": [],
   "source": [
    "thresholdIntensity = 0.02\n",
    "thresholdfraction = 3\n",
    "df['thresholdfraction'] = thresholdfraction\n",
    "df['thresholdIntensity'] = thresholdIntensity\n",
    "df['positive'] = ((df['fractionNorm'] > thresholdfraction) & (df['medianNorm'] > thresholdIntensity)).astype(int)\n",
    "np.mean(df['positive'])\n",
    "\n",
    "dfSave = df"
   ]
  },
  {
   "cell_type": "code",
   "execution_count": 192,
   "metadata": {},
   "outputs": [],
   "source": [
    "dfSave.to_csv('/results/KI67/thresholdedValues/P10/aorta04/ki67Signal_P14_aorta04.csv', index=False)"
   ]
  },
  {
   "cell_type": "code",
   "execution_count": null,
   "metadata": {},
   "outputs": [],
   "source": [
    "filesNuclei = [f for f in listdir(segFolder) if isfile(join(segFolder, f)) if \"_seg.npy\" in f if \"._\" not in f]\n",
    "imageNumbers = []\n",
    "for file in filesNuclei:\n",
    "    imageNumbers.append(int(file.split(seg2)[0].split(seg1)[-1]))\n",
    "\n",
    "df['thresholdfraction'] = thresholdfraction\n",
    "df['thresholdIntensity'] = thresholdIntensity\n",
    "df['positive'] = ((df['fractionNorm'] > thresholdfraction) & (df['medianNorm'] > thresholdIntensity)).astype(int)\n",
    "dfSave = df[df['imageNumber'].isin(imageNumbers)]\n"
   ]
  },
  {
   "cell_type": "code",
   "execution_count": null,
   "metadata": {},
   "outputs": [],
   "source": [
    "dfSave.to_csv('/results/KI67/thresholdedValues/P21/aorta04/ki67Thresholded_P14_a4.csv', index=False)"
   ]
  }
 ],
 "metadata": {
  "kernelspec": {
   "display_name": "Python 3",
   "language": "python",
   "name": "python3"
  },
  "language_info": {
   "codemirror_mode": {
    "name": "ipython",
    "version": 3
   },
   "file_extension": ".py",
   "mimetype": "text/x-python",
   "name": "python",
   "nbconvert_exporter": "python",
   "pygments_lexer": "ipython3",
   "version": "3.8.0"
  }
 },
 "nbformat": 4,
 "nbformat_minor": 2
}

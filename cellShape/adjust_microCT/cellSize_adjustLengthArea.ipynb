{
 "cells": [
  {
   "cell_type": "code",
   "execution_count": null,
   "metadata": {},
   "outputs": [],
   "source": [
    "import pandas as pd\n",
    "import numpy as np"
   ]
  },
  {
   "cell_type": "code",
   "execution_count": 2,
   "metadata": {},
   "outputs": [],
   "source": [
    "imageMeasurements = '/Volumes/Aorta/aorta/results/general/numberNuc_Area_length_circumFINAL.csv'\n",
    "microCT = '/Volumes/Aorta/aorta/results/microCT/totalLengthAortas.csv'\n",
    "cellShapePath = '/Volumes/Aorta/aorta/results/cellSizeStatistics/allCellShapesUpdate.csv'"
   ]
  },
  {
   "cell_type": "code",
   "execution_count": 3,
   "metadata": {},
   "outputs": [],
   "source": [
    "dfImage = pd.read_csv(imageMeasurements)\n",
    "dfMicroCT = pd.read_csv(microCT)"
   ]
  },
  {
   "cell_type": "markdown",
   "metadata": {},
   "source": [
    "get average length from images and microCT length to calculate the microCT_length factor for each aorta"
   ]
  },
  {
   "cell_type": "code",
   "execution_count": null,
   "metadata": {},
   "outputs": [],
   "source": [
    "averages_by_ageImage = dfImage.groupby('age')['length'].transform('mean')\n",
    "averages_by_ageMicroCT = dfMicroCT.groupby('age')['length_1_8'].mean()\n",
    "averages_by_ageMicroCT = averages_by_ageMicroCT.reset_index()\n",
    "dfImage['factorAorta'] = dfImage['length'] / averages_by_ageImage\n",
    "merged_df = dfImage.merge(averages_by_ageMicroCT, on='age', suffixes=('_image', '_microCT'))"
   ]
  },
  {
   "cell_type": "markdown",
   "metadata": {},
   "source": [
    "transform length to estimated microCT length and microCT-adjusted area"
   ]
  },
  {
   "cell_type": "code",
   "execution_count": null,
   "metadata": {},
   "outputs": [],
   "source": [
    "merged_df['microCTLengthAdjusted'] = merged_df['factorAorta'] * merged_df['length_1_8'] * 1000\n",
    "merged_df['areaMicroCTAdjusted'] = merged_df['microCTLengthAdjusted'] * merged_df['circumference']"
   ]
  },
  {
   "cell_type": "markdown",
   "metadata": {},
   "source": [
    "calculate minor/major axis and area in micrometers/micrometers^2"
   ]
  },
  {
   "cell_type": "code",
   "execution_count": null,
   "metadata": {},
   "outputs": [],
   "source": [
    "dfCellShape = pd.read_csv(cellShapePath)\n",
    "#dCalibration: pixel to micrometers\n",
    "dCalibration = 0.8599901168205362 "
   ]
  },
  {
   "cell_type": "code",
   "execution_count": 7,
   "metadata": {},
   "outputs": [],
   "source": [
    "dfCellShape['major_axis_length_Micro'] = dfCellShape['major_axis_length']  * dCalibration\n",
    "dfCellShape['minor_axis_length_Micro'] = dfCellShape['minor_axis_length']  * dCalibration\n",
    "dfCellShape['area_Micro'] = dfCellShape['area']  * dCalibration * dCalibration"
   ]
  },
  {
   "cell_type": "markdown",
   "metadata": {},
   "source": [
    "apply microCT adjustment to major axis and cell area"
   ]
  },
  {
   "cell_type": "code",
   "execution_count": null,
   "metadata": {},
   "outputs": [],
   "source": [
    "dfCellShape['areaAdjusted'] = dfCellShape['major_axis_length_Micro'] * dfCellShape['minor_axis_length_Micro'] * 0.5\n",
    "dfCellShape['areafraction'] = dfCellShape['areaAdjusted']/dfCellShape['area_Micro']\n",
    "merged_dfFilter = merged_df[['age', 'aorta', 'length', 'microCTLengthAdjusted']]\n",
    "merged_dfCellShape = dfCellShape.merge(merged_dfFilter, on=['age', 'aorta'])\n",
    "merged_dfCellShape['major_axis_length_MicroCT'] = dfCellShape['major_axis_length_Micro'] * (merged_dfCellShape['microCTLengthAdjusted']/merged_dfCellShape['length'])\n",
    "\n",
    "merged_dfCellShape['areaAdjusted'] = merged_dfCellShape['factorArea'].mean() * merged_dfCellShape['minor_axis_length_Micro']*merged_dfCellShape['major_axis_length_Micro']\n",
    "merged_dfCellShape['areaAdjusted_MicroCT'] = merged_dfCellShape['factorArea'].mean() * merged_dfCellShape['minor_axis_length_Micro']*merged_dfCellShape['major_axis_length_MicroCT']\n",
    "\n",
    "merged_dfCellShape['aspectRatio'] = merged_dfCellShape['major_axis_length_MicroCT']/df['minor_axis_length_Micro']\n",
    "merged_dfCellShape['factorArea'] = merged_dfCellShape['area']/(merged_dfCellShape['minor_axis_length']*merged_dfCellShape['major_axis_length'])"
   ]
  },
  {
   "cell_type": "markdown",
   "metadata": {},
   "source": [
    "save dataframe"
   ]
  },
  {
   "cell_type": "code",
   "execution_count": 9,
   "metadata": {},
   "outputs": [],
   "source": [
    "merged_dfCellShape.to_csv('/Volumes/Aorta/aorta/results/cellSizeStatistics/allCellShapesUpdate_MicroCT.csv')\n",
    "merged_df.to_csv('/Volumes/Aorta/aorta/results/general/numberNuc_Area_length_circumFINAL_MicroCT.csv')"
   ]
  }
 ],
 "metadata": {
  "kernelspec": {
   "display_name": "Python 3",
   "language": "python",
   "name": "python3"
  },
  "language_info": {
   "codemirror_mode": {
    "name": "ipython",
    "version": 3
   },
   "file_extension": ".py",
   "mimetype": "text/x-python",
   "name": "python",
   "nbconvert_exporter": "python",
   "pygments_lexer": "ipython3",
   "version": "3.8.0"
  },
  "orig_nbformat": 4
 },
 "nbformat": 4,
 "nbformat_minor": 2
}

{
 "cells": [
  {
   "cell_type": "code",
   "execution_count": 66,
   "metadata": {},
   "outputs": [],
   "source": [
    "import pandas as pd\n",
    "import numpy as np"
   ]
  },
  {
   "cell_type": "code",
   "execution_count": 67,
   "metadata": {},
   "outputs": [],
   "source": [
    "df = pd.read_csv('/Volumes/Aorta/aorta/results/inducedRainbow/allClusterSizesRed.csv')"
   ]
  },
  {
   "cell_type": "code",
   "execution_count": 69,
   "metadata": {},
   "outputs": [],
   "source": [
    "def create_clonalArray(row):\n",
    "    result_array = np.concatenate([np.full(value, int(column)) for column, value in row.items()])\n",
    "    return result_array"
   ]
  },
  {
   "cell_type": "code",
   "execution_count": 70,
   "metadata": {},
   "outputs": [],
   "source": [
    "result_dict = {}\n",
    "for index, row in df.iterrows():\n",
    "    result_dict[str(row['age']) + '_' + str(row['aorta'])] = create_clonalArray(row[-15:])"
   ]
  },
  {
   "cell_type": "code",
   "execution_count": 71,
   "metadata": {},
   "outputs": [],
   "source": [
    "def ShannonLogN(x):\n",
    "    N = sum(x)\n",
    "    shannon = 0\n",
    "    for i in range(len(x)):\n",
    "        shannon += (x[i]/N) * np.log((x[i]/N))\n",
    "    return shannon, shannon/np.log(len(x))\n",
    "\n",
    "def ShannonLog2(x):\n",
    "    N = sum(x)\n",
    "    shannon = 0\n",
    "    for i in range(len(x)):\n",
    "        shannon += (x[i]/N) * np.log2((x[i]/N))\n",
    "    return shannon, shannon/np.log2(len(x))\n",
    "\n",
    "def TheilLogN(x):\n",
    "    average = np.mean(x)\n",
    "    theil = 0\n",
    "    n = len(x)\n",
    "    for i in range(n):\n",
    "        theil += (x[i]/average) * np.log((x[i]/average))\n",
    "    return (1/n) * theil\n",
    "\n",
    "def TheilLog2(x):\n",
    "    average = np.mean(x)\n",
    "    theil = 0\n",
    "    n = len(x)\n",
    "    for i in range(n):\n",
    "        theil += (x[i]/average) * np.log2((x[i]/average))\n",
    "    return (1/n) * theil\n",
    "\n",
    "def Simpson(x):\n",
    "    N = sum(x)\n",
    "    simpson = 0\n",
    "    for i in range(len(x)):\n",
    "        simpson += (x[i]/N)**2\n",
    "    return simpson\n",
    "\n",
    "def Hoover(x):\n",
    "    average = np.mean(x)\n",
    "    dividend = 0\n",
    "    divisor = np.sum(x)\n",
    "    n = len(x)\n",
    "    for i in range(n):\n",
    "        dividend += np.abs(x[i] - average)\n",
    "    return dividend/(2*divisor)\n",
    "\n",
    "\n",
    "def Gini_coefficient(x):\n",
    "    diffsum = 0\n",
    "    for i, xi in enumerate(x[:-1], 1):\n",
    "        diffsum += np.sum(np.abs(xi - x[i:]))\n",
    "    return diffsum / (len(x)**2 * np.mean(x))"
   ]
  },
  {
   "cell_type": "code",
   "execution_count": 75,
   "metadata": {},
   "outputs": [],
   "source": [
    "dfStats = pd.DataFrame()\n",
    "\n",
    "for key in result_dict:\n",
    "    age = key.split('_')[0]\n",
    "    aorta = key.split('_')[1]\n",
    "    gini = Gini_coefficient(result_dict[key])\n",
    "    shannonLogN, shannonLogNEquil = ShannonLogN(result_dict[key])\n",
    "    shannonLog2, shannonLog2Equil = ShannonLog2(result_dict[key])\n",
    "    theilLogN = TheilLogN(result_dict[key])\n",
    "    theilLog2 = TheilLog2(result_dict[key])\n",
    "    simpson = Simpson(result_dict[key])\n",
    "    hoover = Hoover(result_dict[key])\n",
    "    average = np.mean(result_dict[key])\n",
    "    cv = np.std(result_dict[key])/np.mean(result_dict[key])\n",
    "\n",
    "    dfStats = pd.concat([dfStats, pd.DataFrame({'age': age, 'aorta': aorta, 'average': average, 'cv': cv,\n",
    "                                                 'gini': gini, 'shannonLogN': shannonLogN,'shannonLog2': shannonLog2,\n",
    "                                                 'shannonLogNEquil': shannonLogNEquil,'shannonLog2Equil': shannonLog2Equil,\n",
    "                                                 'theilLogN': theilLogN, 'theilLogN': theilLogN,\n",
    "                                                 'simpson': simpson, 'hoover': hoover}, index = [0])])"
   ]
  },
  {
   "cell_type": "code",
   "execution_count": 77,
   "metadata": {},
   "outputs": [],
   "source": [
    "dfStats.to_csv('/Users/jones/Documents/MasterThesis/files/inducibleRainbow_DiversityStats.csv', index=False)"
   ]
  }
 ],
 "metadata": {
  "kernelspec": {
   "display_name": "Python 3",
   "language": "python",
   "name": "python3"
  },
  "language_info": {
   "codemirror_mode": {
    "name": "ipython",
    "version": 3
   },
   "file_extension": ".py",
   "mimetype": "text/x-python",
   "name": "python",
   "nbconvert_exporter": "python",
   "pygments_lexer": "ipython3",
   "version": "3.8.0"
  },
  "orig_nbformat": 4
 },
 "nbformat": 4,
 "nbformat_minor": 2
}

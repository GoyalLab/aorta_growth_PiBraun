{
 "cells": [
  {
   "cell_type": "code",
   "execution_count": 1,
   "metadata": {},
   "outputs": [],
   "source": [
    "import numpy as np\n",
    "import pandas as pd\n",
    "from skimage.measure import regionprops_table\n",
    "import os\n",
    "from os import listdir\n",
    "from os.path import isfile, join\n",
    "from skimage.measure import regionprops_table\n",
    "import matplotlib.pyplot as plt"
   ]
  },
  {
   "cell_type": "code",
   "execution_count": 4,
   "metadata": {},
   "outputs": [],
   "source": [
    "path = '/Volumes/Aorta/aorta/segmentations/cellSize/tiles/tilesCellSize/tissueAnalyzer/P03/aorta04'\n",
    "folders = [x[0] for x in os.walk(path)]\n",
    "folders = sorted(folders)"
   ]
  },
  {
   "cell_type": "code",
   "execution_count": 5,
   "metadata": {},
   "outputs": [],
   "source": [
    "dfSave = pd.DataFrame()\n",
    "for folder in folders:\n",
    "    os.chdir(folder)\n",
    "    files = [f for f in listdir(folder) if isfile(join(folder, f)) if \".DS_Store\" not in f if \".csv\" in f if \"._\" not in f]\n",
    "    for file in files:\n",
    "        aorta = folder.split(\"/\")[-1]\n",
    "        age = folder.split(\"/\")[-2]\n",
    "        df = pd.read_csv(join(folder, file))\n",
    "        lower_quantile = df.quantile(0.05)\n",
    "        upper_quantile = df.quantile(0.95)\n",
    "        dfFilter = df.loc[(df['area'] >= lower_quantile['area']) & (df['area'] <= upper_quantile['area']) &\n",
    "             (df['major_axis_length'] >= lower_quantile['major_axis_length']) & (df['major_axis_length'] <= upper_quantile['major_axis_length']) &\n",
    "             (df['minor_axis_length'] >= lower_quantile['minor_axis_length']) & (df['minor_axis_length'] <= upper_quantile['minor_axis_length'])]\n",
    "        \n",
    "        dfSave = pd.concat([dfSave, dfFilter])"
   ]
  },
  {
   "cell_type": "code",
   "execution_count": 6,
   "metadata": {},
   "outputs": [],
   "source": [
    "dfSave = dfSave.reset_index(drop=True)"
   ]
  },
  {
   "cell_type": "code",
   "execution_count": 7,
   "metadata": {},
   "outputs": [
    {
     "data": {
      "text/html": [
       "<div>\n",
       "<style scoped>\n",
       "    .dataframe tbody tr th:only-of-type {\n",
       "        vertical-align: middle;\n",
       "    }\n",
       "\n",
       "    .dataframe tbody tr th {\n",
       "        vertical-align: top;\n",
       "    }\n",
       "\n",
       "    .dataframe thead th {\n",
       "        text-align: right;\n",
       "    }\n",
       "</style>\n",
       "<table border=\"1\" class=\"dataframe\">\n",
       "  <thead>\n",
       "    <tr style=\"text-align: right;\">\n",
       "      <th></th>\n",
       "      <th>Unnamed: 0</th>\n",
       "      <th>label</th>\n",
       "      <th>area</th>\n",
       "      <th>centroid-0</th>\n",
       "      <th>centroid-1</th>\n",
       "      <th>major_axis_length</th>\n",
       "      <th>minor_axis_length</th>\n",
       "      <th>orientation</th>\n",
       "      <th>age</th>\n",
       "      <th>aorta</th>\n",
       "      <th>file</th>\n",
       "    </tr>\n",
       "  </thead>\n",
       "  <tbody>\n",
       "    <tr>\n",
       "      <th>0</th>\n",
       "      <td>0</td>\n",
       "      <td>9</td>\n",
       "      <td>449</td>\n",
       "      <td>668.218263</td>\n",
       "      <td>304.434298</td>\n",
       "      <td>39.432853</td>\n",
       "      <td>15.320935</td>\n",
       "      <td>-1.156281</td>\n",
       "      <td>P03</td>\n",
       "      <td>aorta04</td>\n",
       "      <td>cellSizeImage_P03_aorta04_cellSize3_NEWseg.npy</td>\n",
       "    </tr>\n",
       "    <tr>\n",
       "      <th>1</th>\n",
       "      <td>1</td>\n",
       "      <td>31</td>\n",
       "      <td>180</td>\n",
       "      <td>699.077778</td>\n",
       "      <td>698.972222</td>\n",
       "      <td>28.224857</td>\n",
       "      <td>9.060504</td>\n",
       "      <td>-1.437793</td>\n",
       "      <td>P03</td>\n",
       "      <td>aorta04</td>\n",
       "      <td>cellSizeImage_P03_aorta04_cellSize3_NEWseg.npy</td>\n",
       "    </tr>\n",
       "    <tr>\n",
       "      <th>2</th>\n",
       "      <td>2</td>\n",
       "      <td>36</td>\n",
       "      <td>198</td>\n",
       "      <td>705.131313</td>\n",
       "      <td>622.353535</td>\n",
       "      <td>25.449576</td>\n",
       "      <td>10.283996</td>\n",
       "      <td>-1.244311</td>\n",
       "      <td>P03</td>\n",
       "      <td>aorta04</td>\n",
       "      <td>cellSizeImage_P03_aorta04_cellSize3_NEWseg.npy</td>\n",
       "    </tr>\n",
       "    <tr>\n",
       "      <th>3</th>\n",
       "      <td>3</td>\n",
       "      <td>37</td>\n",
       "      <td>211</td>\n",
       "      <td>706.222749</td>\n",
       "      <td>671.331754</td>\n",
       "      <td>24.937856</td>\n",
       "      <td>11.618080</td>\n",
       "      <td>-1.266491</td>\n",
       "      <td>P03</td>\n",
       "      <td>aorta04</td>\n",
       "      <td>cellSizeImage_P03_aorta04_cellSize3_NEWseg.npy</td>\n",
       "    </tr>\n",
       "    <tr>\n",
       "      <th>4</th>\n",
       "      <td>5</td>\n",
       "      <td>69</td>\n",
       "      <td>300</td>\n",
       "      <td>739.103333</td>\n",
       "      <td>526.196667</td>\n",
       "      <td>41.143441</td>\n",
       "      <td>11.088776</td>\n",
       "      <td>-1.533795</td>\n",
       "      <td>P03</td>\n",
       "      <td>aorta04</td>\n",
       "      <td>cellSizeImage_P03_aorta04_cellSize3_NEWseg.npy</td>\n",
       "    </tr>\n",
       "    <tr>\n",
       "      <th>...</th>\n",
       "      <td>...</td>\n",
       "      <td>...</td>\n",
       "      <td>...</td>\n",
       "      <td>...</td>\n",
       "      <td>...</td>\n",
       "      <td>...</td>\n",
       "      <td>...</td>\n",
       "      <td>...</td>\n",
       "      <td>...</td>\n",
       "      <td>...</td>\n",
       "      <td>...</td>\n",
       "    </tr>\n",
       "    <tr>\n",
       "      <th>688</th>\n",
       "      <td>867</td>\n",
       "      <td>113</td>\n",
       "      <td>178</td>\n",
       "      <td>339.500000</td>\n",
       "      <td>244.719101</td>\n",
       "      <td>25.083683</td>\n",
       "      <td>9.634692</td>\n",
       "      <td>-1.398300</td>\n",
       "      <td>P03</td>\n",
       "      <td>aorta04</td>\n",
       "      <td>cellSizeImage_P03_aorta04_cellSize25_NEWseg.npy</td>\n",
       "    </tr>\n",
       "    <tr>\n",
       "      <th>689</th>\n",
       "      <td>868</td>\n",
       "      <td>122</td>\n",
       "      <td>247</td>\n",
       "      <td>354.603239</td>\n",
       "      <td>414.858300</td>\n",
       "      <td>33.108659</td>\n",
       "      <td>11.497801</td>\n",
       "      <td>1.466826</td>\n",
       "      <td>P03</td>\n",
       "      <td>aorta04</td>\n",
       "      <td>cellSizeImage_P03_aorta04_cellSize25_NEWseg.npy</td>\n",
       "    </tr>\n",
       "    <tr>\n",
       "      <th>690</th>\n",
       "      <td>870</td>\n",
       "      <td>134</td>\n",
       "      <td>338</td>\n",
       "      <td>371.062130</td>\n",
       "      <td>311.665680</td>\n",
       "      <td>36.298947</td>\n",
       "      <td>13.976026</td>\n",
       "      <td>1.440641</td>\n",
       "      <td>P03</td>\n",
       "      <td>aorta04</td>\n",
       "      <td>cellSizeImage_P03_aorta04_cellSize25_NEWseg.npy</td>\n",
       "    </tr>\n",
       "    <tr>\n",
       "      <th>691</th>\n",
       "      <td>871</td>\n",
       "      <td>149</td>\n",
       "      <td>486</td>\n",
       "      <td>393.242798</td>\n",
       "      <td>210.728395</td>\n",
       "      <td>62.618492</td>\n",
       "      <td>10.446537</td>\n",
       "      <td>-1.536959</td>\n",
       "      <td>P03</td>\n",
       "      <td>aorta04</td>\n",
       "      <td>cellSizeImage_P03_aorta04_cellSize25_NEWseg.npy</td>\n",
       "    </tr>\n",
       "    <tr>\n",
       "      <th>692</th>\n",
       "      <td>874</td>\n",
       "      <td>238</td>\n",
       "      <td>286</td>\n",
       "      <td>507.290210</td>\n",
       "      <td>450.227273</td>\n",
       "      <td>36.938545</td>\n",
       "      <td>10.248623</td>\n",
       "      <td>1.429666</td>\n",
       "      <td>P03</td>\n",
       "      <td>aorta04</td>\n",
       "      <td>cellSizeImage_P03_aorta04_cellSize25_NEWseg.npy</td>\n",
       "    </tr>\n",
       "  </tbody>\n",
       "</table>\n",
       "<p>693 rows × 11 columns</p>\n",
       "</div>"
      ],
      "text/plain": [
       "     Unnamed: 0  label  area  centroid-0  centroid-1  major_axis_length  \\\n",
       "0             0      9   449  668.218263  304.434298          39.432853   \n",
       "1             1     31   180  699.077778  698.972222          28.224857   \n",
       "2             2     36   198  705.131313  622.353535          25.449576   \n",
       "3             3     37   211  706.222749  671.331754          24.937856   \n",
       "4             5     69   300  739.103333  526.196667          41.143441   \n",
       "..          ...    ...   ...         ...         ...                ...   \n",
       "688         867    113   178  339.500000  244.719101          25.083683   \n",
       "689         868    122   247  354.603239  414.858300          33.108659   \n",
       "690         870    134   338  371.062130  311.665680          36.298947   \n",
       "691         871    149   486  393.242798  210.728395          62.618492   \n",
       "692         874    238   286  507.290210  450.227273          36.938545   \n",
       "\n",
       "     minor_axis_length  orientation  age    aorta  \\\n",
       "0            15.320935    -1.156281  P03  aorta04   \n",
       "1             9.060504    -1.437793  P03  aorta04   \n",
       "2            10.283996    -1.244311  P03  aorta04   \n",
       "3            11.618080    -1.266491  P03  aorta04   \n",
       "4            11.088776    -1.533795  P03  aorta04   \n",
       "..                 ...          ...  ...      ...   \n",
       "688           9.634692    -1.398300  P03  aorta04   \n",
       "689          11.497801     1.466826  P03  aorta04   \n",
       "690          13.976026     1.440641  P03  aorta04   \n",
       "691          10.446537    -1.536959  P03  aorta04   \n",
       "692          10.248623     1.429666  P03  aorta04   \n",
       "\n",
       "                                                file  \n",
       "0     cellSizeImage_P03_aorta04_cellSize3_NEWseg.npy  \n",
       "1     cellSizeImage_P03_aorta04_cellSize3_NEWseg.npy  \n",
       "2     cellSizeImage_P03_aorta04_cellSize3_NEWseg.npy  \n",
       "3     cellSizeImage_P03_aorta04_cellSize3_NEWseg.npy  \n",
       "4     cellSizeImage_P03_aorta04_cellSize3_NEWseg.npy  \n",
       "..                                               ...  \n",
       "688  cellSizeImage_P03_aorta04_cellSize25_NEWseg.npy  \n",
       "689  cellSizeImage_P03_aorta04_cellSize25_NEWseg.npy  \n",
       "690  cellSizeImage_P03_aorta04_cellSize25_NEWseg.npy  \n",
       "691  cellSizeImage_P03_aorta04_cellSize25_NEWseg.npy  \n",
       "692  cellSizeImage_P03_aorta04_cellSize25_NEWseg.npy  \n",
       "\n",
       "[693 rows x 11 columns]"
      ]
     },
     "execution_count": 7,
     "metadata": {},
     "output_type": "execute_result"
    }
   ],
   "source": []
  },
  {
   "cell_type": "code",
   "execution_count": 8,
   "metadata": {},
   "outputs": [],
   "source": [
    "dfSave.to_csv(\"/Volumes/Aorta/aorta/results/cellSizeStatistics/allCellShapesUpdateP03_a4.csv\", index=False)"
   ]
  },
  {
   "cell_type": "code",
   "execution_count": 8,
   "metadata": {},
   "outputs": [],
   "source": [
    "dfSave['age'] = dfSave['age'].str.replace(r'^P', '', regex=True).astype(int)"
   ]
  },
  {
   "cell_type": "code",
   "execution_count": null,
   "metadata": {},
   "outputs": [],
   "source": []
  },
  {
   "cell_type": "code",
   "execution_count": 2,
   "metadata": {},
   "outputs": [],
   "source": [
    "df = pd.read_csv('/Volumes/Aorta/aorta/segmentations/cellSize/tiles/tilesCellSize/tissueAnalyzer/P10/aorta01/resultsCellSize_P10_aorta01unfiltered.csv')"
   ]
  },
  {
   "cell_type": "code",
   "execution_count": 5,
   "metadata": {},
   "outputs": [
    {
     "data": {
      "text/plain": [
       "(array([4.290e+02, 1.836e+03, 2.483e+03, 2.033e+03, 1.317e+03, 8.240e+02,\n",
       "        6.130e+02, 4.260e+02, 2.780e+02, 1.860e+02, 1.570e+02, 1.090e+02,\n",
       "        7.600e+01, 5.400e+01, 4.100e+01, 2.500e+01, 3.000e+01, 1.800e+01,\n",
       "        1.100e+01, 1.100e+01, 1.200e+01, 6.000e+00, 8.000e+00, 7.000e+00,\n",
       "        0.000e+00, 3.000e+00, 3.000e+00, 4.000e+00, 2.000e+00, 1.000e+00,\n",
       "        0.000e+00, 1.000e+00, 1.000e+00, 1.000e+00, 1.000e+00, 0.000e+00,\n",
       "        0.000e+00, 2.000e+00, 1.000e+00, 0.000e+00, 0.000e+00, 1.000e+00,\n",
       "        0.000e+00, 0.000e+00, 1.000e+00, 0.000e+00, 1.000e+00, 0.000e+00,\n",
       "        0.000e+00, 0.000e+00, 1.000e+00, 0.000e+00, 1.000e+00, 0.000e+00,\n",
       "        0.000e+00, 0.000e+00, 0.000e+00, 0.000e+00, 0.000e+00, 0.000e+00,\n",
       "        0.000e+00, 0.000e+00, 0.000e+00, 0.000e+00, 0.000e+00, 0.000e+00,\n",
       "        0.000e+00, 0.000e+00, 0.000e+00, 0.000e+00, 0.000e+00, 0.000e+00,\n",
       "        1.000e+00, 0.000e+00, 0.000e+00, 0.000e+00, 0.000e+00, 0.000e+00,\n",
       "        0.000e+00, 0.000e+00, 0.000e+00, 0.000e+00, 0.000e+00, 0.000e+00,\n",
       "        0.000e+00, 0.000e+00, 0.000e+00, 0.000e+00, 0.000e+00, 0.000e+00,\n",
       "        0.000e+00, 0.000e+00, 0.000e+00, 0.000e+00, 0.000e+00, 0.000e+00,\n",
       "        0.000e+00, 0.000e+00, 0.000e+00, 1.000e+00]),\n",
       " array([   57.  ,   170.41,   283.82,   397.23,   510.64,   624.05,\n",
       "          737.46,   850.87,   964.28,  1077.69,  1191.1 ,  1304.51,\n",
       "         1417.92,  1531.33,  1644.74,  1758.15,  1871.56,  1984.97,\n",
       "         2098.38,  2211.79,  2325.2 ,  2438.61,  2552.02,  2665.43,\n",
       "         2778.84,  2892.25,  3005.66,  3119.07,  3232.48,  3345.89,\n",
       "         3459.3 ,  3572.71,  3686.12,  3799.53,  3912.94,  4026.35,\n",
       "         4139.76,  4253.17,  4366.58,  4479.99,  4593.4 ,  4706.81,\n",
       "         4820.22,  4933.63,  5047.04,  5160.45,  5273.86,  5387.27,\n",
       "         5500.68,  5614.09,  5727.5 ,  5840.91,  5954.32,  6067.73,\n",
       "         6181.14,  6294.55,  6407.96,  6521.37,  6634.78,  6748.19,\n",
       "         6861.6 ,  6975.01,  7088.42,  7201.83,  7315.24,  7428.65,\n",
       "         7542.06,  7655.47,  7768.88,  7882.29,  7995.7 ,  8109.11,\n",
       "         8222.52,  8335.93,  8449.34,  8562.75,  8676.16,  8789.57,\n",
       "         8902.98,  9016.39,  9129.8 ,  9243.21,  9356.62,  9470.03,\n",
       "         9583.44,  9696.85,  9810.26,  9923.67, 10037.08, 10150.49,\n",
       "        10263.9 , 10377.31, 10490.72, 10604.13, 10717.54, 10830.95,\n",
       "        10944.36, 11057.77, 11171.18, 11284.59, 11398.  ]),\n",
       " <BarContainer object of 100 artists>)"
      ]
     },
     "execution_count": 5,
     "metadata": {},
     "output_type": "execute_result"
    },
    {
     "data": {
      "image/png": "[encoded data removed]",
      "text/plain": [
       "<Figure size 432x288 with 1 Axes>"
      ]
     },
     "metadata": {
      "needs_background": "light"
     },
     "output_type": "display_data"
    }
   ],
   "source": [
    "plt.hist(df['area'], bins = 100)"
   ]
  },
  {
   "cell_type": "code",
   "execution_count": 11,
   "metadata": {},
   "outputs": [
    {
     "data": {
      "text/plain": [
       "1216.0"
      ]
     },
     "execution_count": 11,
     "metadata": {},
     "output_type": "execute_result"
    }
   ],
   "source": [
    "np.quantile(df['area'], 0.95)"
   ]
  },
  {
   "cell_type": "code",
   "execution_count": 12,
   "metadata": {},
   "outputs": [
    {
     "data": {
      "text/plain": [
       "11017"
      ]
     },
     "execution_count": 12,
     "metadata": {},
     "output_type": "execute_result"
    }
   ],
   "source": [
    "len(df)"
   ]
  },
  {
   "cell_type": "code",
   "execution_count": 13,
   "metadata": {},
   "outputs": [],
   "source": [
    "lower_quantile = df.quantile(0.05)\n",
    "upper_quantile = df.quantile(0.95)"
   ]
  },
  {
   "cell_type": "code",
   "execution_count": 18,
   "metadata": {},
   "outputs": [
    {
     "data": {
      "text/plain": [
       "20.577031992409214"
      ]
     },
     "execution_count": 18,
     "metadata": {},
     "output_type": "execute_result"
    }
   ],
   "source": [
    "upper_quantile['minor_axis_length']"
   ]
  },
  {
   "cell_type": "code",
   "execution_count": 14,
   "metadata": {},
   "outputs": [
    {
     "data": {
      "text/plain": [
       "label                 80.000000\n",
       "area                 184.000000\n",
       "centroid-0            59.419562\n",
       "centroid-1            78.354209\n",
       "major_axis_length     27.137459\n",
       "minor_axis_length      7.631375\n",
       "orientation           -1.552332\n",
       "Name: 0.05, dtype: float64"
      ]
     },
     "execution_count": 14,
     "metadata": {},
     "output_type": "execute_result"
    }
   ],
   "source": [
    "lower_quantile"
   ]
  },
  {
   "cell_type": "code",
   "execution_count": 27,
   "metadata": {},
   "outputs": [
    {
     "data": {
      "text/plain": [
       "(array([ 78.,  66., 100., 120., 135., 128., 184., 172., 190., 217., 205.,\n",
       "        232., 214., 212., 202., 261., 204., 220., 248., 199., 200., 226.,\n",
       "        209., 193., 219., 183., 161., 180., 166., 158., 161., 151., 148.,\n",
       "        128., 127., 115., 112., 138., 106.,  98., 112.,  97.,  75.,  99.,\n",
       "         85.,  82.,  84.,  61.,  70.,  64.,  67.,  65.,  56.,  54.,  70.,\n",
       "         57.,  53.,  48.,  47.,  52.,  41.,  38.,  28.,  46.,  36.,  35.,\n",
       "         28.,  33.,  42.,  25.,  28.,  26.,  25.,  23.,  21.,  23.,  17.,\n",
       "         21.,  20.,  19.,  12.,  17.,  13.,  11.,  10.,  12.,  11.,   6.,\n",
       "         12.,  17.,  13.,   7.,   8.,   6.,   5.,   8.,   5.,   6.,   5.,\n",
       "          7.]),\n",
       " array([ 184.  ,  194.32,  204.64,  214.96,  225.28,  235.6 ,  245.92,\n",
       "         256.24,  266.56,  276.88,  287.2 ,  297.52,  307.84,  318.16,\n",
       "         328.48,  338.8 ,  349.12,  359.44,  369.76,  380.08,  390.4 ,\n",
       "         400.72,  411.04,  421.36,  431.68,  442.  ,  452.32,  462.64,\n",
       "         472.96,  483.28,  493.6 ,  503.92,  514.24,  524.56,  534.88,\n",
       "         545.2 ,  555.52,  565.84,  576.16,  586.48,  596.8 ,  607.12,\n",
       "         617.44,  627.76,  638.08,  648.4 ,  658.72,  669.04,  679.36,\n",
       "         689.68,  700.  ,  710.32,  720.64,  730.96,  741.28,  751.6 ,\n",
       "         761.92,  772.24,  782.56,  792.88,  803.2 ,  813.52,  823.84,\n",
       "         834.16,  844.48,  854.8 ,  865.12,  875.44,  885.76,  896.08,\n",
       "         906.4 ,  916.72,  927.04,  937.36,  947.68,  958.  ,  968.32,\n",
       "         978.64,  988.96,  999.28, 1009.6 , 1019.92, 1030.24, 1040.56,\n",
       "        1050.88, 1061.2 , 1071.52, 1081.84, 1092.16, 1102.48, 1112.8 ,\n",
       "        1123.12, 1133.44, 1143.76, 1154.08, 1164.4 , 1174.72, 1185.04,\n",
       "        1195.36, 1205.68, 1216.  ]),\n",
       " <BarContainer object of 100 artists>)"
      ]
     },
     "execution_count": 27,
     "metadata": {},
     "output_type": "execute_result"
    },
    {
     "data": {
      "image/png": "[encoded data removed]",
      "text/plain": [
       "<Figure size 432x288 with 1 Axes>"
      ]
     },
     "metadata": {
      "needs_background": "light"
     },
     "output_type": "display_data"
    }
   ],
   "source": [
    "plt.hist(dfFilter[''], bins = 100)"
   ]
  },
  {
   "cell_type": "code",
   "execution_count": 21,
   "metadata": {},
   "outputs": [],
   "source": [
    "dfFilter = df.loc[(df['area'] >= lower_quantile['area']) & (df['area'] <= upper_quantile['area']) &\n",
    "             (df['major_axis_length'] >= lower_quantile['major_axis_length']) & (df['major_axis_length'] <= upper_quantile['major_axis_length']) &\n",
    "             (df['minor_axis_length'] >= lower_quantile['minor_axis_length']) & (df['minor_axis_length'] <= upper_quantile['minor_axis_length'])]"
   ]
  },
  {
   "cell_type": "code",
   "execution_count": 22,
   "metadata": {},
   "outputs": [
    {
     "data": {
      "text/plain": [
       "8930"
      ]
     },
     "execution_count": 22,
     "metadata": {},
     "output_type": "execute_result"
    }
   ],
   "source": [
    "len(dfFilter)"
   ]
  },
  {
   "cell_type": "code",
   "execution_count": 24,
   "metadata": {},
   "outputs": [
    {
     "data": {
      "text/plain": [
       "9918"
      ]
     },
     "execution_count": 24,
     "metadata": {},
     "output_type": "execute_result"
    }
   ],
   "source": [
    "len(df.loc[(df['area'] >= lower_quantile['area']) & (df['area'] <= upper_quantile['area']) ])"
   ]
  },
  {
   "cell_type": "code",
   "execution_count": 35,
   "metadata": {},
   "outputs": [
    {
     "data": {
      "text/plain": [
       "11.920324277199418"
      ]
     },
     "execution_count": 35,
     "metadata": {},
     "output_type": "execute_result"
    }
   ],
   "source": [
    "np.median(dfFilter['minor_axis_length'])"
   ]
  },
  {
   "cell_type": "code",
   "execution_count": 34,
   "metadata": {},
   "outputs": [
    {
     "data": {
      "text/plain": [
       "12.35931640596513"
      ]
     },
     "execution_count": 34,
     "metadata": {},
     "output_type": "execute_result"
    }
   ],
   "source": [
    "np.mean(dfFilter['minor_axis_length'])"
   ]
  },
  {
   "cell_type": "code",
   "execution_count": null,
   "metadata": {},
   "outputs": [],
   "source": []
  }
 ],
 "metadata": {
  "kernelspec": {
   "display_name": "Python 3",
   "language": "python",
   "name": "python3"
  },
  "language_info": {
   "codemirror_mode": {
    "name": "ipython",
    "version": 3
   },
   "file_extension": ".py",
   "mimetype": "text/x-python",
   "name": "python",
   "nbconvert_exporter": "python",
   "pygments_lexer": "ipython3",
   "version": "3.8.0"
  },
  "orig_nbformat": 4
 },
 "nbformat": 4,
 "nbformat_minor": 2
}

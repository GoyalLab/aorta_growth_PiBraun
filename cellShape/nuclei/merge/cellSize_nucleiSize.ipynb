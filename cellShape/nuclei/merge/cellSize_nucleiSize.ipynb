{
 "cells": [
  {
   "cell_type": "code",
   "execution_count": 1,
   "outputs": [],
   "source": [
    "import numpy as np\n",
    "import pandas as pd\n",
    "from skimage.measure import regionprops_table\n",
    "import os\n",
    "from os import listdir\n",
    "from os.path import isfile, join\n",
    "from skimage.measure import regionprops_table"
   ],
   "metadata": {
    "collapsed": false,
    "pycharm": {
     "name": "#%%\n"
    }
   }
  },
  {
   "cell_type": "code",
   "execution_count": 2,
   "outputs": [],
   "source": [
    "nucleiPath = \"/Volumes/Aortas/Aorta/segmentations/cellSize/nuclei\""
   ],
   "metadata": {
    "collapsed": false,
    "pycharm": {
     "name": "#%%\n"
    }
   }
  },
  {
   "cell_type": "code",
   "execution_count": 3,
   "outputs": [],
   "source": [
    "folders = [x[0] for x in os.walk(nucleiPath)]\n",
    "folders = sorted(folders)"
   ],
   "metadata": {
    "collapsed": false,
    "pycharm": {
     "name": "#%%\n"
    }
   }
  },
  {
   "cell_type": "code",
   "execution_count": 4,
   "outputs": [
    {
     "name": "stderr",
     "output_type": "stream",
     "text": [
      "\n",
      "KeyboardInterrupt\n",
      "\n"
     ]
    }
   ],
   "source": [
    "df = pd.DataFrame()\n",
    "for folder in folders:\n",
    "    os.chdir(folder)\n",
    "    files = [f for f in listdir(folder) if isfile(join(folder, f)) if \".DS_Store\" not in f if \".npy\" in f if \"._\" not in f]\n",
    "    for file in files:\n",
    "        aorta = folder.split(\"/\")[-1]\n",
    "        age = folder.split(\"/\")[-2]\n",
    "        nucleiMasks =  np.load(join(folder, file), allow_pickle=True).item()['masks']\n",
    "        prop_dict = regionprops_table(nucleiMasks, properties = ('label', 'area'))\n",
    "        dfHelp = pd.DataFrame(prop_dict)\n",
    "        dfHelp['age'] = age\n",
    "        dfHelp['aorta'] = aorta\n",
    "        dfHelp['file'] = file\n",
    "        df = df.append(dfHelp)\n",
    "\n",
    "df.to_csv(\"/Volumes/Aortas/Aorta/results/cellSize/areaNuclei.csv\", index=False)"
   ],
   "metadata": {
    "collapsed": false,
    "pycharm": {
     "name": "#%%\n"
    }
   }
  },
  {
   "cell_type": "code",
   "execution_count": 7,
   "outputs": [],
   "source": [],
   "metadata": {
    "collapsed": false,
    "pycharm": {
     "name": "#%%\n"
    }
   }
  }
 ],
 "metadata": {
  "kernelspec": {
   "name": "luisaproject",
   "language": "python",
   "display_name": "LuisaProject"
  },
  "language_info": {
   "codemirror_mode": {
    "name": "ipython",
    "version": 2
   },
   "file_extension": ".py",
   "mimetype": "text/x-python",
   "name": "python",
   "nbconvert_exporter": "python",
   "pygments_lexer": "ipython2",
   "version": "2.7.6"
  }
 },
 "nbformat": 4,
 "nbformat_minor": 0
}
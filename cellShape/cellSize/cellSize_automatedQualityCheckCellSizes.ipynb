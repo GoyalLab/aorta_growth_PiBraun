{
 "cells": [
  {
   "cell_type": "code",
   "execution_count": 1,
   "metadata": {
    "collapsed": false,
    "pycharm": {
     "name": "#%%\n"
    }
   },
   "outputs": [],
   "source": [
    "import numpy as np\n",
    "import pandas as pd\n",
    "from os.path import join\n",
    "from skimage.measure import regionprops_table\n",
    "import matplotlib.pyplot as plt\n",
    "import os\n",
    "from os import listdir\n",
    "from os.path import isfile, join"
   ]
  },
  {
   "cell_type": "code",
   "execution_count": 2,
   "metadata": {
    "collapsed": false,
    "pycharm": {
     "name": "#%%\n"
    }
   },
   "outputs": [],
   "source": [
    "#nuclei and cellSizePath\n",
    "nucleiPath = \"segmentations/cellSize/tiles/tilesNuclei\"\n",
    "cellSizePath = \"segmentations/cellSize/tiles/tilesCellSize\""
   ]
  },
  {
   "cell_type": "code",
   "execution_count": 3,
   "metadata": {
    "collapsed": false,
    "pycharm": {
     "name": "#%%\n"
    }
   },
   "outputs": [],
   "source": [
    "nucFolders = [x[0] for x in os.walk(nucleiPath)]\n",
    "nucFolders = sorted(nucFolders)"
   ]
  },
  {
   "cell_type": "code",
   "execution_count": 4,
   "metadata": {
    "collapsed": false,
    "pycharm": {
     "name": "#%%\n"
    }
   },
   "outputs": [],
   "source": [
    "def nucleiCheck(cytoPath, nucleiPath, borderpixel, accuracy):\n",
    "    \"\"\"\n",
    "    Check if nucleus is located inside a cell and process cytoplasm and nuclei masks.\n",
    "    \n",
    "    Parameters:\n",
    "    - cytoPath (str): Path to the cytoplasm mask file (npy format).\n",
    "    - nucleiPath (str): Path to the nuclei mask file (npy format).\n",
    "    - borderpixel (int): Number of pixels from the borders of the image to exclude from the analysis.\n",
    "    - accuracy (float): Minimum required coverage ratio of nucleus pixels in the cell for the nucleus to be considered inside.\n",
    "\n",
    "    Returns:\n",
    "    - cytoOutlines (ndarray): Updated outlines with identified nuclei masked.\n",
    "    - cytoMasks (ndarray): Updated masks indicating which cells have nuclei inside.\n",
    "    - imgCyto (ndarray): Cytoplasm image array.\n",
    "    \"\"\"\n",
    "     # Load segmentation data from provided paths\n",
    "    nucleiSegmentation = np.load(nucleiPath, allow_pickle=True).item()\n",
    "    cytoSegmentation = np.load(cytoPath, allow_pickle=True).item()\n",
    "     # Extract masks and images from segmentation data\n",
    "    nucleiMasks = nucleiSegmentation['masks']\n",
    "    cytoMasks = cytoSegmentation['masks']\n",
    "    cytoOutlines = cytoSegmentation['outlines']\n",
    "    imgCyto = cytoSegmentation['img']\n",
    "    # Generate excluded pixel ranges based on borderpixel parameter\n",
    "    excludeX = np.arange(imgCyto.shape[1] - borderpixel + 1 ,imgCyto.shape[1] +1)\n",
    "    downValues = np.arange(0,borderpixel)\n",
    "    excludeX = np.concatenate((downValues, excludeX))\n",
    "    excludeY = np.arange(imgCyto.shape[0] - borderpixel +1 ,imgCyto.shape[0] +1)\n",
    "    excludeY = np.concatenate((downValues, excludeY))\n",
    "    # nucleicheck\n",
    "    # Identify unique cell masks\n",
    "    uniqueCells = np.unique(cytoMasks)\n",
    "    for c in uniqueCells:\n",
    "        if c != 0:\n",
    "            # Get coordinates for current cell\n",
    "            cellCoord = np.where(cytoMasks==c)\n",
    "            checkY = np.isin(cellCoord[0],excludeY)\n",
    "            checkX = np.isin(cellCoord[1],excludeX)\n",
    "            # Exclude pixels at the image border\n",
    "            if np.any(checkY):\n",
    "                cytoMasks[cellCoord[0], cellCoord[1]] = 0\n",
    "                cytoOutlines[cellCoord[0], cellCoord[1]] = 0\n",
    "            elif np.any(checkX):\n",
    "                cytoMasks[cellCoord[0], cellCoord[1]] = 0\n",
    "                cytoOutlines[cellCoord[0], cellCoord[1]] = 0\n",
    "            else:\n",
    "                nuclei = nucleiMasks[cellCoord[0], cellCoord[1]]\n",
    "                uniqueNuclei = np.unique(nuclei)\n",
    "                # Conditions that determine if nuclei should be disregarded if less than a nucleus (or whole cell is nucleus) and if more than 3 nuclei \n",
    "                if len(np.unique(nuclei)) <=1:\n",
    "                    cytoMasks[cellCoord[0], cellCoord[1]] = 0\n",
    "                    cytoOutlines[cellCoord[0], cellCoord[1]] = 0\n",
    "                elif len(np.unique(nuclei)) > 3:\n",
    "                    cytoMasks[cellCoord[0], cellCoord[1]] = 0\n",
    "                    cytoOutlines[cellCoord[0], cellCoord[1]] = 0\n",
    "                else:\n",
    "                    coverage = 0.0\n",
    "                    for n in uniqueNuclei:\n",
    "                        if n!= 0:\n",
    "                            nucleiCoord = np.where(nucleiMasks==n)\n",
    "                            #How many pixels does this nucleus have:\n",
    "                            cytoNumber = cytoMasks[nucleiCoord[0], nucleiCoord[1]]\n",
    "                            #occurence of nucleus pixel in cyto\n",
    "                            cytoNumberNuclei = np.bincount(cytoNumber)[c]\n",
    "                            # max percentage of how many pixels of nuc are in cellSize\n",
    "                            if (cytoNumberNuclei/len(cytoNumber) > coverage):\n",
    "                                coverage = cytoNumberNuclei/len(cytoNumber)\n",
    "\n",
    "                    # Mask the cell if nucleus coverage is below acceptable accuracy threshold\n",
    "                    if (coverage < accuracy):\n",
    "                        cytoMasks[cellCoord[0], cellCoord[1]] = 0\n",
    "                        cytoOutlines[cellCoord[0], cellCoord[1]] = 0\n",
    "    return cytoOutlines, cytoMasks, imgCyto"
   ]
  },
  {
   "cell_type": "code",
   "execution_count": null,
   "metadata": {
    "collapsed": false,
    "pycharm": {
     "name": "#%%\n"
    }
   },
   "outputs": [],
   "source": [
    "dfResults = pd.DataFrame()\n",
    "dicNoValue = {\"age\":[],\"aorta\":[],\"file\":[]}\n",
    "# Iterate through folders containing nuclei segmentations\n",
    "for nucFolder in nucFolders:\n",
    "    os.chdir(nucFolder)\n",
    "    # Collect .npy files from the current nucleus folder, filtering out unnecessary files\n",
    "    files = [f for f in listdir(nucFolder) if isfile(join(nucFolder, f)) if \".DS_Store\" not in f if \".npy\" in f if \"._\" not in f]\n",
    "    for file in files:\n",
    "        # Extract metadata from the folder structure\n",
    "        aorta = nucFolder.split(\"/\")[-1]\n",
    "        age = nucFolder.split(\"/\")[-2]\n",
    "        # Check for the existence of cell size files and proceed with analysis\n",
    "        if os.path.exists(join(cellSizePath, age, aorta, file)):\n",
    "            cellSizeStartPathAna = join(cellSizePath, age, aorta, file)\n",
    "            cytoOutlines, cytoMasks, imgCyto = nucleiCheck(cellSizePathAna, join(nucFolder, file), 5, 0.75)\n",
    "            prop_dict = regionprops_table(cytoMasks, properties=['label','area', 'centroid', 'major_axis_length', 'minor_axis_length', \"orientation\"])\n",
    "            # Extract and compile properties of identified cells\n",
    "            dfHelp = pd.DataFrame(prop_dict)\n",
    "            dfHelp['age'] = age\n",
    "            dfHelp['aorta'] = aorta\n",
    "            dfHelp['file'] = file\n",
    "            dfResults = dfResults.append(dfHelp)\n",
    "        else:\n",
    "             # Store cases without corresponding cell size segmentations for later review\n",
    "            dicNoValue[\"age\"].append(age)\n",
    "            dicNoValue[\"aorta\"].append(aorta)\n",
    "            dicNoValue[\"file\"].append(file)"
   ]
  },
  {
   "cell_type": "code",
   "execution_count": 7,
   "metadata": {
    "collapsed": false,
    "pycharm": {
     "name": "#%%\n"
    }
   },
   "outputs": [],
   "source": [
    "dfResults.to_csv(\"results/cellShapesNew.csv\")"
   ]
  }
 ],
 "metadata": {
  "kernelspec": {
   "display_name": "LuisaProject",
   "language": "python",
   "name": "luisaproject"
  },
  "language_info": {
   "codemirror_mode": {
    "name": "ipython",
    "version": 2
   },
   "file_extension": ".py",
   "mimetype": "text/x-python",
   "name": "python",
   "nbconvert_exporter": "python",
   "pygments_lexer": "ipython2",
   "version": "2.7.6"
  }
 },
 "nbformat": 4,
 "nbformat_minor": 0
}
